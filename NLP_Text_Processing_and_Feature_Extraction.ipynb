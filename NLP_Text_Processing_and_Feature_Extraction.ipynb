{
  "nbformat": 4,
  "nbformat_minor": 0,
  "metadata": {
    "kernelspec": {
      "display_name": "Python 3",
      "language": "python",
      "name": "python3"
    },
    "language_info": {
      "codemirror_mode": {
        "name": "ipython",
        "version": 3
      },
      "file_extension": ".py",
      "mimetype": "text/x-python",
      "name": "python",
      "nbconvert_exporter": "python",
      "pygments_lexer": "ipython3",
      "version": "3.8.3"
    },
    "colab": {
      "name": "NLP-Text Processing and Feature Extraction.ipynb",
      "provenance": [],
      "collapsed_sections": []
    }
  },
  "cells": [
    {
      "cell_type": "markdown",
      "metadata": {
        "id": "q7DrKZzhbISO"
      },
      "source": [
        "Get Tweets from this URL [https://www.goodreads.com/author/quotes/399523.Imran_Khan](https://www.goodreads.com/author/quotes/399523.Imran_Khan)\r\n",
        "\r\n",
        "1. Scrap the website and extract the Imran khan's quotes from the given link. https://www.goodreads.com/author/quotes/399523.Imran_Khan\r\n",
        "2. Quotes counts. \r\n",
        "3. Sentence counts \r\n",
        "4. Word counts \r\n",
        "5. Count the occurrences of \"a, an and the\" \r\n",
        "6. Characters count \r\n",
        "7. Stop words count \r\n",
        "8. Upper case word counts \r\n",
        "9. Common Occurring word count \r\n",
        "10. Lower case \r\n",
        "11. Contraction to Expansion \r\n",
        "12. Removal of accented characters \r\n",
        "13. Removal of Stop Words \r\n",
        "14. Common Occurring words Removal \r\n",
        "15. Rare Occurring words Removal \r\n",
        "16. Word Cloud \r\n",
        "17. Spelling Correction \r\n",
        "18. Tokenization \r\n",
        "19. Lemmatization \r\n",
        "20. Detecting Entities using NER \r\n",
        "21. Noun Detection \r\n",
        "22. Language Detection \r\n",
        "23. Sentence Translation (English to Urdu) \r\n",
        "24. Sentiment of each quote \r\n",
        "25. Check the similarity in quote.\r\n"
      ]
    },
    {
      "cell_type": "markdown",
      "metadata": {
        "id": "NvgKpe3_xqts"
      },
      "source": [
        "### Scrapping Quotes from the URL"
      ]
    },
    {
      "cell_type": "code",
      "metadata": {
        "id": "tQPFFXjtvFAw"
      },
      "source": [
        "import urllib.request\r\n",
        "from html.parser import HTMLParser\r\n",
        "import re"
      ],
      "execution_count": 106,
      "outputs": []
    },
    {
      "cell_type": "code",
      "metadata": {
        "id": "u-Q87VwJvjKa"
      },
      "source": [
        "class QuotesParser(HTMLParser):\r\n",
        "    def __init__(self):\r\n",
        "        HTMLParser.__init__(self)\r\n",
        "        self.recording = 0\r\n",
        "        self.data = []\r\n",
        "\r\n",
        "    def handle_starttag(self, tag, attributes):\r\n",
        "        if tag != 'div':\r\n",
        "            return\r\n",
        "        if self.recording:\r\n",
        "            self.recording += 1\r\n",
        "            return\r\n",
        "        for name, value in attributes:\r\n",
        "            if name == 'class' and value == 'quoteText':\r\n",
        "                break\r\n",
        "        else:\r\n",
        "            return\r\n",
        "        self.recording = 1\r\n",
        "\r\n",
        "    def handle_endtag(self, tag):\r\n",
        "        if tag == 'div' and self.recording:\r\n",
        "            self.recording -= 1\r\n",
        "\r\n",
        "    def handle_data(self, data):\r\n",
        "        if self.recording:\r\n",
        "            self.data.append(data)"
      ],
      "execution_count": 107,
      "outputs": []
    },
    {
      "cell_type": "code",
      "metadata": {
        "id": "QIYgHpH3vjHz"
      },
      "source": [
        "# Total Number of pages\r\n",
        "pages = 2\r\n",
        "\r\n",
        "# Raw HTML Data\r\n",
        "html_list = []\r\n",
        "\r\n",
        "# Raw Quotes Data\r\n",
        "raw_quotes = []\r\n",
        "\r\n",
        "\r\n",
        "# Quote List\r\n",
        "quotes = []"
      ],
      "execution_count": 108,
      "outputs": []
    },
    {
      "cell_type": "code",
      "metadata": {
        "id": "IsIFbwbzvjER"
      },
      "source": [
        "for page_num in range(1, pages+1):\r\n",
        "    url_to_parse = f'https://www.goodreads.com/author/quotes/399523.Imran_Khan?page={page_num}'\r\n",
        "\r\n",
        "    url = urllib.request.urlopen(url_to_parse)\r\n",
        "    html_list.append(url.read().decode())\r\n",
        "    url.close()"
      ],
      "execution_count": 109,
      "outputs": []
    },
    {
      "cell_type": "code",
      "metadata": {
        "id": "xqL9S3XBvjAy"
      },
      "source": [
        "for html in html_list:\r\n",
        "    quotesParser = QuotesParser()\r\n",
        "\r\n",
        "    quotesParser.feed(html)\r\n",
        "    quotesParser.close()\r\n",
        "\r\n",
        "    raw_quotes.extend(quotesParser.data)"
      ],
      "execution_count": 110,
      "outputs": []
    },
    {
      "cell_type": "code",
      "metadata": {
        "id": "Ha2NQ751vi9x"
      },
      "source": [
        "# Cleaning quotes raw_data\r\n",
        "temp = []\r\n",
        "holder = []\r\n",
        "\r\n",
        "for item in raw_quotes:\r\n",
        "    if(len(holder) == 0):\r\n",
        "        if(item.find('“') != -1 and item.find('”') != -1):\r\n",
        "            temp.append(item)\r\n",
        "        elif(item.find('“') != -1 and item.find('”') == -1):\r\n",
        "            holder.append(item)\r\n",
        "    else:\r\n",
        "        if(item.find('”') != -1):\r\n",
        "            holder.append(item)\r\n",
        "            temp.append(\"\\n\".join(holder))\r\n",
        "            holder = []\r\n",
        "        else:\r\n",
        "            holder.append(item)\r\n",
        "            \r\n",
        "for quote in temp:\r\n",
        "    start = quote.index('“')\r\n",
        "    end = quote.index('”')\r\n",
        "    quotes.append(quote[start+1:end])"
      ],
      "execution_count": 111,
      "outputs": []
    },
    {
      "cell_type": "code",
      "metadata": {
        "colab": {
          "base_uri": "https://localhost:8080/"
        },
        "id": "D42vrFQlp-Fo",
        "outputId": "8dba3a2a-ef6e-4d80-da8e-d73d9c304feb"
      },
      "source": [
        "quotes"
      ],
      "execution_count": 112,
      "outputs": [
        {
          "output_type": "execute_result",
          "data": {
            "text/plain": [
              "['It is not defeat that destroys you,it is being demoralized by defeat that destroy you.',\n",
              " 'The more you study, the more you know; how less you know.',\n",
              " 'I have always believed that one should not be scared of losing,I think that really is the key.',\n",
              " \"Never give up, no matter how hard life gets no matter how much pain you feel. Pain will eventually subside, nothing remains forever, so keep going and don't give up.\",\n",
              " 'Lack of rule of law is the main reason Pakistan could not join the ranks of progressive nations.',\n",
              " 'Are we Pakistanis, children of a lesser God? Is there one law for the west and one for us? Is our democracy supposed to be only democracy if you give us a no objection certificate?',\n",
              " 'Compromise for your Dream but NEVER Compromise on your Dream.',\n",
              " 'We must speak the truth if we are to be a great nation',\n",
              " 'Crime should not pay, it must be punished. Unfortunately, in Pakistan big crimes do get rewarded.',\n",
              " 'Leader leads people. Leader does not follow public opinion',\n",
              " 'Faith without wisdom and knowledge could produce bigots completely lacking in compassion and tolerance.',\n",
              " 'Holy Prophet PBUH promulgated a justice system regardless of status of people, yet in Pak the powerful easily escapes.',\n",
              " 'Mothers train your children to only Speak Truth',\n",
              " 'There is so much debate about moderate and radical Islam but there is only one Islam.',\n",
              " 'Imran Khan asked Pakistanis of four things at the Historic Lahore Jalsa. \\n1. We shall never lie and always speak the truth.\\n2. Leave our ego’s behind and only think of this Nation, there are 11 crore Pakistanis living beneath poverty line. \\n3. We shall be brave and break the shackles of fear.\\n4. We have to bring Justice to this society, even if our friends and relatives do injustice, we shall be fair and bring them to Justice.',\n",
              " \"I felt like the Islamic scholar Muhammad Abduh (1849-1905), who said on his return from a trip to Europe to his homeland Egypt 'I saw no Muslims in Europe but I saw a lot of Islam,' and of his homeland 'There are a lot of Muslims here but no Islam.\",\n",
              " 'Certain folks start playing Sindh Card despite having ravaged the life of the common Sindhi.',\n",
              " 'My Pakistanis, you have not left me alone and I promise, I will never leave you alone in sha Allah',\n",
              " \"When I was older, I found Iqbal's work hugely inspirational. He argued against an unquestioning acceptance of Western democracy as the self-governing model, and instead suggested that by following the rules of Islam a society would tend naturally towards social justice, tolerance, peace and equality. Iqbal's interpretation of Islam differs very widely from the narrow meaning that is sometimes given to it. For Iqbal, Islam is not just the name for certain beliefs and forms of worship. The difference between a Muslim and a non-Muslim is not merely a theological one - it is a difference of a fundamental attitude towards life.\",\n",
              " 'Truth is the power that will resolve our problems.',\n",
              " 'Allah exalts whom he wills!',\n",
              " 'Bravery is standing with the truth and right',\n",
              " 'There are greater goals in life than material and sensual pleasures',\n",
              " 'The war on terror is the most insane and immoral war of all time. The Americans are doing what they did in Vietnam, bombing villages. But how can a civilised nation do this? How can you can eliminate suspects, their wives, their children, their families, their neighbours? How can you justify this?',\n",
              " 'I want you all to stand like the Muslims who stood with La ilaaha ilalla for Truth and Right',\n",
              " \"Say goodbye to the IMF once and for all as the IMF's conditions enriches the rich and impoverishes the poor.\",\n",
              " 'Good deeds must be rewarded by the system and crimes be punished - this is the essence of meritocracy.',\n",
              " 'Prophet (PBUH) considered the ink of a scholar to be holier than the blood of a martyr.',\n",
              " 'Ethnic-based politics is being used to exhort people, to serve own ends - this is anathema to concept of nationalism.',\n",
              " 'When you remove the concept of reward and punishment on merit, the result is the utter destruction of social fabric.',\n",
              " 'I wanted to be an outstanding player, that was my ambition.',\n",
              " 'When I announced my party, Tehreek-e-Insaf (Movement for Justice) on 25 April 1996, I had lost all fear of dying.',\n",
              " \"A condemned poor man, if steals to feed his starving kid, is slammed into prison. Contrast this to a rich man's crime.\",\n",
              " 'الله تعالی نے انسان کے هاته مین نیت اور کوشش دی هے کامیابی وه دیتا هے',\n",
              " 'Faith should be about encouraging all that is noble in a human being.',\n",
              " 'Leader follows his ideology, Leader does not follow his relatives and friends',\n",
              " \"According to the UNDP (United Nations Development Programme), 54 per cent of Pakistanis face 'multi-dimentional deprivation'. meaning they lack access to proper education and health facilities and a decent standard of living. Almost two-thirds of the country lives on less than US$2 a day and about 40 per cent of Pakistani children suffer from chronic malnutrition. How can Pakistan be called an Islamic society?\",\n",
              " \"Imran Khan says 'End your ego, think of nation\",\n",
              " 'Iqbal not only conceived of a self-governing Muslim state, his passionate voice awakened and activated Indian Muslims, motivating them not only to strive to free themselves from the bondage of imperialism and colonialism, but also to challenge other forms of totalitarian control. Believing fervently in human equality and the right of human beings to dignity, justice and freedom, Iqbal empowered the dis-empowered to stand up and be counted.',\n",
              " 'Starting a war is in our hands, it is easy. But ending a war, that is not in our hands and no one knows what will happen.']"
            ]
          },
          "metadata": {
            "tags": []
          },
          "execution_count": 112
        }
      ]
    },
    {
      "cell_type": "code",
      "metadata": {
        "colab": {
          "base_uri": "https://localhost:8080/"
        },
        "id": "Q_u3O5aMvi6Q",
        "outputId": "a91d3d3c-6c10-4a68-e817-2930d3937d39"
      },
      "source": [
        "print(len(quotes))"
      ],
      "execution_count": 113,
      "outputs": [
        {
          "output_type": "stream",
          "text": [
            "40\n"
          ],
          "name": "stdout"
        }
      ]
    },
    {
      "cell_type": "markdown",
      "metadata": {
        "id": "dQLITSHUvsB-"
      },
      "source": [
        "---"
      ]
    },
    {
      "cell_type": "markdown",
      "metadata": {
        "id": "hW5yA837xxN0"
      },
      "source": [
        "### Preparing the Quotes for NLP Tasks"
      ]
    },
    {
      "cell_type": "code",
      "metadata": {
        "id": "cdjf30Dfx1Ua"
      },
      "source": [
        "word_count = dict()\r\n",
        "word_list = list()\r\n",
        "lines = list()\r\n",
        "sentences = list()\r\n",
        "\r\n",
        "for quote in quotes:\r\n",
        "  # removing numbers from the start of lines in ordered lists\r\n",
        "  quote_lines = quote.split('\\n')\r\n",
        "  for index, line in enumerate(quote_lines):\r\n",
        "    modified_line = re.sub('^[0-9]+\\. ', '', line)\r\n",
        "    modified_line = modified_line.replace(',', ', ')\r\n",
        "    modified_line = modified_line.replace('  ', ' ')\r\n",
        "    quote_lines[index] = modified_line\r\n",
        "\r\n",
        "    # Extracting sentences from line\r\n",
        "    sentences.extend(modified_line.split('.'))\r\n",
        "  \r\n",
        "  # Storing all lines in spereate list\r\n",
        "  lines.extend(quote_lines)\r\n",
        "\r\n",
        "\r\n",
        "  # Creating a word counte dictionary\r\n",
        "  words = (\"\\n\".join(quote_lines)).split()\r\n",
        "  for word in words:\r\n",
        "    word = word.replace(',', '')\r\n",
        "    word = word.replace('.', '')\r\n",
        "    word = word.replace(':', '')\r\n",
        "    word = word.replace(';', '')\r\n",
        "\r\n",
        "    word_list.append(word)\r\n",
        "    \r\n",
        "    if word in word_count:\r\n",
        "      word_count[word] += 1\r\n",
        "    else:\r\n",
        "      word_count[word] = 1"
      ],
      "execution_count": 114,
      "outputs": []
    },
    {
      "cell_type": "code",
      "metadata": {
        "id": "2lvD-5ql57FF"
      },
      "source": [
        "# Cleaning the sentences list\r\n",
        "def text_cleaner(text):\r\n",
        "    return text.strip()\r\n",
        "\r\n",
        "sentences = filter(len, sentences)\r\n",
        "sentences = filter(lambda item: (item != ' '), sentences)\r\n",
        "sentences = list(map(text_cleaner, sentences))\r\n",
        "# sentences"
      ],
      "execution_count": 115,
      "outputs": []
    },
    {
      "cell_type": "code",
      "metadata": {
        "id": "-i8aSz7--joO"
      },
      "source": [
        "all_quotes_string = '. '.join(sentences)"
      ],
      "execution_count": 116,
      "outputs": []
    },
    {
      "cell_type": "code",
      "metadata": {
        "colab": {
          "base_uri": "https://localhost:8080/"
        },
        "id": "ha5CVnFJDhOx",
        "outputId": "1c1db24c-fc31-4192-d18b-95afd7b7d5a9"
      },
      "source": [
        "# Library import and Stop_words\r\n",
        "import nltk\r\n",
        "nltk.download(\"all\")"
      ],
      "execution_count": 117,
      "outputs": [
        {
          "output_type": "stream",
          "text": [
            "[nltk_data] Downloading collection 'all'\n",
            "[nltk_data]    | \n",
            "[nltk_data]    | Downloading package abc to /root/nltk_data...\n",
            "[nltk_data]    |   Package abc is already up-to-date!\n",
            "[nltk_data]    | Downloading package alpino to /root/nltk_data...\n",
            "[nltk_data]    |   Package alpino is already up-to-date!\n",
            "[nltk_data]    | Downloading package biocreative_ppi to\n",
            "[nltk_data]    |     /root/nltk_data...\n",
            "[nltk_data]    |   Package biocreative_ppi is already up-to-date!\n",
            "[nltk_data]    | Downloading package brown to /root/nltk_data...\n",
            "[nltk_data]    |   Package brown is already up-to-date!\n",
            "[nltk_data]    | Downloading package brown_tei to /root/nltk_data...\n",
            "[nltk_data]    |   Package brown_tei is already up-to-date!\n",
            "[nltk_data]    | Downloading package cess_cat to /root/nltk_data...\n",
            "[nltk_data]    |   Package cess_cat is already up-to-date!\n",
            "[nltk_data]    | Downloading package cess_esp to /root/nltk_data...\n",
            "[nltk_data]    |   Package cess_esp is already up-to-date!\n",
            "[nltk_data]    | Downloading package chat80 to /root/nltk_data...\n",
            "[nltk_data]    |   Package chat80 is already up-to-date!\n",
            "[nltk_data]    | Downloading package city_database to\n",
            "[nltk_data]    |     /root/nltk_data...\n",
            "[nltk_data]    |   Package city_database is already up-to-date!\n",
            "[nltk_data]    | Downloading package cmudict to /root/nltk_data...\n",
            "[nltk_data]    |   Package cmudict is already up-to-date!\n",
            "[nltk_data]    | Downloading package comparative_sentences to\n",
            "[nltk_data]    |     /root/nltk_data...\n",
            "[nltk_data]    |   Package comparative_sentences is already up-to-\n",
            "[nltk_data]    |       date!\n",
            "[nltk_data]    | Downloading package comtrans to /root/nltk_data...\n",
            "[nltk_data]    |   Package comtrans is already up-to-date!\n",
            "[nltk_data]    | Downloading package conll2000 to /root/nltk_data...\n",
            "[nltk_data]    |   Package conll2000 is already up-to-date!\n",
            "[nltk_data]    | Downloading package conll2002 to /root/nltk_data...\n",
            "[nltk_data]    |   Package conll2002 is already up-to-date!\n",
            "[nltk_data]    | Downloading package conll2007 to /root/nltk_data...\n",
            "[nltk_data]    |   Package conll2007 is already up-to-date!\n",
            "[nltk_data]    | Downloading package crubadan to /root/nltk_data...\n",
            "[nltk_data]    |   Package crubadan is already up-to-date!\n",
            "[nltk_data]    | Downloading package dependency_treebank to\n",
            "[nltk_data]    |     /root/nltk_data...\n",
            "[nltk_data]    |   Package dependency_treebank is already up-to-date!\n",
            "[nltk_data]    | Downloading package dolch to /root/nltk_data...\n",
            "[nltk_data]    |   Package dolch is already up-to-date!\n",
            "[nltk_data]    | Downloading package europarl_raw to\n",
            "[nltk_data]    |     /root/nltk_data...\n",
            "[nltk_data]    |   Package europarl_raw is already up-to-date!\n",
            "[nltk_data]    | Downloading package floresta to /root/nltk_data...\n",
            "[nltk_data]    |   Package floresta is already up-to-date!\n",
            "[nltk_data]    | Downloading package framenet_v15 to\n",
            "[nltk_data]    |     /root/nltk_data...\n",
            "[nltk_data]    |   Package framenet_v15 is already up-to-date!\n",
            "[nltk_data]    | Downloading package framenet_v17 to\n",
            "[nltk_data]    |     /root/nltk_data...\n",
            "[nltk_data]    |   Package framenet_v17 is already up-to-date!\n",
            "[nltk_data]    | Downloading package gazetteers to /root/nltk_data...\n",
            "[nltk_data]    |   Package gazetteers is already up-to-date!\n",
            "[nltk_data]    | Downloading package genesis to /root/nltk_data...\n",
            "[nltk_data]    |   Package genesis is already up-to-date!\n",
            "[nltk_data]    | Downloading package gutenberg to /root/nltk_data...\n",
            "[nltk_data]    |   Package gutenberg is already up-to-date!\n",
            "[nltk_data]    | Downloading package ieer to /root/nltk_data...\n",
            "[nltk_data]    |   Package ieer is already up-to-date!\n",
            "[nltk_data]    | Downloading package inaugural to /root/nltk_data...\n",
            "[nltk_data]    |   Package inaugural is already up-to-date!\n",
            "[nltk_data]    | Downloading package indian to /root/nltk_data...\n",
            "[nltk_data]    |   Package indian is already up-to-date!\n",
            "[nltk_data]    | Downloading package jeita to /root/nltk_data...\n",
            "[nltk_data]    |   Package jeita is already up-to-date!\n",
            "[nltk_data]    | Downloading package kimmo to /root/nltk_data...\n",
            "[nltk_data]    |   Package kimmo is already up-to-date!\n",
            "[nltk_data]    | Downloading package knbc to /root/nltk_data...\n",
            "[nltk_data]    |   Package knbc is already up-to-date!\n",
            "[nltk_data]    | Downloading package lin_thesaurus to\n",
            "[nltk_data]    |     /root/nltk_data...\n",
            "[nltk_data]    |   Package lin_thesaurus is already up-to-date!\n",
            "[nltk_data]    | Downloading package mac_morpho to /root/nltk_data...\n",
            "[nltk_data]    |   Package mac_morpho is already up-to-date!\n",
            "[nltk_data]    | Downloading package machado to /root/nltk_data...\n",
            "[nltk_data]    |   Package machado is already up-to-date!\n",
            "[nltk_data]    | Downloading package masc_tagged to /root/nltk_data...\n",
            "[nltk_data]    |   Package masc_tagged is already up-to-date!\n",
            "[nltk_data]    | Downloading package moses_sample to\n",
            "[nltk_data]    |     /root/nltk_data...\n",
            "[nltk_data]    |   Package moses_sample is already up-to-date!\n",
            "[nltk_data]    | Downloading package movie_reviews to\n",
            "[nltk_data]    |     /root/nltk_data...\n",
            "[nltk_data]    |   Package movie_reviews is already up-to-date!\n",
            "[nltk_data]    | Downloading package names to /root/nltk_data...\n",
            "[nltk_data]    |   Package names is already up-to-date!\n",
            "[nltk_data]    | Downloading package nombank.1.0 to /root/nltk_data...\n",
            "[nltk_data]    |   Package nombank.1.0 is already up-to-date!\n",
            "[nltk_data]    | Downloading package nps_chat to /root/nltk_data...\n",
            "[nltk_data]    |   Package nps_chat is already up-to-date!\n",
            "[nltk_data]    | Downloading package omw to /root/nltk_data...\n",
            "[nltk_data]    |   Package omw is already up-to-date!\n",
            "[nltk_data]    | Downloading package opinion_lexicon to\n",
            "[nltk_data]    |     /root/nltk_data...\n",
            "[nltk_data]    |   Package opinion_lexicon is already up-to-date!\n",
            "[nltk_data]    | Downloading package paradigms to /root/nltk_data...\n",
            "[nltk_data]    |   Package paradigms is already up-to-date!\n",
            "[nltk_data]    | Downloading package pil to /root/nltk_data...\n",
            "[nltk_data]    |   Package pil is already up-to-date!\n",
            "[nltk_data]    | Downloading package pl196x to /root/nltk_data...\n",
            "[nltk_data]    |   Package pl196x is already up-to-date!\n",
            "[nltk_data]    | Downloading package ppattach to /root/nltk_data...\n",
            "[nltk_data]    |   Package ppattach is already up-to-date!\n",
            "[nltk_data]    | Downloading package problem_reports to\n",
            "[nltk_data]    |     /root/nltk_data...\n",
            "[nltk_data]    |   Package problem_reports is already up-to-date!\n",
            "[nltk_data]    | Downloading package propbank to /root/nltk_data...\n",
            "[nltk_data]    |   Package propbank is already up-to-date!\n",
            "[nltk_data]    | Downloading package ptb to /root/nltk_data...\n",
            "[nltk_data]    |   Package ptb is already up-to-date!\n",
            "[nltk_data]    | Downloading package product_reviews_1 to\n",
            "[nltk_data]    |     /root/nltk_data...\n",
            "[nltk_data]    |   Package product_reviews_1 is already up-to-date!\n",
            "[nltk_data]    | Downloading package product_reviews_2 to\n",
            "[nltk_data]    |     /root/nltk_data...\n",
            "[nltk_data]    |   Package product_reviews_2 is already up-to-date!\n",
            "[nltk_data]    | Downloading package pros_cons to /root/nltk_data...\n",
            "[nltk_data]    |   Package pros_cons is already up-to-date!\n",
            "[nltk_data]    | Downloading package qc to /root/nltk_data...\n",
            "[nltk_data]    |   Package qc is already up-to-date!\n",
            "[nltk_data]    | Downloading package reuters to /root/nltk_data...\n",
            "[nltk_data]    |   Package reuters is already up-to-date!\n",
            "[nltk_data]    | Downloading package rte to /root/nltk_data...\n",
            "[nltk_data]    |   Package rte is already up-to-date!\n",
            "[nltk_data]    | Downloading package semcor to /root/nltk_data...\n",
            "[nltk_data]    |   Package semcor is already up-to-date!\n",
            "[nltk_data]    | Downloading package senseval to /root/nltk_data...\n",
            "[nltk_data]    |   Package senseval is already up-to-date!\n",
            "[nltk_data]    | Downloading package sentiwordnet to\n",
            "[nltk_data]    |     /root/nltk_data...\n",
            "[nltk_data]    |   Package sentiwordnet is already up-to-date!\n",
            "[nltk_data]    | Downloading package sentence_polarity to\n",
            "[nltk_data]    |     /root/nltk_data...\n",
            "[nltk_data]    |   Package sentence_polarity is already up-to-date!\n",
            "[nltk_data]    | Downloading package shakespeare to /root/nltk_data...\n",
            "[nltk_data]    |   Package shakespeare is already up-to-date!\n",
            "[nltk_data]    | Downloading package sinica_treebank to\n",
            "[nltk_data]    |     /root/nltk_data...\n",
            "[nltk_data]    |   Package sinica_treebank is already up-to-date!\n",
            "[nltk_data]    | Downloading package smultron to /root/nltk_data...\n",
            "[nltk_data]    |   Package smultron is already up-to-date!\n",
            "[nltk_data]    | Downloading package state_union to /root/nltk_data...\n",
            "[nltk_data]    |   Package state_union is already up-to-date!\n",
            "[nltk_data]    | Downloading package stopwords to /root/nltk_data...\n",
            "[nltk_data]    |   Package stopwords is already up-to-date!\n",
            "[nltk_data]    | Downloading package subjectivity to\n",
            "[nltk_data]    |     /root/nltk_data...\n",
            "[nltk_data]    |   Package subjectivity is already up-to-date!\n",
            "[nltk_data]    | Downloading package swadesh to /root/nltk_data...\n",
            "[nltk_data]    |   Package swadesh is already up-to-date!\n",
            "[nltk_data]    | Downloading package switchboard to /root/nltk_data...\n",
            "[nltk_data]    |   Package switchboard is already up-to-date!\n",
            "[nltk_data]    | Downloading package timit to /root/nltk_data...\n",
            "[nltk_data]    |   Package timit is already up-to-date!\n",
            "[nltk_data]    | Downloading package toolbox to /root/nltk_data...\n",
            "[nltk_data]    |   Package toolbox is already up-to-date!\n",
            "[nltk_data]    | Downloading package treebank to /root/nltk_data...\n",
            "[nltk_data]    |   Package treebank is already up-to-date!\n",
            "[nltk_data]    | Downloading package twitter_samples to\n",
            "[nltk_data]    |     /root/nltk_data...\n",
            "[nltk_data]    |   Package twitter_samples is already up-to-date!\n",
            "[nltk_data]    | Downloading package udhr to /root/nltk_data...\n",
            "[nltk_data]    |   Package udhr is already up-to-date!\n",
            "[nltk_data]    | Downloading package udhr2 to /root/nltk_data...\n",
            "[nltk_data]    |   Package udhr2 is already up-to-date!\n",
            "[nltk_data]    | Downloading package unicode_samples to\n",
            "[nltk_data]    |     /root/nltk_data...\n",
            "[nltk_data]    |   Package unicode_samples is already up-to-date!\n",
            "[nltk_data]    | Downloading package universal_treebanks_v20 to\n",
            "[nltk_data]    |     /root/nltk_data...\n",
            "[nltk_data]    |   Package universal_treebanks_v20 is already up-to-\n",
            "[nltk_data]    |       date!\n",
            "[nltk_data]    | Downloading package verbnet to /root/nltk_data...\n",
            "[nltk_data]    |   Package verbnet is already up-to-date!\n",
            "[nltk_data]    | Downloading package verbnet3 to /root/nltk_data...\n",
            "[nltk_data]    |   Package verbnet3 is already up-to-date!\n",
            "[nltk_data]    | Downloading package webtext to /root/nltk_data...\n",
            "[nltk_data]    |   Package webtext is already up-to-date!\n",
            "[nltk_data]    | Downloading package wordnet to /root/nltk_data...\n",
            "[nltk_data]    |   Package wordnet is already up-to-date!\n",
            "[nltk_data]    | Downloading package wordnet_ic to /root/nltk_data...\n",
            "[nltk_data]    |   Package wordnet_ic is already up-to-date!\n",
            "[nltk_data]    | Downloading package words to /root/nltk_data...\n",
            "[nltk_data]    |   Package words is already up-to-date!\n",
            "[nltk_data]    | Downloading package ycoe to /root/nltk_data...\n",
            "[nltk_data]    |   Package ycoe is already up-to-date!\n",
            "[nltk_data]    | Downloading package rslp to /root/nltk_data...\n",
            "[nltk_data]    |   Package rslp is already up-to-date!\n",
            "[nltk_data]    | Downloading package maxent_treebank_pos_tagger to\n",
            "[nltk_data]    |     /root/nltk_data...\n",
            "[nltk_data]    |   Package maxent_treebank_pos_tagger is already up-\n",
            "[nltk_data]    |       to-date!\n",
            "[nltk_data]    | Downloading package universal_tagset to\n",
            "[nltk_data]    |     /root/nltk_data...\n",
            "[nltk_data]    |   Package universal_tagset is already up-to-date!\n",
            "[nltk_data]    | Downloading package maxent_ne_chunker to\n",
            "[nltk_data]    |     /root/nltk_data...\n",
            "[nltk_data]    |   Package maxent_ne_chunker is already up-to-date!\n",
            "[nltk_data]    | Downloading package punkt to /root/nltk_data...\n",
            "[nltk_data]    |   Package punkt is already up-to-date!\n",
            "[nltk_data]    | Downloading package book_grammars to\n",
            "[nltk_data]    |     /root/nltk_data...\n",
            "[nltk_data]    |   Package book_grammars is already up-to-date!\n",
            "[nltk_data]    | Downloading package sample_grammars to\n",
            "[nltk_data]    |     /root/nltk_data...\n",
            "[nltk_data]    |   Package sample_grammars is already up-to-date!\n",
            "[nltk_data]    | Downloading package spanish_grammars to\n",
            "[nltk_data]    |     /root/nltk_data...\n",
            "[nltk_data]    |   Package spanish_grammars is already up-to-date!\n",
            "[nltk_data]    | Downloading package basque_grammars to\n",
            "[nltk_data]    |     /root/nltk_data...\n",
            "[nltk_data]    |   Package basque_grammars is already up-to-date!\n",
            "[nltk_data]    | Downloading package large_grammars to\n",
            "[nltk_data]    |     /root/nltk_data...\n",
            "[nltk_data]    |   Package large_grammars is already up-to-date!\n",
            "[nltk_data]    | Downloading package tagsets to /root/nltk_data...\n",
            "[nltk_data]    |   Package tagsets is already up-to-date!\n",
            "[nltk_data]    | Downloading package snowball_data to\n",
            "[nltk_data]    |     /root/nltk_data...\n",
            "[nltk_data]    |   Package snowball_data is already up-to-date!\n",
            "[nltk_data]    | Downloading package bllip_wsj_no_aux to\n",
            "[nltk_data]    |     /root/nltk_data...\n",
            "[nltk_data]    |   Package bllip_wsj_no_aux is already up-to-date!\n",
            "[nltk_data]    | Downloading package word2vec_sample to\n",
            "[nltk_data]    |     /root/nltk_data...\n",
            "[nltk_data]    |   Package word2vec_sample is already up-to-date!\n",
            "[nltk_data]    | Downloading package panlex_swadesh to\n",
            "[nltk_data]    |     /root/nltk_data...\n",
            "[nltk_data]    |   Package panlex_swadesh is already up-to-date!\n",
            "[nltk_data]    | Downloading package mte_teip5 to /root/nltk_data...\n",
            "[nltk_data]    |   Package mte_teip5 is already up-to-date!\n",
            "[nltk_data]    | Downloading package averaged_perceptron_tagger to\n",
            "[nltk_data]    |     /root/nltk_data...\n",
            "[nltk_data]    |   Package averaged_perceptron_tagger is already up-\n",
            "[nltk_data]    |       to-date!\n",
            "[nltk_data]    | Downloading package averaged_perceptron_tagger_ru to\n",
            "[nltk_data]    |     /root/nltk_data...\n",
            "[nltk_data]    |   Package averaged_perceptron_tagger_ru is already\n",
            "[nltk_data]    |       up-to-date!\n",
            "[nltk_data]    | Downloading package perluniprops to\n",
            "[nltk_data]    |     /root/nltk_data...\n",
            "[nltk_data]    |   Package perluniprops is already up-to-date!\n",
            "[nltk_data]    | Downloading package nonbreaking_prefixes to\n",
            "[nltk_data]    |     /root/nltk_data...\n",
            "[nltk_data]    |   Package nonbreaking_prefixes is already up-to-date!\n",
            "[nltk_data]    | Downloading package vader_lexicon to\n",
            "[nltk_data]    |     /root/nltk_data...\n",
            "[nltk_data]    |   Package vader_lexicon is already up-to-date!\n",
            "[nltk_data]    | Downloading package porter_test to /root/nltk_data...\n",
            "[nltk_data]    |   Package porter_test is already up-to-date!\n",
            "[nltk_data]    | Downloading package wmt15_eval to /root/nltk_data...\n",
            "[nltk_data]    |   Package wmt15_eval is already up-to-date!\n",
            "[nltk_data]    | Downloading package mwa_ppdb to /root/nltk_data...\n",
            "[nltk_data]    |   Package mwa_ppdb is already up-to-date!\n",
            "[nltk_data]    | \n",
            "[nltk_data]  Done downloading collection all\n"
          ],
          "name": "stdout"
        },
        {
          "output_type": "execute_result",
          "data": {
            "text/plain": [
              "True"
            ]
          },
          "metadata": {
            "tags": []
          },
          "execution_count": 117
        }
      ]
    },
    {
      "cell_type": "code",
      "metadata": {
        "colab": {
          "base_uri": "https://localhost:8080/"
        },
        "id": "UBhvnjQJDhe3",
        "outputId": "ce7e005b-d6ba-40a3-9a97-dced822f6e93"
      },
      "source": [
        "nltk.download('stopwords')\r\n",
        "from nltk.corpus import stopwords\r\n",
        "stop_words=set(stopwords.words(\"english\"))"
      ],
      "execution_count": 118,
      "outputs": [
        {
          "output_type": "stream",
          "text": [
            "[nltk_data] Downloading package stopwords to /root/nltk_data...\n",
            "[nltk_data]   Package stopwords is already up-to-date!\n"
          ],
          "name": "stdout"
        }
      ]
    },
    {
      "cell_type": "code",
      "metadata": {
        "colab": {
          "base_uri": "https://localhost:8080/"
        },
        "id": "32HkaReODh0L",
        "outputId": "99d24715-5f36-4059-e4f9-e85a176796ef"
      },
      "source": [
        "from nltk.tokenize import word_tokenize\r\n",
        "tokenized_word=word_tokenize(all_quotes_string)\r\n",
        "print(tokenized_word)"
      ],
      "execution_count": 119,
      "outputs": [
        {
          "output_type": "stream",
          "text": [
            "['It', 'is', 'not', 'defeat', 'that', 'destroys', 'you', ',', 'it', 'is', 'being', 'demoralized', 'by', 'defeat', 'that', 'destroy', 'you', '.', 'The', 'more', 'you', 'study', ',', 'the', 'more', 'you', 'know', ';', 'how', 'less', 'you', 'know', '.', 'I', 'have', 'always', 'believed', 'that', 'one', 'should', 'not', 'be', 'scared', 'of', 'losing', ',', 'I', 'think', 'that', 'really', 'is', 'the', 'key', '.', 'Never', 'give', 'up', ',', 'no', 'matter', 'how', 'hard', 'life', 'gets', 'no', 'matter', 'how', 'much', 'pain', 'you', 'feel', '.', 'Pain', 'will', 'eventually', 'subside', ',', 'nothing', 'remains', 'forever', ',', 'so', 'keep', 'going', 'and', 'do', \"n't\", 'give', 'up', '.', 'Lack', 'of', 'rule', 'of', 'law', 'is', 'the', 'main', 'reason', 'Pakistan', 'could', 'not', 'join', 'the', 'ranks', 'of', 'progressive', 'nations', '.', 'Are', 'we', 'Pakistanis', ',', 'children', 'of', 'a', 'lesser', 'God', '?', 'Is', 'there', 'one', 'law', 'for', 'the', 'west', 'and', 'one', 'for', 'us', '?', 'Is', 'our', 'democracy', 'supposed', 'to', 'be', 'only', 'democracy', 'if', 'you', 'give', 'us', 'a', 'no', 'objection', 'certificate', '?', '.', 'Compromise', 'for', 'your', 'Dream', 'but', 'NEVER', 'Compromise', 'on', 'your', 'Dream', '.', 'We', 'must', 'speak', 'the', 'truth', 'if', 'we', 'are', 'to', 'be', 'a', 'great', 'nation', '.', 'Crime', 'should', 'not', 'pay', ',', 'it', 'must', 'be', 'punished', '.', 'Unfortunately', ',', 'in', 'Pakistan', 'big', 'crimes', 'do', 'get', 'rewarded', '.', 'Leader', 'leads', 'people', '.', 'Leader', 'does', 'not', 'follow', 'public', 'opinion', '.', 'Faith', 'without', 'wisdom', 'and', 'knowledge', 'could', 'produce', 'bigots', 'completely', 'lacking', 'in', 'compassion', 'and', 'tolerance', '.', 'Holy', 'Prophet', 'PBUH', 'promulgated', 'a', 'justice', 'system', 'regardless', 'of', 'status', 'of', 'people', ',', 'yet', 'in', 'Pak', 'the', 'powerful', 'easily', 'escapes', '.', 'Mothers', 'train', 'your', 'children', 'to', 'only', 'Speak', 'Truth', '.', 'There', 'is', 'so', 'much', 'debate', 'about', 'moderate', 'and', 'radical', 'Islam', 'but', 'there', 'is', 'only', 'one', 'Islam', '.', 'Imran', 'Khan', 'asked', 'Pakistanis', 'of', 'four', 'things', 'at', 'the', 'Historic', 'Lahore', 'Jalsa', '.', 'We', 'shall', 'never', 'lie', 'and', 'always', 'speak', 'the', 'truth', '.', 'Leave', 'our', 'ego', '’', 's', 'behind', 'and', 'only', 'think', 'of', 'this', 'Nation', ',', 'there', 'are', '11', 'crore', 'Pakistanis', 'living', 'beneath', 'poverty', 'line', '.', 'We', 'shall', 'be', 'brave', 'and', 'break', 'the', 'shackles', 'of', 'fear', '.', 'We', 'have', 'to', 'bring', 'Justice', 'to', 'this', 'society', ',', 'even', 'if', 'our', 'friends', 'and', 'relatives', 'do', 'injustice', ',', 'we', 'shall', 'be', 'fair', 'and', 'bring', 'them', 'to', 'Justice', '.', 'I', 'felt', 'like', 'the', 'Islamic', 'scholar', 'Muhammad', 'Abduh', '(', '1849-1905', ')', ',', 'who', 'said', 'on', 'his', 'return', 'from', 'a', 'trip', 'to', 'Europe', 'to', 'his', 'homeland', 'Egypt', \"'I\", 'saw', 'no', 'Muslims', 'in', 'Europe', 'but', 'I', 'saw', 'a', 'lot', 'of', 'Islam', ',', \"'\", 'and', 'of', 'his', 'homeland', \"'There\", 'are', 'a', 'lot', 'of', 'Muslims', 'here', 'but', 'no', 'Islam', '.', 'Certain', 'folks', 'start', 'playing', 'Sindh', 'Card', 'despite', 'having', 'ravaged', 'the', 'life', 'of', 'the', 'common', 'Sindhi', '.', 'My', 'Pakistanis', ',', 'you', 'have', 'not', 'left', 'me', 'alone', 'and', 'I', 'promise', ',', 'I', 'will', 'never', 'leave', 'you', 'alone', 'in', 'sha', 'Allah', '.', 'When', 'I', 'was', 'older', ',', 'I', 'found', 'Iqbal', \"'s\", 'work', 'hugely', 'inspirational', '.', 'He', 'argued', 'against', 'an', 'unquestioning', 'acceptance', 'of', 'Western', 'democracy', 'as', 'the', 'self-governing', 'model', ',', 'and', 'instead', 'suggested', 'that', 'by', 'following', 'the', 'rules', 'of', 'Islam', 'a', 'society', 'would', 'tend', 'naturally', 'towards', 'social', 'justice', ',', 'tolerance', ',', 'peace', 'and', 'equality', '.', 'Iqbal', \"'s\", 'interpretation', 'of', 'Islam', 'differs', 'very', 'widely', 'from', 'the', 'narrow', 'meaning', 'that', 'is', 'sometimes', 'given', 'to', 'it', '.', 'For', 'Iqbal', ',', 'Islam', 'is', 'not', 'just', 'the', 'name', 'for', 'certain', 'beliefs', 'and', 'forms', 'of', 'worship', '.', 'The', 'difference', 'between', 'a', 'Muslim', 'and', 'a', 'non-Muslim', 'is', 'not', 'merely', 'a', 'theological', 'one', '-', 'it', 'is', 'a', 'difference', 'of', 'a', 'fundamental', 'attitude', 'towards', 'life', '.', 'Truth', 'is', 'the', 'power', 'that', 'will', 'resolve', 'our', 'problems', '.', 'Allah', 'exalts', 'whom', 'he', 'wills', '!', '.', 'Bravery', 'is', 'standing', 'with', 'the', 'truth', 'and', 'right', '.', 'There', 'are', 'greater', 'goals', 'in', 'life', 'than', 'material', 'and', 'sensual', 'pleasures', '.', 'The', 'war', 'on', 'terror', 'is', 'the', 'most', 'insane', 'and', 'immoral', 'war', 'of', 'all', 'time', '.', 'The', 'Americans', 'are', 'doing', 'what', 'they', 'did', 'in', 'Vietnam', ',', 'bombing', 'villages', '.', 'But', 'how', 'can', 'a', 'civilised', 'nation', 'do', 'this', '?', 'How', 'can', 'you', 'can', 'eliminate', 'suspects', ',', 'their', 'wives', ',', 'their', 'children', ',', 'their', 'families', ',', 'their', 'neighbours', '?', 'How', 'can', 'you', 'justify', 'this', '?', '.', 'I', 'want', 'you', 'all', 'to', 'stand', 'like', 'the', 'Muslims', 'who', 'stood', 'with', 'La', 'ilaaha', 'ilalla', 'for', 'Truth', 'and', 'Right', '.', 'Say', 'goodbye', 'to', 'the', 'IMF', 'once', 'and', 'for', 'all', 'as', 'the', 'IMF', \"'s\", 'conditions', 'enriches', 'the', 'rich', 'and', 'impoverishes', 'the', 'poor', '.', 'Good', 'deeds', 'must', 'be', 'rewarded', 'by', 'the', 'system', 'and', 'crimes', 'be', 'punished', '-', 'this', 'is', 'the', 'essence', 'of', 'meritocracy', '.', 'Prophet', '(', 'PBUH', ')', 'considered', 'the', 'ink', 'of', 'a', 'scholar', 'to', 'be', 'holier', 'than', 'the', 'blood', 'of', 'a', 'martyr', '.', 'Ethnic-based', 'politics', 'is', 'being', 'used', 'to', 'exhort', 'people', ',', 'to', 'serve', 'own', 'ends', '-', 'this', 'is', 'anathema', 'to', 'concept', 'of', 'nationalism', '.', 'When', 'you', 'remove', 'the', 'concept', 'of', 'reward', 'and', 'punishment', 'on', 'merit', ',', 'the', 'result', 'is', 'the', 'utter', 'destruction', 'of', 'social', 'fabric', '.', 'I', 'wanted', 'to', 'be', 'an', 'outstanding', 'player', ',', 'that', 'was', 'my', 'ambition', '.', 'When', 'I', 'announced', 'my', 'party', ',', 'Tehreek-e-Insaf', '(', 'Movement', 'for', 'Justice', ')', 'on', '25', 'April', '1996', ',', 'I', 'had', 'lost', 'all', 'fear', 'of', 'dying', '.', 'A', 'condemned', 'poor', 'man', ',', 'if', 'steals', 'to', 'feed', 'his', 'starving', 'kid', ',', 'is', 'slammed', 'into', 'prison', '.', 'Contrast', 'this', 'to', 'a', 'rich', 'man', \"'s\", 'crime', '.', 'الله', 'تعالی', 'نے', 'انسان', 'کے', 'هاته', 'مین', 'نیت', 'اور', 'کوشش', 'دی', 'هے', 'کامیابی', 'وه', 'دیتا', 'هے', '.', 'Faith', 'should', 'be', 'about', 'encouraging', 'all', 'that', 'is', 'noble', 'in', 'a', 'human', 'being', '.', 'Leader', 'follows', 'his', 'ideology', ',', 'Leader', 'does', 'not', 'follow', 'his', 'relatives', 'and', 'friends', '.', 'According', 'to', 'the', 'UNDP', '(', 'United', 'Nations', 'Development', 'Programme', ')', ',', '54', 'per', 'cent', 'of', 'Pakistanis', 'face', \"'multi-dimentional\", 'deprivation', \"'\", '.', 'meaning', 'they', 'lack', 'access', 'to', 'proper', 'education', 'and', 'health', 'facilities', 'and', 'a', 'decent', 'standard', 'of', 'living', '.', 'Almost', 'two-thirds', 'of', 'the', 'country', 'lives', 'on', 'less', 'than', 'US', '$', '2', 'a', 'day', 'and', 'about', '40', 'per', 'cent', 'of', 'Pakistani', 'children', 'suffer', 'from', 'chronic', 'malnutrition', '.', 'How', 'can', 'Pakistan', 'be', 'called', 'an', 'Islamic', 'society', '?', '.', 'Imran', 'Khan', 'says', \"'End\", 'your', 'ego', ',', 'think', 'of', 'nation', '.', 'Iqbal', 'not', 'only', 'conceived', 'of', 'a', 'self-governing', 'Muslim', 'state', ',', 'his', 'passionate', 'voice', 'awakened', 'and', 'activated', 'Indian', 'Muslims', ',', 'motivating', 'them', 'not', 'only', 'to', 'strive', 'to', 'free', 'themselves', 'from', 'the', 'bondage', 'of', 'imperialism', 'and', 'colonialism', ',', 'but', 'also', 'to', 'challenge', 'other', 'forms', 'of', 'totalitarian', 'control', '.', 'Believing', 'fervently', 'in', 'human', 'equality', 'and', 'the', 'right', 'of', 'human', 'beings', 'to', 'dignity', ',', 'justice', 'and', 'freedom', ',', 'Iqbal', 'empowered', 'the', 'dis-empowered', 'to', 'stand', 'up', 'and', 'be', 'counted', '.', 'Starting', 'a', 'war', 'is', 'in', 'our', 'hands', ',', 'it', 'is', 'easy', '.', 'But', 'ending', 'a', 'war', ',', 'that', 'is', 'not', 'in', 'our', 'hands', 'and', 'no', 'one', 'knows', 'what', 'will', 'happen']\n"
          ],
          "name": "stdout"
        }
      ]
    },
    {
      "cell_type": "code",
      "metadata": {
        "colab": {
          "base_uri": "https://localhost:8080/"
        },
        "id": "KppAiTvcM_aa",
        "outputId": "9bb018aa-8d40-4757-f2da-cc75bef57d25"
      },
      "source": [
        "from nltk.probability import FreqDist\r\n",
        "fdist = FreqDist(tokenized_word)\r\n",
        "print(fdist)"
      ],
      "execution_count": 120,
      "outputs": [
        {
          "output_type": "stream",
          "text": [
            "<FreqDist with 492 samples and 1089 outcomes>\n"
          ],
          "name": "stdout"
        }
      ]
    },
    {
      "cell_type": "code",
      "metadata": {
        "id": "N7X6p1bRM_fP"
      },
      "source": [
        "from nltk.stem import WordNetLemmatizer"
      ],
      "execution_count": 121,
      "outputs": []
    },
    {
      "cell_type": "code",
      "metadata": {
        "colab": {
          "base_uri": "https://localhost:8080/"
        },
        "id": "6yG532bC-2Ys",
        "outputId": "d1fe3243-2d84-49d3-e2fd-1500836b478e"
      },
      "source": [
        "# import library\r\n",
        "import sys\r\n",
        "!{sys.executable} -m pip install contractions\r\n",
        "import contractions "
      ],
      "execution_count": 122,
      "outputs": [
        {
          "output_type": "stream",
          "text": [
            "Requirement already satisfied: contractions in /usr/local/lib/python3.6/dist-packages (0.0.45)\n",
            "Requirement already satisfied: textsearch in /usr/local/lib/python3.6/dist-packages (from contractions) (0.0.17)\n",
            "Requirement already satisfied: pyahocorasick in /usr/local/lib/python3.6/dist-packages (from textsearch->contractions) (1.4.0)\n",
            "Requirement already satisfied: Unidecode in /usr/local/lib/python3.6/dist-packages (from textsearch->contractions) (1.1.2)\n"
          ],
          "name": "stdout"
        }
      ]
    },
    {
      "cell_type": "code",
      "metadata": {
        "id": "JIklo2ZRdkQ1"
      },
      "source": [
        "from wordcloud import WordCloud\r\n",
        "import matplotlib.pyplot as plt\r\n",
        "%matplotlib inline"
      ],
      "execution_count": 123,
      "outputs": []
    },
    {
      "cell_type": "markdown",
      "metadata": {
        "id": "CtdEWtTJvx6O"
      },
      "source": [
        "### Counts"
      ]
    },
    {
      "cell_type": "markdown",
      "metadata": {
        "id": "DrYR8G5DvyuE"
      },
      "source": [
        "**Quotes count:**"
      ]
    },
    {
      "cell_type": "code",
      "metadata": {
        "colab": {
          "base_uri": "https://localhost:8080/"
        },
        "id": "luwU5-iWvi0A",
        "outputId": "56a07ed9-a904-48e2-b6b3-e7034de0083f"
      },
      "source": [
        "len(quotes)"
      ],
      "execution_count": 124,
      "outputs": [
        {
          "output_type": "execute_result",
          "data": {
            "text/plain": [
              "40"
            ]
          },
          "metadata": {
            "tags": []
          },
          "execution_count": 124
        }
      ]
    },
    {
      "cell_type": "markdown",
      "metadata": {
        "id": "gVl66vKNv5l9"
      },
      "source": [
        "**Sentence counts:**"
      ]
    },
    {
      "cell_type": "code",
      "metadata": {
        "id": "2FJwGvmXviw5",
        "colab": {
          "base_uri": "https://localhost:8080/"
        },
        "outputId": "c30b15df-d6a8-4abf-e101-b2c4f4a90c43"
      },
      "source": [
        "len(sentences)"
      ],
      "execution_count": 125,
      "outputs": [
        {
          "output_type": "execute_result",
          "data": {
            "text/plain": [
              "59"
            ]
          },
          "metadata": {
            "tags": []
          },
          "execution_count": 125
        }
      ]
    },
    {
      "cell_type": "markdown",
      "metadata": {
        "id": "pW5e3JLDv8qz"
      },
      "source": [
        "**Word counts:**"
      ]
    },
    {
      "cell_type": "code",
      "metadata": {
        "id": "95c2tLS_vitx",
        "colab": {
          "base_uri": "https://localhost:8080/"
        },
        "outputId": "d9d6d440-ab73-44de-fdee-f9214118b089"
      },
      "source": [
        "len(word_list)"
      ],
      "execution_count": 126,
      "outputs": [
        {
          "output_type": "execute_result",
          "data": {
            "text/plain": [
              "960"
            ]
          },
          "metadata": {
            "tags": []
          },
          "execution_count": 126
        }
      ]
    },
    {
      "cell_type": "markdown",
      "metadata": {
        "id": "lk7KbPSP9vpJ"
      },
      "source": [
        "**Unique Words Count**"
      ]
    },
    {
      "cell_type": "code",
      "metadata": {
        "colab": {
          "base_uri": "https://localhost:8080/"
        },
        "id": "pm7781jY9zaP",
        "outputId": "06c5868a-9dcc-4be2-cc8a-2625e49e9b3c"
      },
      "source": [
        "len(word_count.keys())"
      ],
      "execution_count": 127,
      "outputs": [
        {
          "output_type": "execute_result",
          "data": {
            "text/plain": [
              "489"
            ]
          },
          "metadata": {
            "tags": []
          },
          "execution_count": 127
        }
      ]
    },
    {
      "cell_type": "markdown",
      "metadata": {
        "id": "DWXI-a5l0Pxt"
      },
      "source": [
        "**5. Count the occurrences of \"a, an and the\":**"
      ]
    },
    {
      "cell_type": "code",
      "metadata": {
        "id": "9EoGLwn10zFA",
        "colab": {
          "base_uri": "https://localhost:8080/",
          "height": 35
        },
        "outputId": "45860fef-d327-4171-f6b3-f60fc82bce32"
      },
      "source": [
        "f\"\"\"Counts:\r\n",
        "a: {word_count['a']}\r\n",
        "an: {word_count['an']}\r\n",
        "the: {word_count['the']}\"\"\""
      ],
      "execution_count": 128,
      "outputs": [
        {
          "output_type": "execute_result",
          "data": {
            "application/vnd.google.colaboratory.intrinsic+json": {
              "type": "string"
            },
            "text/plain": [
              "'Counts:\\na: 23\\nan: 3\\nthe: 37'"
            ]
          },
          "metadata": {
            "tags": []
          },
          "execution_count": 128
        }
      ]
    },
    {
      "cell_type": "markdown",
      "metadata": {
        "id": "-yHPx_oH0QaH"
      },
      "source": [
        "**Characters count:**"
      ]
    },
    {
      "cell_type": "code",
      "metadata": {
        "id": "1sP36sNx05Go",
        "colab": {
          "base_uri": "https://localhost:8080/"
        },
        "outputId": "8fdda7da-26bf-4795-896a-24131ef4bbf2"
      },
      "source": [
        "len(all_quotes_string)"
      ],
      "execution_count": 129,
      "outputs": [
        {
          "output_type": "execute_result",
          "data": {
            "text/plain": [
              "5476"
            ]
          },
          "metadata": {
            "tags": []
          },
          "execution_count": 129
        }
      ]
    },
    {
      "cell_type": "markdown",
      "metadata": {
        "id": "2einkFHz0Qtq"
      },
      "source": [
        "**7. Stop words count:**"
      ]
    },
    {
      "cell_type": "code",
      "metadata": {
        "id": "sBGfa9BK1DI5",
        "colab": {
          "base_uri": "https://localhost:8080/"
        },
        "outputId": "b699aa53-21d9-497e-f9f3-ba8313ae7f2a"
      },
      "source": [
        "# Stop Words removed\r\n",
        "\r\n",
        "filtered_sent=[]\r\n",
        "for w in tokenized_word:\r\n",
        "    if w not in stop_words:\r\n",
        "        filtered_sent.append(w)\r\n",
        "print(\"Tokenized Quotes:\",tokenized_word)\r\n",
        "print(\"Filterd Quotes:\",filtered_sent)"
      ],
      "execution_count": 130,
      "outputs": [
        {
          "output_type": "stream",
          "text": [
            "Tokenized Quotes: ['It', 'is', 'not', 'defeat', 'that', 'destroys', 'you', ',', 'it', 'is', 'being', 'demoralized', 'by', 'defeat', 'that', 'destroy', 'you', '.', 'The', 'more', 'you', 'study', ',', 'the', 'more', 'you', 'know', ';', 'how', 'less', 'you', 'know', '.', 'I', 'have', 'always', 'believed', 'that', 'one', 'should', 'not', 'be', 'scared', 'of', 'losing', ',', 'I', 'think', 'that', 'really', 'is', 'the', 'key', '.', 'Never', 'give', 'up', ',', 'no', 'matter', 'how', 'hard', 'life', 'gets', 'no', 'matter', 'how', 'much', 'pain', 'you', 'feel', '.', 'Pain', 'will', 'eventually', 'subside', ',', 'nothing', 'remains', 'forever', ',', 'so', 'keep', 'going', 'and', 'do', \"n't\", 'give', 'up', '.', 'Lack', 'of', 'rule', 'of', 'law', 'is', 'the', 'main', 'reason', 'Pakistan', 'could', 'not', 'join', 'the', 'ranks', 'of', 'progressive', 'nations', '.', 'Are', 'we', 'Pakistanis', ',', 'children', 'of', 'a', 'lesser', 'God', '?', 'Is', 'there', 'one', 'law', 'for', 'the', 'west', 'and', 'one', 'for', 'us', '?', 'Is', 'our', 'democracy', 'supposed', 'to', 'be', 'only', 'democracy', 'if', 'you', 'give', 'us', 'a', 'no', 'objection', 'certificate', '?', '.', 'Compromise', 'for', 'your', 'Dream', 'but', 'NEVER', 'Compromise', 'on', 'your', 'Dream', '.', 'We', 'must', 'speak', 'the', 'truth', 'if', 'we', 'are', 'to', 'be', 'a', 'great', 'nation', '.', 'Crime', 'should', 'not', 'pay', ',', 'it', 'must', 'be', 'punished', '.', 'Unfortunately', ',', 'in', 'Pakistan', 'big', 'crimes', 'do', 'get', 'rewarded', '.', 'Leader', 'leads', 'people', '.', 'Leader', 'does', 'not', 'follow', 'public', 'opinion', '.', 'Faith', 'without', 'wisdom', 'and', 'knowledge', 'could', 'produce', 'bigots', 'completely', 'lacking', 'in', 'compassion', 'and', 'tolerance', '.', 'Holy', 'Prophet', 'PBUH', 'promulgated', 'a', 'justice', 'system', 'regardless', 'of', 'status', 'of', 'people', ',', 'yet', 'in', 'Pak', 'the', 'powerful', 'easily', 'escapes', '.', 'Mothers', 'train', 'your', 'children', 'to', 'only', 'Speak', 'Truth', '.', 'There', 'is', 'so', 'much', 'debate', 'about', 'moderate', 'and', 'radical', 'Islam', 'but', 'there', 'is', 'only', 'one', 'Islam', '.', 'Imran', 'Khan', 'asked', 'Pakistanis', 'of', 'four', 'things', 'at', 'the', 'Historic', 'Lahore', 'Jalsa', '.', 'We', 'shall', 'never', 'lie', 'and', 'always', 'speak', 'the', 'truth', '.', 'Leave', 'our', 'ego', '’', 's', 'behind', 'and', 'only', 'think', 'of', 'this', 'Nation', ',', 'there', 'are', '11', 'crore', 'Pakistanis', 'living', 'beneath', 'poverty', 'line', '.', 'We', 'shall', 'be', 'brave', 'and', 'break', 'the', 'shackles', 'of', 'fear', '.', 'We', 'have', 'to', 'bring', 'Justice', 'to', 'this', 'society', ',', 'even', 'if', 'our', 'friends', 'and', 'relatives', 'do', 'injustice', ',', 'we', 'shall', 'be', 'fair', 'and', 'bring', 'them', 'to', 'Justice', '.', 'I', 'felt', 'like', 'the', 'Islamic', 'scholar', 'Muhammad', 'Abduh', '(', '1849-1905', ')', ',', 'who', 'said', 'on', 'his', 'return', 'from', 'a', 'trip', 'to', 'Europe', 'to', 'his', 'homeland', 'Egypt', \"'I\", 'saw', 'no', 'Muslims', 'in', 'Europe', 'but', 'I', 'saw', 'a', 'lot', 'of', 'Islam', ',', \"'\", 'and', 'of', 'his', 'homeland', \"'There\", 'are', 'a', 'lot', 'of', 'Muslims', 'here', 'but', 'no', 'Islam', '.', 'Certain', 'folks', 'start', 'playing', 'Sindh', 'Card', 'despite', 'having', 'ravaged', 'the', 'life', 'of', 'the', 'common', 'Sindhi', '.', 'My', 'Pakistanis', ',', 'you', 'have', 'not', 'left', 'me', 'alone', 'and', 'I', 'promise', ',', 'I', 'will', 'never', 'leave', 'you', 'alone', 'in', 'sha', 'Allah', '.', 'When', 'I', 'was', 'older', ',', 'I', 'found', 'Iqbal', \"'s\", 'work', 'hugely', 'inspirational', '.', 'He', 'argued', 'against', 'an', 'unquestioning', 'acceptance', 'of', 'Western', 'democracy', 'as', 'the', 'self-governing', 'model', ',', 'and', 'instead', 'suggested', 'that', 'by', 'following', 'the', 'rules', 'of', 'Islam', 'a', 'society', 'would', 'tend', 'naturally', 'towards', 'social', 'justice', ',', 'tolerance', ',', 'peace', 'and', 'equality', '.', 'Iqbal', \"'s\", 'interpretation', 'of', 'Islam', 'differs', 'very', 'widely', 'from', 'the', 'narrow', 'meaning', 'that', 'is', 'sometimes', 'given', 'to', 'it', '.', 'For', 'Iqbal', ',', 'Islam', 'is', 'not', 'just', 'the', 'name', 'for', 'certain', 'beliefs', 'and', 'forms', 'of', 'worship', '.', 'The', 'difference', 'between', 'a', 'Muslim', 'and', 'a', 'non-Muslim', 'is', 'not', 'merely', 'a', 'theological', 'one', '-', 'it', 'is', 'a', 'difference', 'of', 'a', 'fundamental', 'attitude', 'towards', 'life', '.', 'Truth', 'is', 'the', 'power', 'that', 'will', 'resolve', 'our', 'problems', '.', 'Allah', 'exalts', 'whom', 'he', 'wills', '!', '.', 'Bravery', 'is', 'standing', 'with', 'the', 'truth', 'and', 'right', '.', 'There', 'are', 'greater', 'goals', 'in', 'life', 'than', 'material', 'and', 'sensual', 'pleasures', '.', 'The', 'war', 'on', 'terror', 'is', 'the', 'most', 'insane', 'and', 'immoral', 'war', 'of', 'all', 'time', '.', 'The', 'Americans', 'are', 'doing', 'what', 'they', 'did', 'in', 'Vietnam', ',', 'bombing', 'villages', '.', 'But', 'how', 'can', 'a', 'civilised', 'nation', 'do', 'this', '?', 'How', 'can', 'you', 'can', 'eliminate', 'suspects', ',', 'their', 'wives', ',', 'their', 'children', ',', 'their', 'families', ',', 'their', 'neighbours', '?', 'How', 'can', 'you', 'justify', 'this', '?', '.', 'I', 'want', 'you', 'all', 'to', 'stand', 'like', 'the', 'Muslims', 'who', 'stood', 'with', 'La', 'ilaaha', 'ilalla', 'for', 'Truth', 'and', 'Right', '.', 'Say', 'goodbye', 'to', 'the', 'IMF', 'once', 'and', 'for', 'all', 'as', 'the', 'IMF', \"'s\", 'conditions', 'enriches', 'the', 'rich', 'and', 'impoverishes', 'the', 'poor', '.', 'Good', 'deeds', 'must', 'be', 'rewarded', 'by', 'the', 'system', 'and', 'crimes', 'be', 'punished', '-', 'this', 'is', 'the', 'essence', 'of', 'meritocracy', '.', 'Prophet', '(', 'PBUH', ')', 'considered', 'the', 'ink', 'of', 'a', 'scholar', 'to', 'be', 'holier', 'than', 'the', 'blood', 'of', 'a', 'martyr', '.', 'Ethnic-based', 'politics', 'is', 'being', 'used', 'to', 'exhort', 'people', ',', 'to', 'serve', 'own', 'ends', '-', 'this', 'is', 'anathema', 'to', 'concept', 'of', 'nationalism', '.', 'When', 'you', 'remove', 'the', 'concept', 'of', 'reward', 'and', 'punishment', 'on', 'merit', ',', 'the', 'result', 'is', 'the', 'utter', 'destruction', 'of', 'social', 'fabric', '.', 'I', 'wanted', 'to', 'be', 'an', 'outstanding', 'player', ',', 'that', 'was', 'my', 'ambition', '.', 'When', 'I', 'announced', 'my', 'party', ',', 'Tehreek-e-Insaf', '(', 'Movement', 'for', 'Justice', ')', 'on', '25', 'April', '1996', ',', 'I', 'had', 'lost', 'all', 'fear', 'of', 'dying', '.', 'A', 'condemned', 'poor', 'man', ',', 'if', 'steals', 'to', 'feed', 'his', 'starving', 'kid', ',', 'is', 'slammed', 'into', 'prison', '.', 'Contrast', 'this', 'to', 'a', 'rich', 'man', \"'s\", 'crime', '.', 'الله', 'تعالی', 'نے', 'انسان', 'کے', 'هاته', 'مین', 'نیت', 'اور', 'کوشش', 'دی', 'هے', 'کامیابی', 'وه', 'دیتا', 'هے', '.', 'Faith', 'should', 'be', 'about', 'encouraging', 'all', 'that', 'is', 'noble', 'in', 'a', 'human', 'being', '.', 'Leader', 'follows', 'his', 'ideology', ',', 'Leader', 'does', 'not', 'follow', 'his', 'relatives', 'and', 'friends', '.', 'According', 'to', 'the', 'UNDP', '(', 'United', 'Nations', 'Development', 'Programme', ')', ',', '54', 'per', 'cent', 'of', 'Pakistanis', 'face', \"'multi-dimentional\", 'deprivation', \"'\", '.', 'meaning', 'they', 'lack', 'access', 'to', 'proper', 'education', 'and', 'health', 'facilities', 'and', 'a', 'decent', 'standard', 'of', 'living', '.', 'Almost', 'two-thirds', 'of', 'the', 'country', 'lives', 'on', 'less', 'than', 'US', '$', '2', 'a', 'day', 'and', 'about', '40', 'per', 'cent', 'of', 'Pakistani', 'children', 'suffer', 'from', 'chronic', 'malnutrition', '.', 'How', 'can', 'Pakistan', 'be', 'called', 'an', 'Islamic', 'society', '?', '.', 'Imran', 'Khan', 'says', \"'End\", 'your', 'ego', ',', 'think', 'of', 'nation', '.', 'Iqbal', 'not', 'only', 'conceived', 'of', 'a', 'self-governing', 'Muslim', 'state', ',', 'his', 'passionate', 'voice', 'awakened', 'and', 'activated', 'Indian', 'Muslims', ',', 'motivating', 'them', 'not', 'only', 'to', 'strive', 'to', 'free', 'themselves', 'from', 'the', 'bondage', 'of', 'imperialism', 'and', 'colonialism', ',', 'but', 'also', 'to', 'challenge', 'other', 'forms', 'of', 'totalitarian', 'control', '.', 'Believing', 'fervently', 'in', 'human', 'equality', 'and', 'the', 'right', 'of', 'human', 'beings', 'to', 'dignity', ',', 'justice', 'and', 'freedom', ',', 'Iqbal', 'empowered', 'the', 'dis-empowered', 'to', 'stand', 'up', 'and', 'be', 'counted', '.', 'Starting', 'a', 'war', 'is', 'in', 'our', 'hands', ',', 'it', 'is', 'easy', '.', 'But', 'ending', 'a', 'war', ',', 'that', 'is', 'not', 'in', 'our', 'hands', 'and', 'no', 'one', 'knows', 'what', 'will', 'happen']\n",
            "Filterd Quotes: ['It', 'defeat', 'destroys', ',', 'demoralized', 'defeat', 'destroy', '.', 'The', 'study', ',', 'know', ';', 'less', 'know', '.', 'I', 'always', 'believed', 'one', 'scared', 'losing', ',', 'I', 'think', 'really', 'key', '.', 'Never', 'give', ',', 'matter', 'hard', 'life', 'gets', 'matter', 'much', 'pain', 'feel', '.', 'Pain', 'eventually', 'subside', ',', 'nothing', 'remains', 'forever', ',', 'keep', 'going', \"n't\", 'give', '.', 'Lack', 'rule', 'law', 'main', 'reason', 'Pakistan', 'could', 'join', 'ranks', 'progressive', 'nations', '.', 'Are', 'Pakistanis', ',', 'children', 'lesser', 'God', '?', 'Is', 'one', 'law', 'west', 'one', 'us', '?', 'Is', 'democracy', 'supposed', 'democracy', 'give', 'us', 'objection', 'certificate', '?', '.', 'Compromise', 'Dream', 'NEVER', 'Compromise', 'Dream', '.', 'We', 'must', 'speak', 'truth', 'great', 'nation', '.', 'Crime', 'pay', ',', 'must', 'punished', '.', 'Unfortunately', ',', 'Pakistan', 'big', 'crimes', 'get', 'rewarded', '.', 'Leader', 'leads', 'people', '.', 'Leader', 'follow', 'public', 'opinion', '.', 'Faith', 'without', 'wisdom', 'knowledge', 'could', 'produce', 'bigots', 'completely', 'lacking', 'compassion', 'tolerance', '.', 'Holy', 'Prophet', 'PBUH', 'promulgated', 'justice', 'system', 'regardless', 'status', 'people', ',', 'yet', 'Pak', 'powerful', 'easily', 'escapes', '.', 'Mothers', 'train', 'children', 'Speak', 'Truth', '.', 'There', 'much', 'debate', 'moderate', 'radical', 'Islam', 'one', 'Islam', '.', 'Imran', 'Khan', 'asked', 'Pakistanis', 'four', 'things', 'Historic', 'Lahore', 'Jalsa', '.', 'We', 'shall', 'never', 'lie', 'always', 'speak', 'truth', '.', 'Leave', 'ego', '’', 'behind', 'think', 'Nation', ',', '11', 'crore', 'Pakistanis', 'living', 'beneath', 'poverty', 'line', '.', 'We', 'shall', 'brave', 'break', 'shackles', 'fear', '.', 'We', 'bring', 'Justice', 'society', ',', 'even', 'friends', 'relatives', 'injustice', ',', 'shall', 'fair', 'bring', 'Justice', '.', 'I', 'felt', 'like', 'Islamic', 'scholar', 'Muhammad', 'Abduh', '(', '1849-1905', ')', ',', 'said', 'return', 'trip', 'Europe', 'homeland', 'Egypt', \"'I\", 'saw', 'Muslims', 'Europe', 'I', 'saw', 'lot', 'Islam', ',', \"'\", 'homeland', \"'There\", 'lot', 'Muslims', 'Islam', '.', 'Certain', 'folks', 'start', 'playing', 'Sindh', 'Card', 'despite', 'ravaged', 'life', 'common', 'Sindhi', '.', 'My', 'Pakistanis', ',', 'left', 'alone', 'I', 'promise', ',', 'I', 'never', 'leave', 'alone', 'sha', 'Allah', '.', 'When', 'I', 'older', ',', 'I', 'found', 'Iqbal', \"'s\", 'work', 'hugely', 'inspirational', '.', 'He', 'argued', 'unquestioning', 'acceptance', 'Western', 'democracy', 'self-governing', 'model', ',', 'instead', 'suggested', 'following', 'rules', 'Islam', 'society', 'would', 'tend', 'naturally', 'towards', 'social', 'justice', ',', 'tolerance', ',', 'peace', 'equality', '.', 'Iqbal', \"'s\", 'interpretation', 'Islam', 'differs', 'widely', 'narrow', 'meaning', 'sometimes', 'given', '.', 'For', 'Iqbal', ',', 'Islam', 'name', 'certain', 'beliefs', 'forms', 'worship', '.', 'The', 'difference', 'Muslim', 'non-Muslim', 'merely', 'theological', 'one', '-', 'difference', 'fundamental', 'attitude', 'towards', 'life', '.', 'Truth', 'power', 'resolve', 'problems', '.', 'Allah', 'exalts', 'wills', '!', '.', 'Bravery', 'standing', 'truth', 'right', '.', 'There', 'greater', 'goals', 'life', 'material', 'sensual', 'pleasures', '.', 'The', 'war', 'terror', 'insane', 'immoral', 'war', 'time', '.', 'The', 'Americans', 'Vietnam', ',', 'bombing', 'villages', '.', 'But', 'civilised', 'nation', '?', 'How', 'eliminate', 'suspects', ',', 'wives', ',', 'children', ',', 'families', ',', 'neighbours', '?', 'How', 'justify', '?', '.', 'I', 'want', 'stand', 'like', 'Muslims', 'stood', 'La', 'ilaaha', 'ilalla', 'Truth', 'Right', '.', 'Say', 'goodbye', 'IMF', 'IMF', \"'s\", 'conditions', 'enriches', 'rich', 'impoverishes', 'poor', '.', 'Good', 'deeds', 'must', 'rewarded', 'system', 'crimes', 'punished', '-', 'essence', 'meritocracy', '.', 'Prophet', '(', 'PBUH', ')', 'considered', 'ink', 'scholar', 'holier', 'blood', 'martyr', '.', 'Ethnic-based', 'politics', 'used', 'exhort', 'people', ',', 'serve', 'ends', '-', 'anathema', 'concept', 'nationalism', '.', 'When', 'remove', 'concept', 'reward', 'punishment', 'merit', ',', 'result', 'utter', 'destruction', 'social', 'fabric', '.', 'I', 'wanted', 'outstanding', 'player', ',', 'ambition', '.', 'When', 'I', 'announced', 'party', ',', 'Tehreek-e-Insaf', '(', 'Movement', 'Justice', ')', '25', 'April', '1996', ',', 'I', 'lost', 'fear', 'dying', '.', 'A', 'condemned', 'poor', 'man', ',', 'steals', 'feed', 'starving', 'kid', ',', 'slammed', 'prison', '.', 'Contrast', 'rich', 'man', \"'s\", 'crime', '.', 'الله', 'تعالی', 'نے', 'انسان', 'کے', 'هاته', 'مین', 'نیت', 'اور', 'کوشش', 'دی', 'هے', 'کامیابی', 'وه', 'دیتا', 'هے', '.', 'Faith', 'encouraging', 'noble', 'human', '.', 'Leader', 'follows', 'ideology', ',', 'Leader', 'follow', 'relatives', 'friends', '.', 'According', 'UNDP', '(', 'United', 'Nations', 'Development', 'Programme', ')', ',', '54', 'per', 'cent', 'Pakistanis', 'face', \"'multi-dimentional\", 'deprivation', \"'\", '.', 'meaning', 'lack', 'access', 'proper', 'education', 'health', 'facilities', 'decent', 'standard', 'living', '.', 'Almost', 'two-thirds', 'country', 'lives', 'less', 'US', '$', '2', 'day', '40', 'per', 'cent', 'Pakistani', 'children', 'suffer', 'chronic', 'malnutrition', '.', 'How', 'Pakistan', 'called', 'Islamic', 'society', '?', '.', 'Imran', 'Khan', 'says', \"'End\", 'ego', ',', 'think', 'nation', '.', 'Iqbal', 'conceived', 'self-governing', 'Muslim', 'state', ',', 'passionate', 'voice', 'awakened', 'activated', 'Indian', 'Muslims', ',', 'motivating', 'strive', 'free', 'bondage', 'imperialism', 'colonialism', ',', 'also', 'challenge', 'forms', 'totalitarian', 'control', '.', 'Believing', 'fervently', 'human', 'equality', 'right', 'human', 'beings', 'dignity', ',', 'justice', 'freedom', ',', 'Iqbal', 'empowered', 'dis-empowered', 'stand', 'counted', '.', 'Starting', 'war', 'hands', ',', 'easy', '.', 'But', 'ending', 'war', ',', 'hands', 'one', 'knows', 'happen']\n"
          ],
          "name": "stdout"
        }
      ]
    },
    {
      "cell_type": "code",
      "metadata": {
        "id": "Nt5cW6xfOQ9e"
      },
      "source": [
        "Quotes_with_SW =len(tokenized_word)"
      ],
      "execution_count": 131,
      "outputs": []
    },
    {
      "cell_type": "code",
      "metadata": {
        "id": "nbmljYmxOREm"
      },
      "source": [
        "Quotes_without_SW =len(filtered_sent)"
      ],
      "execution_count": 132,
      "outputs": []
    },
    {
      "cell_type": "code",
      "metadata": {
        "colab": {
          "base_uri": "https://localhost:8080/"
        },
        "id": "xm5Dq-YdOx1V",
        "outputId": "785e30cc-ec3d-465e-89ae-b3fe2c51d9c1"
      },
      "source": [
        "# Stop Words count\r\n",
        "\r\n",
        "Stop_Words_Count = Quotes_with_SW - Quotes_without_SW\r\n",
        "Stop_Words_Count"
      ],
      "execution_count": 133,
      "outputs": [
        {
          "output_type": "execute_result",
          "data": {
            "text/plain": [
              "406"
            ]
          },
          "metadata": {
            "tags": []
          },
          "execution_count": 133
        }
      ]
    },
    {
      "cell_type": "markdown",
      "metadata": {
        "id": "4NZVTSKA0Q1Q"
      },
      "source": [
        "**8. Upper case word counts:**"
      ]
    },
    {
      "cell_type": "code",
      "metadata": {
        "id": "nvZmcuak1EED",
        "colab": {
          "base_uri": "https://localhost:8080/"
        },
        "outputId": "13a953a5-865c-430d-d3b2-e855bed05aed"
      },
      "source": [
        "len(list(filter(lambda word: word.isupper(), word_list)))"
      ],
      "execution_count": 134,
      "outputs": [
        {
          "output_type": "execute_result",
          "data": {
            "text/plain": [
              "20"
            ]
          },
          "metadata": {
            "tags": []
          },
          "execution_count": 134
        }
      ]
    },
    {
      "cell_type": "markdown",
      "metadata": {
        "id": "JUT5Djzn0Q8L"
      },
      "source": [
        "**9. Common Occurring word count:**\r\n"
      ]
    },
    {
      "cell_type": "code",
      "metadata": {
        "id": "uNzB3zoZ1EzG",
        "colab": {
          "base_uri": "https://localhost:8080/"
        },
        "outputId": "6858feab-06cb-4dda-cf96-82c3c57a22d8"
      },
      "source": [
        "fdist.most_common(10)"
      ],
      "execution_count": 135,
      "outputs": [
        {
          "output_type": "execute_result",
          "data": {
            "text/plain": [
              "[('.', 58),\n",
              " (',', 44),\n",
              " ('the', 37),\n",
              " ('of', 36),\n",
              " ('and', 34),\n",
              " ('to', 25),\n",
              " ('a', 23),\n",
              " ('is', 22),\n",
              " ('you', 13),\n",
              " ('be', 13)]"
            ]
          },
          "metadata": {
            "tags": []
          },
          "execution_count": 135
        }
      ]
    },
    {
      "cell_type": "markdown",
      "metadata": {
        "id": "DJRksyye0RCa"
      },
      "source": [
        "**10. Lower case:**"
      ]
    },
    {
      "cell_type": "code",
      "metadata": {
        "id": "6_-XPWqq1F3I",
        "colab": {
          "base_uri": "https://localhost:8080/"
        },
        "outputId": "da2a2f18-86cd-47ac-ff65-cae217ddfaf4"
      },
      "source": [
        "len(list(filter(lambda word: word.islower(), word_list)))"
      ],
      "execution_count": 136,
      "outputs": [
        {
          "output_type": "execute_result",
          "data": {
            "text/plain": [
              "786"
            ]
          },
          "metadata": {
            "tags": []
          },
          "execution_count": 136
        }
      ]
    },
    {
      "cell_type": "markdown",
      "metadata": {
        "id": "2Az4Dnsu1Gjn"
      },
      "source": [
        "**11. Contraction to Expansion:**"
      ]
    },
    {
      "cell_type": "code",
      "metadata": {
        "id": "3EHQCzMv1XYM",
        "colab": {
          "base_uri": "https://localhost:8080/"
        },
        "outputId": "ff6bb2d5-6dbe-4d28-a051-9f18677da1da"
      },
      "source": [
        "# contracted text \r\n",
        "all_quotes_string\r\n",
        "\r\n",
        "# creating an empty list \r\n",
        "expanded_words = []     \r\n",
        "for word in all_quotes_string.split(): \r\n",
        "  # using contractions.fix to expand the shotened words \r\n",
        "  expanded_words.append(contractions.fix(word))    \r\n",
        "    \r\n",
        "expanded_text = ' '.join(expanded_words) \r\n",
        "print('Original text:\\n ' + all_quotes_string)\r\n",
        "print('\\n')\r\n",
        "print('Expanded_text:\\n ' + expanded_text) "
      ],
      "execution_count": 137,
      "outputs": [
        {
          "output_type": "stream",
          "text": [
            "Original text:\n",
            " It is not defeat that destroys you, it is being demoralized by defeat that destroy you. The more you study, the more you know; how less you know. I have always believed that one should not be scared of losing, I think that really is the key. Never give up, no matter how hard life gets no matter how much pain you feel. Pain will eventually subside, nothing remains forever, so keep going and don't give up. Lack of rule of law is the main reason Pakistan could not join the ranks of progressive nations. Are we Pakistanis, children of a lesser God? Is there one law for the west and one for us? Is our democracy supposed to be only democracy if you give us a no objection certificate?. Compromise for your Dream but NEVER Compromise on your Dream. We must speak the truth if we are to be a great nation. Crime should not pay, it must be punished. Unfortunately, in Pakistan big crimes do get rewarded. Leader leads people. Leader does not follow public opinion. Faith without wisdom and knowledge could produce bigots completely lacking in compassion and tolerance. Holy Prophet PBUH promulgated a justice system regardless of status of people, yet in Pak the powerful easily escapes. Mothers train your children to only Speak Truth. There is so much debate about moderate and radical Islam but there is only one Islam. Imran Khan asked Pakistanis of four things at the Historic Lahore Jalsa. We shall never lie and always speak the truth. Leave our ego’s behind and only think of this Nation, there are 11 crore Pakistanis living beneath poverty line. We shall be brave and break the shackles of fear. We have to bring Justice to this society, even if our friends and relatives do injustice, we shall be fair and bring them to Justice. I felt like the Islamic scholar Muhammad Abduh (1849-1905), who said on his return from a trip to Europe to his homeland Egypt 'I saw no Muslims in Europe but I saw a lot of Islam, ' and of his homeland 'There are a lot of Muslims here but no Islam. Certain folks start playing Sindh Card despite having ravaged the life of the common Sindhi. My Pakistanis, you have not left me alone and I promise, I will never leave you alone in sha Allah. When I was older, I found Iqbal's work hugely inspirational. He argued against an unquestioning acceptance of Western democracy as the self-governing model, and instead suggested that by following the rules of Islam a society would tend naturally towards social justice, tolerance, peace and equality. Iqbal's interpretation of Islam differs very widely from the narrow meaning that is sometimes given to it. For Iqbal, Islam is not just the name for certain beliefs and forms of worship. The difference between a Muslim and a non-Muslim is not merely a theological one - it is a difference of a fundamental attitude towards life. Truth is the power that will resolve our problems. Allah exalts whom he wills!. Bravery is standing with the truth and right. There are greater goals in life than material and sensual pleasures. The war on terror is the most insane and immoral war of all time. The Americans are doing what they did in Vietnam, bombing villages. But how can a civilised nation do this? How can you can eliminate suspects, their wives, their children, their families, their neighbours? How can you justify this?. I want you all to stand like the Muslims who stood with La ilaaha ilalla for Truth and Right. Say goodbye to the IMF once and for all as the IMF's conditions enriches the rich and impoverishes the poor. Good deeds must be rewarded by the system and crimes be punished - this is the essence of meritocracy. Prophet (PBUH) considered the ink of a scholar to be holier than the blood of a martyr. Ethnic-based politics is being used to exhort people, to serve own ends - this is anathema to concept of nationalism. When you remove the concept of reward and punishment on merit, the result is the utter destruction of social fabric. I wanted to be an outstanding player, that was my ambition. When I announced my party, Tehreek-e-Insaf (Movement for Justice) on 25 April 1996, I had lost all fear of dying. A condemned poor man, if steals to feed his starving kid, is slammed into prison. Contrast this to a rich man's crime. الله تعالی نے انسان کے هاته مین نیت اور کوشش دی هے کامیابی وه دیتا هے. Faith should be about encouraging all that is noble in a human being. Leader follows his ideology, Leader does not follow his relatives and friends. According to the UNDP (United Nations Development Programme), 54 per cent of Pakistanis face 'multi-dimentional deprivation'. meaning they lack access to proper education and health facilities and a decent standard of living. Almost two-thirds of the country lives on less than US$2 a day and about 40 per cent of Pakistani children suffer from chronic malnutrition. How can Pakistan be called an Islamic society?. Imran Khan says 'End your ego, think of nation. Iqbal not only conceived of a self-governing Muslim state, his passionate voice awakened and activated Indian Muslims, motivating them not only to strive to free themselves from the bondage of imperialism and colonialism, but also to challenge other forms of totalitarian control. Believing fervently in human equality and the right of human beings to dignity, justice and freedom, Iqbal empowered the dis-empowered to stand up and be counted. Starting a war is in our hands, it is easy. But ending a war, that is not in our hands and no one knows what will happen\n",
            "\n",
            "\n",
            "Expanded_text:\n",
            " It is not defeat that destroys you, it is being demoralized by defeat that destroy you. The more you study, the more you know; how less you know. I have always believed that one should not be scared of losing, I think that really is the key. Never give up, no matter how hard life gets no matter how much pain you feel. Pain will eventually subside, nothing remains forever, so keep going and do not give up. Lack of rule of law is the main reason Pakistan could not join the ranks of progressive nations. Are we Pakistanis, children of a lesser God? Is there one law for the west and one for us? Is our democracy supposed to be only democracy if you give us a no objection certificate?. Compromise for your Dream but NEVER Compromise on your Dream. We must speak the truth if we are to be a great nation. Crime should not pay, it must be punished. Unfortunately, in Pakistan big crimes do get rewarded. Leader leads people. Leader does not follow public opinion. Faith without wisdom and knowledge could produce bigots completely lacking in compassion and tolerance. Holy Prophet PBUH promulgated a justice system regardless of status of people, yet in Pak the powerful easily escapes. Mothers train your children to only Speak Truth. There is so much debate about moderate and radical Islam but there is only one Islam. Imran Khan asked Pakistanis of four things at the Historic Lahore Jalsa. We shall never lie and always speak the truth. Leave our ego’s behind and only think of this Nation, there are 11 crore Pakistanis living beneath poverty line. We shall be brave and break the shackles of fear. We have to bring Justice to this society, even if our friends and relatives do injustice, we shall be fair and bring them to Justice. I felt like the Islamic scholar Muhammad Abduh (1849-1905), who said on his return from a trip to Europe to his homeland Egypt 'I saw no Muslims in Europe but I saw a lot of Islam, ' and of his homeland 'There are a lot of Muslims here but no Islam. Certain folks start playing Sindh Card despite having ravaged the life of the common Sindhi. My Pakistanis, you have not left me alone and I promise, I will never leave you alone in sha Allah. When I was older, I found Iqbal's work hugely inspirational. He argued against an unquestioning acceptance of Western democracy as the self-governing model, and instead suggested that by following the rules of Islam a society would tend naturally towards social justice, tolerance, peace and equality. Iqbal's interpretation of Islam differs very widely from the narrow meaning that is sometimes given to it. For Iqbal, Islam is not just the name for certain beliefs and forms of worship. The difference between a Muslim and a non-Muslim is not merely a theological one - it is a difference of a fundamental attitude towards life. Truth is the power that will resolve our problems. Allah exalts whom he wills!. Bravery is standing with the truth and right. There are greater goals in life than material and sensual pleasures. The war on terror is the most insane and immoral war of all time. The Americans are doing what they did in Vietnam, bombing villages. But how can a civilised nation do this? How can you can eliminate suspects, their wives, their children, their families, their neighbours? How can you justify this?. I want you all to stand like the Muslims who stood with La ilaaha ilalla for Truth and Right. Say goodbye to the IMF once and for all as the IMF's conditions enriches the rich and impoverishes the poor. Good deeds must be rewarded by the system and crimes be punished - this is the essence of meritocracy. Prophet (PBUH) considered the ink of a scholar to be holier than the blood of a martyr. Ethnic-based politics is being used to exhort people, to serve own ends - this is anathema to concept of nationalism. When you remove the concept of reward and punishment on merit, the result is the utter destruction of social fabric. I wanted to be an outstanding player, that was my ambition. When I announced my party, Tehreek-e-Insaf (Movement for Justice) on 25 April 1996, I had lost all fear of dying. A condemned poor man, if steals to feed his starving kid, is slammed into prison. Contrast this to a rich man's crime. الله تعالی نے انسان کے هاته مین نیت اور کوشش دی هے کامیابی وه دیتا هے. Faith should be about encouraging all that is noble in a human being. Leader follows his ideology, Leader does not follow his relatives and friends. According to the UNDP (United Nations Development Programme), 54 per cent of Pakistanis face 'multi-dimentional deprivation'. meaning they lack access to proper education and health facilities and a decent standard of living. Almost two-thirds of the country lives on less than US$2 a day and about 40 per cent of Pakistani children suffer from chronic malnutrition. How can Pakistan be called an Islamic society?. Imran Khan says 'End your ego, think of nation. Iqbal not only conceived of a self-governing Muslim state, his passionate voice awakened and activated Indian Muslims, motivating them not only to strive to free themselves from the bondage of imperialism and colonialism, but also to challenge other forms of totalitarian control. Believing fervently in human equality and the right of human beings to dignity, justice and freedom, Iqbal empowered the dis-empowered to stand up and be counted. Starting a war is in our hands, it is easy. But ending a war, that is not in our hands and no one knows what will happen\n"
          ],
          "name": "stdout"
        }
      ]
    },
    {
      "cell_type": "markdown",
      "metadata": {
        "id": "4DxTfpTW1Ynt"
      },
      "source": [
        "**12. Removal of accented characters:**"
      ]
    },
    {
      "cell_type": "code",
      "metadata": {
        "id": "G3Fp6KOn1gSA",
        "colab": {
          "base_uri": "https://localhost:8080/"
        },
        "outputId": "a8e7b393-69cb-4ae8-81b4-823a64ab734b"
      },
      "source": [
        "def simplify(text):\r\n",
        "\timport unicodedata\r\n",
        "\ttry:\r\n",
        "\t\ttext = unicode(text, 'utf-8')\r\n",
        "\texcept NameError:\r\n",
        "\t\tpass\r\n",
        "\ttext = unicodedata.normalize('NFD', text).encode('ascii', 'ignore').decode(\"utf-8\")\r\n",
        "\treturn str(text)\r\n",
        " \r\n",
        "print(simplify(all_quotes_string))"
      ],
      "execution_count": 138,
      "outputs": [
        {
          "output_type": "stream",
          "text": [
            "It is not defeat that destroys you, it is being demoralized by defeat that destroy you. The more you study, the more you know; how less you know. I have always believed that one should not be scared of losing, I think that really is the key. Never give up, no matter how hard life gets no matter how much pain you feel. Pain will eventually subside, nothing remains forever, so keep going and don't give up. Lack of rule of law is the main reason Pakistan could not join the ranks of progressive nations. Are we Pakistanis, children of a lesser God? Is there one law for the west and one for us? Is our democracy supposed to be only democracy if you give us a no objection certificate?. Compromise for your Dream but NEVER Compromise on your Dream. We must speak the truth if we are to be a great nation. Crime should not pay, it must be punished. Unfortunately, in Pakistan big crimes do get rewarded. Leader leads people. Leader does not follow public opinion. Faith without wisdom and knowledge could produce bigots completely lacking in compassion and tolerance. Holy Prophet PBUH promulgated a justice system regardless of status of people, yet in Pak the powerful easily escapes. Mothers train your children to only Speak Truth. There is so much debate about moderate and radical Islam but there is only one Islam. Imran Khan asked Pakistanis of four things at the Historic Lahore Jalsa. We shall never lie and always speak the truth. Leave our egos behind and only think of this Nation, there are 11 crore Pakistanis living beneath poverty line. We shall be brave and break the shackles of fear. We have to bring Justice to this society, even if our friends and relatives do injustice, we shall be fair and bring them to Justice. I felt like the Islamic scholar Muhammad Abduh (1849-1905), who said on his return from a trip to Europe to his homeland Egypt 'I saw no Muslims in Europe but I saw a lot of Islam, ' and of his homeland 'There are a lot of Muslims here but no Islam. Certain folks start playing Sindh Card despite having ravaged the life of the common Sindhi. My Pakistanis, you have not left me alone and I promise, I will never leave you alone in sha Allah. When I was older, I found Iqbal's work hugely inspirational. He argued against an unquestioning acceptance of Western democracy as the self-governing model, and instead suggested that by following the rules of Islam a society would tend naturally towards social justice, tolerance, peace and equality. Iqbal's interpretation of Islam differs very widely from the narrow meaning that is sometimes given to it. For Iqbal, Islam is not just the name for certain beliefs and forms of worship. The difference between a Muslim and a non-Muslim is not merely a theological one - it is a difference of a fundamental attitude towards life. Truth is the power that will resolve our problems. Allah exalts whom he wills!. Bravery is standing with the truth and right. There are greater goals in life than material and sensual pleasures. The war on terror is the most insane and immoral war of all time. The Americans are doing what they did in Vietnam, bombing villages. But how can a civilised nation do this? How can you can eliminate suspects, their wives, their children, their families, their neighbours? How can you justify this?. I want you all to stand like the Muslims who stood with La ilaaha ilalla for Truth and Right. Say goodbye to the IMF once and for all as the IMF's conditions enriches the rich and impoverishes the poor. Good deeds must be rewarded by the system and crimes be punished - this is the essence of meritocracy. Prophet (PBUH) considered the ink of a scholar to be holier than the blood of a martyr. Ethnic-based politics is being used to exhort people, to serve own ends - this is anathema to concept of nationalism. When you remove the concept of reward and punishment on merit, the result is the utter destruction of social fabric. I wanted to be an outstanding player, that was my ambition. When I announced my party, Tehreek-e-Insaf (Movement for Justice) on 25 April 1996, I had lost all fear of dying. A condemned poor man, if steals to feed his starving kid, is slammed into prison. Contrast this to a rich man's crime.                . Faith should be about encouraging all that is noble in a human being. Leader follows his ideology, Leader does not follow his relatives and friends. According to the UNDP (United Nations Development Programme), 54 per cent of Pakistanis face 'multi-dimentional deprivation'. meaning they lack access to proper education and health facilities and a decent standard of living. Almost two-thirds of the country lives on less than US$2 a day and about 40 per cent of Pakistani children suffer from chronic malnutrition. How can Pakistan be called an Islamic society?. Imran Khan says 'End your ego, think of nation. Iqbal not only conceived of a self-governing Muslim state, his passionate voice awakened and activated Indian Muslims, motivating them not only to strive to free themselves from the bondage of imperialism and colonialism, but also to challenge other forms of totalitarian control. Believing fervently in human equality and the right of human beings to dignity, justice and freedom, Iqbal empowered the dis-empowered to stand up and be counted. Starting a war is in our hands, it is easy. But ending a war, that is not in our hands and no one knows what will happen\n"
          ],
          "name": "stdout"
        }
      ]
    },
    {
      "cell_type": "markdown",
      "metadata": {
        "id": "dW_5PtHy1Y55"
      },
      "source": [
        "**13. Removal of Stop Words:**"
      ]
    },
    {
      "cell_type": "code",
      "metadata": {
        "id": "b6fXjmQY1g8o",
        "colab": {
          "base_uri": "https://localhost:8080/"
        },
        "outputId": "76513981-246a-4cfb-cd78-d708b50abf0c"
      },
      "source": [
        "filtered_sent=[]\r\n",
        "for w in tokenized_word:\r\n",
        "    if w not in stop_words:\r\n",
        "        filtered_sent.append(w)\r\n",
        "print(\"Tokenized Quotes:\",tokenized_word)\r\n",
        "print(\" Removal of Stop Words:\",filtered_sent)"
      ],
      "execution_count": 139,
      "outputs": [
        {
          "output_type": "stream",
          "text": [
            "Tokenized Quotes: ['It', 'is', 'not', 'defeat', 'that', 'destroys', 'you', ',', 'it', 'is', 'being', 'demoralized', 'by', 'defeat', 'that', 'destroy', 'you', '.', 'The', 'more', 'you', 'study', ',', 'the', 'more', 'you', 'know', ';', 'how', 'less', 'you', 'know', '.', 'I', 'have', 'always', 'believed', 'that', 'one', 'should', 'not', 'be', 'scared', 'of', 'losing', ',', 'I', 'think', 'that', 'really', 'is', 'the', 'key', '.', 'Never', 'give', 'up', ',', 'no', 'matter', 'how', 'hard', 'life', 'gets', 'no', 'matter', 'how', 'much', 'pain', 'you', 'feel', '.', 'Pain', 'will', 'eventually', 'subside', ',', 'nothing', 'remains', 'forever', ',', 'so', 'keep', 'going', 'and', 'do', \"n't\", 'give', 'up', '.', 'Lack', 'of', 'rule', 'of', 'law', 'is', 'the', 'main', 'reason', 'Pakistan', 'could', 'not', 'join', 'the', 'ranks', 'of', 'progressive', 'nations', '.', 'Are', 'we', 'Pakistanis', ',', 'children', 'of', 'a', 'lesser', 'God', '?', 'Is', 'there', 'one', 'law', 'for', 'the', 'west', 'and', 'one', 'for', 'us', '?', 'Is', 'our', 'democracy', 'supposed', 'to', 'be', 'only', 'democracy', 'if', 'you', 'give', 'us', 'a', 'no', 'objection', 'certificate', '?', '.', 'Compromise', 'for', 'your', 'Dream', 'but', 'NEVER', 'Compromise', 'on', 'your', 'Dream', '.', 'We', 'must', 'speak', 'the', 'truth', 'if', 'we', 'are', 'to', 'be', 'a', 'great', 'nation', '.', 'Crime', 'should', 'not', 'pay', ',', 'it', 'must', 'be', 'punished', '.', 'Unfortunately', ',', 'in', 'Pakistan', 'big', 'crimes', 'do', 'get', 'rewarded', '.', 'Leader', 'leads', 'people', '.', 'Leader', 'does', 'not', 'follow', 'public', 'opinion', '.', 'Faith', 'without', 'wisdom', 'and', 'knowledge', 'could', 'produce', 'bigots', 'completely', 'lacking', 'in', 'compassion', 'and', 'tolerance', '.', 'Holy', 'Prophet', 'PBUH', 'promulgated', 'a', 'justice', 'system', 'regardless', 'of', 'status', 'of', 'people', ',', 'yet', 'in', 'Pak', 'the', 'powerful', 'easily', 'escapes', '.', 'Mothers', 'train', 'your', 'children', 'to', 'only', 'Speak', 'Truth', '.', 'There', 'is', 'so', 'much', 'debate', 'about', 'moderate', 'and', 'radical', 'Islam', 'but', 'there', 'is', 'only', 'one', 'Islam', '.', 'Imran', 'Khan', 'asked', 'Pakistanis', 'of', 'four', 'things', 'at', 'the', 'Historic', 'Lahore', 'Jalsa', '.', 'We', 'shall', 'never', 'lie', 'and', 'always', 'speak', 'the', 'truth', '.', 'Leave', 'our', 'ego', '’', 's', 'behind', 'and', 'only', 'think', 'of', 'this', 'Nation', ',', 'there', 'are', '11', 'crore', 'Pakistanis', 'living', 'beneath', 'poverty', 'line', '.', 'We', 'shall', 'be', 'brave', 'and', 'break', 'the', 'shackles', 'of', 'fear', '.', 'We', 'have', 'to', 'bring', 'Justice', 'to', 'this', 'society', ',', 'even', 'if', 'our', 'friends', 'and', 'relatives', 'do', 'injustice', ',', 'we', 'shall', 'be', 'fair', 'and', 'bring', 'them', 'to', 'Justice', '.', 'I', 'felt', 'like', 'the', 'Islamic', 'scholar', 'Muhammad', 'Abduh', '(', '1849-1905', ')', ',', 'who', 'said', 'on', 'his', 'return', 'from', 'a', 'trip', 'to', 'Europe', 'to', 'his', 'homeland', 'Egypt', \"'I\", 'saw', 'no', 'Muslims', 'in', 'Europe', 'but', 'I', 'saw', 'a', 'lot', 'of', 'Islam', ',', \"'\", 'and', 'of', 'his', 'homeland', \"'There\", 'are', 'a', 'lot', 'of', 'Muslims', 'here', 'but', 'no', 'Islam', '.', 'Certain', 'folks', 'start', 'playing', 'Sindh', 'Card', 'despite', 'having', 'ravaged', 'the', 'life', 'of', 'the', 'common', 'Sindhi', '.', 'My', 'Pakistanis', ',', 'you', 'have', 'not', 'left', 'me', 'alone', 'and', 'I', 'promise', ',', 'I', 'will', 'never', 'leave', 'you', 'alone', 'in', 'sha', 'Allah', '.', 'When', 'I', 'was', 'older', ',', 'I', 'found', 'Iqbal', \"'s\", 'work', 'hugely', 'inspirational', '.', 'He', 'argued', 'against', 'an', 'unquestioning', 'acceptance', 'of', 'Western', 'democracy', 'as', 'the', 'self-governing', 'model', ',', 'and', 'instead', 'suggested', 'that', 'by', 'following', 'the', 'rules', 'of', 'Islam', 'a', 'society', 'would', 'tend', 'naturally', 'towards', 'social', 'justice', ',', 'tolerance', ',', 'peace', 'and', 'equality', '.', 'Iqbal', \"'s\", 'interpretation', 'of', 'Islam', 'differs', 'very', 'widely', 'from', 'the', 'narrow', 'meaning', 'that', 'is', 'sometimes', 'given', 'to', 'it', '.', 'For', 'Iqbal', ',', 'Islam', 'is', 'not', 'just', 'the', 'name', 'for', 'certain', 'beliefs', 'and', 'forms', 'of', 'worship', '.', 'The', 'difference', 'between', 'a', 'Muslim', 'and', 'a', 'non-Muslim', 'is', 'not', 'merely', 'a', 'theological', 'one', '-', 'it', 'is', 'a', 'difference', 'of', 'a', 'fundamental', 'attitude', 'towards', 'life', '.', 'Truth', 'is', 'the', 'power', 'that', 'will', 'resolve', 'our', 'problems', '.', 'Allah', 'exalts', 'whom', 'he', 'wills', '!', '.', 'Bravery', 'is', 'standing', 'with', 'the', 'truth', 'and', 'right', '.', 'There', 'are', 'greater', 'goals', 'in', 'life', 'than', 'material', 'and', 'sensual', 'pleasures', '.', 'The', 'war', 'on', 'terror', 'is', 'the', 'most', 'insane', 'and', 'immoral', 'war', 'of', 'all', 'time', '.', 'The', 'Americans', 'are', 'doing', 'what', 'they', 'did', 'in', 'Vietnam', ',', 'bombing', 'villages', '.', 'But', 'how', 'can', 'a', 'civilised', 'nation', 'do', 'this', '?', 'How', 'can', 'you', 'can', 'eliminate', 'suspects', ',', 'their', 'wives', ',', 'their', 'children', ',', 'their', 'families', ',', 'their', 'neighbours', '?', 'How', 'can', 'you', 'justify', 'this', '?', '.', 'I', 'want', 'you', 'all', 'to', 'stand', 'like', 'the', 'Muslims', 'who', 'stood', 'with', 'La', 'ilaaha', 'ilalla', 'for', 'Truth', 'and', 'Right', '.', 'Say', 'goodbye', 'to', 'the', 'IMF', 'once', 'and', 'for', 'all', 'as', 'the', 'IMF', \"'s\", 'conditions', 'enriches', 'the', 'rich', 'and', 'impoverishes', 'the', 'poor', '.', 'Good', 'deeds', 'must', 'be', 'rewarded', 'by', 'the', 'system', 'and', 'crimes', 'be', 'punished', '-', 'this', 'is', 'the', 'essence', 'of', 'meritocracy', '.', 'Prophet', '(', 'PBUH', ')', 'considered', 'the', 'ink', 'of', 'a', 'scholar', 'to', 'be', 'holier', 'than', 'the', 'blood', 'of', 'a', 'martyr', '.', 'Ethnic-based', 'politics', 'is', 'being', 'used', 'to', 'exhort', 'people', ',', 'to', 'serve', 'own', 'ends', '-', 'this', 'is', 'anathema', 'to', 'concept', 'of', 'nationalism', '.', 'When', 'you', 'remove', 'the', 'concept', 'of', 'reward', 'and', 'punishment', 'on', 'merit', ',', 'the', 'result', 'is', 'the', 'utter', 'destruction', 'of', 'social', 'fabric', '.', 'I', 'wanted', 'to', 'be', 'an', 'outstanding', 'player', ',', 'that', 'was', 'my', 'ambition', '.', 'When', 'I', 'announced', 'my', 'party', ',', 'Tehreek-e-Insaf', '(', 'Movement', 'for', 'Justice', ')', 'on', '25', 'April', '1996', ',', 'I', 'had', 'lost', 'all', 'fear', 'of', 'dying', '.', 'A', 'condemned', 'poor', 'man', ',', 'if', 'steals', 'to', 'feed', 'his', 'starving', 'kid', ',', 'is', 'slammed', 'into', 'prison', '.', 'Contrast', 'this', 'to', 'a', 'rich', 'man', \"'s\", 'crime', '.', 'الله', 'تعالی', 'نے', 'انسان', 'کے', 'هاته', 'مین', 'نیت', 'اور', 'کوشش', 'دی', 'هے', 'کامیابی', 'وه', 'دیتا', 'هے', '.', 'Faith', 'should', 'be', 'about', 'encouraging', 'all', 'that', 'is', 'noble', 'in', 'a', 'human', 'being', '.', 'Leader', 'follows', 'his', 'ideology', ',', 'Leader', 'does', 'not', 'follow', 'his', 'relatives', 'and', 'friends', '.', 'According', 'to', 'the', 'UNDP', '(', 'United', 'Nations', 'Development', 'Programme', ')', ',', '54', 'per', 'cent', 'of', 'Pakistanis', 'face', \"'multi-dimentional\", 'deprivation', \"'\", '.', 'meaning', 'they', 'lack', 'access', 'to', 'proper', 'education', 'and', 'health', 'facilities', 'and', 'a', 'decent', 'standard', 'of', 'living', '.', 'Almost', 'two-thirds', 'of', 'the', 'country', 'lives', 'on', 'less', 'than', 'US', '$', '2', 'a', 'day', 'and', 'about', '40', 'per', 'cent', 'of', 'Pakistani', 'children', 'suffer', 'from', 'chronic', 'malnutrition', '.', 'How', 'can', 'Pakistan', 'be', 'called', 'an', 'Islamic', 'society', '?', '.', 'Imran', 'Khan', 'says', \"'End\", 'your', 'ego', ',', 'think', 'of', 'nation', '.', 'Iqbal', 'not', 'only', 'conceived', 'of', 'a', 'self-governing', 'Muslim', 'state', ',', 'his', 'passionate', 'voice', 'awakened', 'and', 'activated', 'Indian', 'Muslims', ',', 'motivating', 'them', 'not', 'only', 'to', 'strive', 'to', 'free', 'themselves', 'from', 'the', 'bondage', 'of', 'imperialism', 'and', 'colonialism', ',', 'but', 'also', 'to', 'challenge', 'other', 'forms', 'of', 'totalitarian', 'control', '.', 'Believing', 'fervently', 'in', 'human', 'equality', 'and', 'the', 'right', 'of', 'human', 'beings', 'to', 'dignity', ',', 'justice', 'and', 'freedom', ',', 'Iqbal', 'empowered', 'the', 'dis-empowered', 'to', 'stand', 'up', 'and', 'be', 'counted', '.', 'Starting', 'a', 'war', 'is', 'in', 'our', 'hands', ',', 'it', 'is', 'easy', '.', 'But', 'ending', 'a', 'war', ',', 'that', 'is', 'not', 'in', 'our', 'hands', 'and', 'no', 'one', 'knows', 'what', 'will', 'happen']\n",
            " Removal of Stop Words: ['It', 'defeat', 'destroys', ',', 'demoralized', 'defeat', 'destroy', '.', 'The', 'study', ',', 'know', ';', 'less', 'know', '.', 'I', 'always', 'believed', 'one', 'scared', 'losing', ',', 'I', 'think', 'really', 'key', '.', 'Never', 'give', ',', 'matter', 'hard', 'life', 'gets', 'matter', 'much', 'pain', 'feel', '.', 'Pain', 'eventually', 'subside', ',', 'nothing', 'remains', 'forever', ',', 'keep', 'going', \"n't\", 'give', '.', 'Lack', 'rule', 'law', 'main', 'reason', 'Pakistan', 'could', 'join', 'ranks', 'progressive', 'nations', '.', 'Are', 'Pakistanis', ',', 'children', 'lesser', 'God', '?', 'Is', 'one', 'law', 'west', 'one', 'us', '?', 'Is', 'democracy', 'supposed', 'democracy', 'give', 'us', 'objection', 'certificate', '?', '.', 'Compromise', 'Dream', 'NEVER', 'Compromise', 'Dream', '.', 'We', 'must', 'speak', 'truth', 'great', 'nation', '.', 'Crime', 'pay', ',', 'must', 'punished', '.', 'Unfortunately', ',', 'Pakistan', 'big', 'crimes', 'get', 'rewarded', '.', 'Leader', 'leads', 'people', '.', 'Leader', 'follow', 'public', 'opinion', '.', 'Faith', 'without', 'wisdom', 'knowledge', 'could', 'produce', 'bigots', 'completely', 'lacking', 'compassion', 'tolerance', '.', 'Holy', 'Prophet', 'PBUH', 'promulgated', 'justice', 'system', 'regardless', 'status', 'people', ',', 'yet', 'Pak', 'powerful', 'easily', 'escapes', '.', 'Mothers', 'train', 'children', 'Speak', 'Truth', '.', 'There', 'much', 'debate', 'moderate', 'radical', 'Islam', 'one', 'Islam', '.', 'Imran', 'Khan', 'asked', 'Pakistanis', 'four', 'things', 'Historic', 'Lahore', 'Jalsa', '.', 'We', 'shall', 'never', 'lie', 'always', 'speak', 'truth', '.', 'Leave', 'ego', '’', 'behind', 'think', 'Nation', ',', '11', 'crore', 'Pakistanis', 'living', 'beneath', 'poverty', 'line', '.', 'We', 'shall', 'brave', 'break', 'shackles', 'fear', '.', 'We', 'bring', 'Justice', 'society', ',', 'even', 'friends', 'relatives', 'injustice', ',', 'shall', 'fair', 'bring', 'Justice', '.', 'I', 'felt', 'like', 'Islamic', 'scholar', 'Muhammad', 'Abduh', '(', '1849-1905', ')', ',', 'said', 'return', 'trip', 'Europe', 'homeland', 'Egypt', \"'I\", 'saw', 'Muslims', 'Europe', 'I', 'saw', 'lot', 'Islam', ',', \"'\", 'homeland', \"'There\", 'lot', 'Muslims', 'Islam', '.', 'Certain', 'folks', 'start', 'playing', 'Sindh', 'Card', 'despite', 'ravaged', 'life', 'common', 'Sindhi', '.', 'My', 'Pakistanis', ',', 'left', 'alone', 'I', 'promise', ',', 'I', 'never', 'leave', 'alone', 'sha', 'Allah', '.', 'When', 'I', 'older', ',', 'I', 'found', 'Iqbal', \"'s\", 'work', 'hugely', 'inspirational', '.', 'He', 'argued', 'unquestioning', 'acceptance', 'Western', 'democracy', 'self-governing', 'model', ',', 'instead', 'suggested', 'following', 'rules', 'Islam', 'society', 'would', 'tend', 'naturally', 'towards', 'social', 'justice', ',', 'tolerance', ',', 'peace', 'equality', '.', 'Iqbal', \"'s\", 'interpretation', 'Islam', 'differs', 'widely', 'narrow', 'meaning', 'sometimes', 'given', '.', 'For', 'Iqbal', ',', 'Islam', 'name', 'certain', 'beliefs', 'forms', 'worship', '.', 'The', 'difference', 'Muslim', 'non-Muslim', 'merely', 'theological', 'one', '-', 'difference', 'fundamental', 'attitude', 'towards', 'life', '.', 'Truth', 'power', 'resolve', 'problems', '.', 'Allah', 'exalts', 'wills', '!', '.', 'Bravery', 'standing', 'truth', 'right', '.', 'There', 'greater', 'goals', 'life', 'material', 'sensual', 'pleasures', '.', 'The', 'war', 'terror', 'insane', 'immoral', 'war', 'time', '.', 'The', 'Americans', 'Vietnam', ',', 'bombing', 'villages', '.', 'But', 'civilised', 'nation', '?', 'How', 'eliminate', 'suspects', ',', 'wives', ',', 'children', ',', 'families', ',', 'neighbours', '?', 'How', 'justify', '?', '.', 'I', 'want', 'stand', 'like', 'Muslims', 'stood', 'La', 'ilaaha', 'ilalla', 'Truth', 'Right', '.', 'Say', 'goodbye', 'IMF', 'IMF', \"'s\", 'conditions', 'enriches', 'rich', 'impoverishes', 'poor', '.', 'Good', 'deeds', 'must', 'rewarded', 'system', 'crimes', 'punished', '-', 'essence', 'meritocracy', '.', 'Prophet', '(', 'PBUH', ')', 'considered', 'ink', 'scholar', 'holier', 'blood', 'martyr', '.', 'Ethnic-based', 'politics', 'used', 'exhort', 'people', ',', 'serve', 'ends', '-', 'anathema', 'concept', 'nationalism', '.', 'When', 'remove', 'concept', 'reward', 'punishment', 'merit', ',', 'result', 'utter', 'destruction', 'social', 'fabric', '.', 'I', 'wanted', 'outstanding', 'player', ',', 'ambition', '.', 'When', 'I', 'announced', 'party', ',', 'Tehreek-e-Insaf', '(', 'Movement', 'Justice', ')', '25', 'April', '1996', ',', 'I', 'lost', 'fear', 'dying', '.', 'A', 'condemned', 'poor', 'man', ',', 'steals', 'feed', 'starving', 'kid', ',', 'slammed', 'prison', '.', 'Contrast', 'rich', 'man', \"'s\", 'crime', '.', 'الله', 'تعالی', 'نے', 'انسان', 'کے', 'هاته', 'مین', 'نیت', 'اور', 'کوشش', 'دی', 'هے', 'کامیابی', 'وه', 'دیتا', 'هے', '.', 'Faith', 'encouraging', 'noble', 'human', '.', 'Leader', 'follows', 'ideology', ',', 'Leader', 'follow', 'relatives', 'friends', '.', 'According', 'UNDP', '(', 'United', 'Nations', 'Development', 'Programme', ')', ',', '54', 'per', 'cent', 'Pakistanis', 'face', \"'multi-dimentional\", 'deprivation', \"'\", '.', 'meaning', 'lack', 'access', 'proper', 'education', 'health', 'facilities', 'decent', 'standard', 'living', '.', 'Almost', 'two-thirds', 'country', 'lives', 'less', 'US', '$', '2', 'day', '40', 'per', 'cent', 'Pakistani', 'children', 'suffer', 'chronic', 'malnutrition', '.', 'How', 'Pakistan', 'called', 'Islamic', 'society', '?', '.', 'Imran', 'Khan', 'says', \"'End\", 'ego', ',', 'think', 'nation', '.', 'Iqbal', 'conceived', 'self-governing', 'Muslim', 'state', ',', 'passionate', 'voice', 'awakened', 'activated', 'Indian', 'Muslims', ',', 'motivating', 'strive', 'free', 'bondage', 'imperialism', 'colonialism', ',', 'also', 'challenge', 'forms', 'totalitarian', 'control', '.', 'Believing', 'fervently', 'human', 'equality', 'right', 'human', 'beings', 'dignity', ',', 'justice', 'freedom', ',', 'Iqbal', 'empowered', 'dis-empowered', 'stand', 'counted', '.', 'Starting', 'war', 'hands', ',', 'easy', '.', 'But', 'ending', 'war', ',', 'hands', 'one', 'knows', 'happen']\n"
          ],
          "name": "stdout"
        }
      ]
    },
    {
      "cell_type": "markdown",
      "metadata": {
        "id": "jezIUN251ZKt"
      },
      "source": [
        "**14. Common Occurring words Removal:**"
      ]
    },
    {
      "cell_type": "code",
      "metadata": {
        "id": "ezFLBl-R1jNT",
        "colab": {
          "base_uri": "https://localhost:8080/"
        },
        "outputId": "e5c5c887-27fb-45db-9542-2ea3c60680b3"
      },
      "source": [
        "# Commonly occuring words are usually stop words like \"is, am, are, there, they, him, her etc\"\r\n",
        "from nltk.tokenize import word_tokenize\r\n",
        "tokenized_word=word_tokenize(all_quotes_string)\r\n",
        "print(tokenized_word)\r\n",
        "filtered_sent=[]\r\n",
        "for w in tokenized_word:\r\n",
        "    if w not in stop_words:\r\n",
        "        filtered_sent.append(w)\r\n",
        "print(\"Tokenized Quotes:\",tokenized_word)\r\n",
        "print(\" Removal of Commonly occuring words:\",filtered_sent)"
      ],
      "execution_count": 140,
      "outputs": [
        {
          "output_type": "stream",
          "text": [
            "['It', 'is', 'not', 'defeat', 'that', 'destroys', 'you', ',', 'it', 'is', 'being', 'demoralized', 'by', 'defeat', 'that', 'destroy', 'you', '.', 'The', 'more', 'you', 'study', ',', 'the', 'more', 'you', 'know', ';', 'how', 'less', 'you', 'know', '.', 'I', 'have', 'always', 'believed', 'that', 'one', 'should', 'not', 'be', 'scared', 'of', 'losing', ',', 'I', 'think', 'that', 'really', 'is', 'the', 'key', '.', 'Never', 'give', 'up', ',', 'no', 'matter', 'how', 'hard', 'life', 'gets', 'no', 'matter', 'how', 'much', 'pain', 'you', 'feel', '.', 'Pain', 'will', 'eventually', 'subside', ',', 'nothing', 'remains', 'forever', ',', 'so', 'keep', 'going', 'and', 'do', \"n't\", 'give', 'up', '.', 'Lack', 'of', 'rule', 'of', 'law', 'is', 'the', 'main', 'reason', 'Pakistan', 'could', 'not', 'join', 'the', 'ranks', 'of', 'progressive', 'nations', '.', 'Are', 'we', 'Pakistanis', ',', 'children', 'of', 'a', 'lesser', 'God', '?', 'Is', 'there', 'one', 'law', 'for', 'the', 'west', 'and', 'one', 'for', 'us', '?', 'Is', 'our', 'democracy', 'supposed', 'to', 'be', 'only', 'democracy', 'if', 'you', 'give', 'us', 'a', 'no', 'objection', 'certificate', '?', '.', 'Compromise', 'for', 'your', 'Dream', 'but', 'NEVER', 'Compromise', 'on', 'your', 'Dream', '.', 'We', 'must', 'speak', 'the', 'truth', 'if', 'we', 'are', 'to', 'be', 'a', 'great', 'nation', '.', 'Crime', 'should', 'not', 'pay', ',', 'it', 'must', 'be', 'punished', '.', 'Unfortunately', ',', 'in', 'Pakistan', 'big', 'crimes', 'do', 'get', 'rewarded', '.', 'Leader', 'leads', 'people', '.', 'Leader', 'does', 'not', 'follow', 'public', 'opinion', '.', 'Faith', 'without', 'wisdom', 'and', 'knowledge', 'could', 'produce', 'bigots', 'completely', 'lacking', 'in', 'compassion', 'and', 'tolerance', '.', 'Holy', 'Prophet', 'PBUH', 'promulgated', 'a', 'justice', 'system', 'regardless', 'of', 'status', 'of', 'people', ',', 'yet', 'in', 'Pak', 'the', 'powerful', 'easily', 'escapes', '.', 'Mothers', 'train', 'your', 'children', 'to', 'only', 'Speak', 'Truth', '.', 'There', 'is', 'so', 'much', 'debate', 'about', 'moderate', 'and', 'radical', 'Islam', 'but', 'there', 'is', 'only', 'one', 'Islam', '.', 'Imran', 'Khan', 'asked', 'Pakistanis', 'of', 'four', 'things', 'at', 'the', 'Historic', 'Lahore', 'Jalsa', '.', 'We', 'shall', 'never', 'lie', 'and', 'always', 'speak', 'the', 'truth', '.', 'Leave', 'our', 'ego', '’', 's', 'behind', 'and', 'only', 'think', 'of', 'this', 'Nation', ',', 'there', 'are', '11', 'crore', 'Pakistanis', 'living', 'beneath', 'poverty', 'line', '.', 'We', 'shall', 'be', 'brave', 'and', 'break', 'the', 'shackles', 'of', 'fear', '.', 'We', 'have', 'to', 'bring', 'Justice', 'to', 'this', 'society', ',', 'even', 'if', 'our', 'friends', 'and', 'relatives', 'do', 'injustice', ',', 'we', 'shall', 'be', 'fair', 'and', 'bring', 'them', 'to', 'Justice', '.', 'I', 'felt', 'like', 'the', 'Islamic', 'scholar', 'Muhammad', 'Abduh', '(', '1849-1905', ')', ',', 'who', 'said', 'on', 'his', 'return', 'from', 'a', 'trip', 'to', 'Europe', 'to', 'his', 'homeland', 'Egypt', \"'I\", 'saw', 'no', 'Muslims', 'in', 'Europe', 'but', 'I', 'saw', 'a', 'lot', 'of', 'Islam', ',', \"'\", 'and', 'of', 'his', 'homeland', \"'There\", 'are', 'a', 'lot', 'of', 'Muslims', 'here', 'but', 'no', 'Islam', '.', 'Certain', 'folks', 'start', 'playing', 'Sindh', 'Card', 'despite', 'having', 'ravaged', 'the', 'life', 'of', 'the', 'common', 'Sindhi', '.', 'My', 'Pakistanis', ',', 'you', 'have', 'not', 'left', 'me', 'alone', 'and', 'I', 'promise', ',', 'I', 'will', 'never', 'leave', 'you', 'alone', 'in', 'sha', 'Allah', '.', 'When', 'I', 'was', 'older', ',', 'I', 'found', 'Iqbal', \"'s\", 'work', 'hugely', 'inspirational', '.', 'He', 'argued', 'against', 'an', 'unquestioning', 'acceptance', 'of', 'Western', 'democracy', 'as', 'the', 'self-governing', 'model', ',', 'and', 'instead', 'suggested', 'that', 'by', 'following', 'the', 'rules', 'of', 'Islam', 'a', 'society', 'would', 'tend', 'naturally', 'towards', 'social', 'justice', ',', 'tolerance', ',', 'peace', 'and', 'equality', '.', 'Iqbal', \"'s\", 'interpretation', 'of', 'Islam', 'differs', 'very', 'widely', 'from', 'the', 'narrow', 'meaning', 'that', 'is', 'sometimes', 'given', 'to', 'it', '.', 'For', 'Iqbal', ',', 'Islam', 'is', 'not', 'just', 'the', 'name', 'for', 'certain', 'beliefs', 'and', 'forms', 'of', 'worship', '.', 'The', 'difference', 'between', 'a', 'Muslim', 'and', 'a', 'non-Muslim', 'is', 'not', 'merely', 'a', 'theological', 'one', '-', 'it', 'is', 'a', 'difference', 'of', 'a', 'fundamental', 'attitude', 'towards', 'life', '.', 'Truth', 'is', 'the', 'power', 'that', 'will', 'resolve', 'our', 'problems', '.', 'Allah', 'exalts', 'whom', 'he', 'wills', '!', '.', 'Bravery', 'is', 'standing', 'with', 'the', 'truth', 'and', 'right', '.', 'There', 'are', 'greater', 'goals', 'in', 'life', 'than', 'material', 'and', 'sensual', 'pleasures', '.', 'The', 'war', 'on', 'terror', 'is', 'the', 'most', 'insane', 'and', 'immoral', 'war', 'of', 'all', 'time', '.', 'The', 'Americans', 'are', 'doing', 'what', 'they', 'did', 'in', 'Vietnam', ',', 'bombing', 'villages', '.', 'But', 'how', 'can', 'a', 'civilised', 'nation', 'do', 'this', '?', 'How', 'can', 'you', 'can', 'eliminate', 'suspects', ',', 'their', 'wives', ',', 'their', 'children', ',', 'their', 'families', ',', 'their', 'neighbours', '?', 'How', 'can', 'you', 'justify', 'this', '?', '.', 'I', 'want', 'you', 'all', 'to', 'stand', 'like', 'the', 'Muslims', 'who', 'stood', 'with', 'La', 'ilaaha', 'ilalla', 'for', 'Truth', 'and', 'Right', '.', 'Say', 'goodbye', 'to', 'the', 'IMF', 'once', 'and', 'for', 'all', 'as', 'the', 'IMF', \"'s\", 'conditions', 'enriches', 'the', 'rich', 'and', 'impoverishes', 'the', 'poor', '.', 'Good', 'deeds', 'must', 'be', 'rewarded', 'by', 'the', 'system', 'and', 'crimes', 'be', 'punished', '-', 'this', 'is', 'the', 'essence', 'of', 'meritocracy', '.', 'Prophet', '(', 'PBUH', ')', 'considered', 'the', 'ink', 'of', 'a', 'scholar', 'to', 'be', 'holier', 'than', 'the', 'blood', 'of', 'a', 'martyr', '.', 'Ethnic-based', 'politics', 'is', 'being', 'used', 'to', 'exhort', 'people', ',', 'to', 'serve', 'own', 'ends', '-', 'this', 'is', 'anathema', 'to', 'concept', 'of', 'nationalism', '.', 'When', 'you', 'remove', 'the', 'concept', 'of', 'reward', 'and', 'punishment', 'on', 'merit', ',', 'the', 'result', 'is', 'the', 'utter', 'destruction', 'of', 'social', 'fabric', '.', 'I', 'wanted', 'to', 'be', 'an', 'outstanding', 'player', ',', 'that', 'was', 'my', 'ambition', '.', 'When', 'I', 'announced', 'my', 'party', ',', 'Tehreek-e-Insaf', '(', 'Movement', 'for', 'Justice', ')', 'on', '25', 'April', '1996', ',', 'I', 'had', 'lost', 'all', 'fear', 'of', 'dying', '.', 'A', 'condemned', 'poor', 'man', ',', 'if', 'steals', 'to', 'feed', 'his', 'starving', 'kid', ',', 'is', 'slammed', 'into', 'prison', '.', 'Contrast', 'this', 'to', 'a', 'rich', 'man', \"'s\", 'crime', '.', 'الله', 'تعالی', 'نے', 'انسان', 'کے', 'هاته', 'مین', 'نیت', 'اور', 'کوشش', 'دی', 'هے', 'کامیابی', 'وه', 'دیتا', 'هے', '.', 'Faith', 'should', 'be', 'about', 'encouraging', 'all', 'that', 'is', 'noble', 'in', 'a', 'human', 'being', '.', 'Leader', 'follows', 'his', 'ideology', ',', 'Leader', 'does', 'not', 'follow', 'his', 'relatives', 'and', 'friends', '.', 'According', 'to', 'the', 'UNDP', '(', 'United', 'Nations', 'Development', 'Programme', ')', ',', '54', 'per', 'cent', 'of', 'Pakistanis', 'face', \"'multi-dimentional\", 'deprivation', \"'\", '.', 'meaning', 'they', 'lack', 'access', 'to', 'proper', 'education', 'and', 'health', 'facilities', 'and', 'a', 'decent', 'standard', 'of', 'living', '.', 'Almost', 'two-thirds', 'of', 'the', 'country', 'lives', 'on', 'less', 'than', 'US', '$', '2', 'a', 'day', 'and', 'about', '40', 'per', 'cent', 'of', 'Pakistani', 'children', 'suffer', 'from', 'chronic', 'malnutrition', '.', 'How', 'can', 'Pakistan', 'be', 'called', 'an', 'Islamic', 'society', '?', '.', 'Imran', 'Khan', 'says', \"'End\", 'your', 'ego', ',', 'think', 'of', 'nation', '.', 'Iqbal', 'not', 'only', 'conceived', 'of', 'a', 'self-governing', 'Muslim', 'state', ',', 'his', 'passionate', 'voice', 'awakened', 'and', 'activated', 'Indian', 'Muslims', ',', 'motivating', 'them', 'not', 'only', 'to', 'strive', 'to', 'free', 'themselves', 'from', 'the', 'bondage', 'of', 'imperialism', 'and', 'colonialism', ',', 'but', 'also', 'to', 'challenge', 'other', 'forms', 'of', 'totalitarian', 'control', '.', 'Believing', 'fervently', 'in', 'human', 'equality', 'and', 'the', 'right', 'of', 'human', 'beings', 'to', 'dignity', ',', 'justice', 'and', 'freedom', ',', 'Iqbal', 'empowered', 'the', 'dis-empowered', 'to', 'stand', 'up', 'and', 'be', 'counted', '.', 'Starting', 'a', 'war', 'is', 'in', 'our', 'hands', ',', 'it', 'is', 'easy', '.', 'But', 'ending', 'a', 'war', ',', 'that', 'is', 'not', 'in', 'our', 'hands', 'and', 'no', 'one', 'knows', 'what', 'will', 'happen']\n",
            "Tokenized Quotes: ['It', 'is', 'not', 'defeat', 'that', 'destroys', 'you', ',', 'it', 'is', 'being', 'demoralized', 'by', 'defeat', 'that', 'destroy', 'you', '.', 'The', 'more', 'you', 'study', ',', 'the', 'more', 'you', 'know', ';', 'how', 'less', 'you', 'know', '.', 'I', 'have', 'always', 'believed', 'that', 'one', 'should', 'not', 'be', 'scared', 'of', 'losing', ',', 'I', 'think', 'that', 'really', 'is', 'the', 'key', '.', 'Never', 'give', 'up', ',', 'no', 'matter', 'how', 'hard', 'life', 'gets', 'no', 'matter', 'how', 'much', 'pain', 'you', 'feel', '.', 'Pain', 'will', 'eventually', 'subside', ',', 'nothing', 'remains', 'forever', ',', 'so', 'keep', 'going', 'and', 'do', \"n't\", 'give', 'up', '.', 'Lack', 'of', 'rule', 'of', 'law', 'is', 'the', 'main', 'reason', 'Pakistan', 'could', 'not', 'join', 'the', 'ranks', 'of', 'progressive', 'nations', '.', 'Are', 'we', 'Pakistanis', ',', 'children', 'of', 'a', 'lesser', 'God', '?', 'Is', 'there', 'one', 'law', 'for', 'the', 'west', 'and', 'one', 'for', 'us', '?', 'Is', 'our', 'democracy', 'supposed', 'to', 'be', 'only', 'democracy', 'if', 'you', 'give', 'us', 'a', 'no', 'objection', 'certificate', '?', '.', 'Compromise', 'for', 'your', 'Dream', 'but', 'NEVER', 'Compromise', 'on', 'your', 'Dream', '.', 'We', 'must', 'speak', 'the', 'truth', 'if', 'we', 'are', 'to', 'be', 'a', 'great', 'nation', '.', 'Crime', 'should', 'not', 'pay', ',', 'it', 'must', 'be', 'punished', '.', 'Unfortunately', ',', 'in', 'Pakistan', 'big', 'crimes', 'do', 'get', 'rewarded', '.', 'Leader', 'leads', 'people', '.', 'Leader', 'does', 'not', 'follow', 'public', 'opinion', '.', 'Faith', 'without', 'wisdom', 'and', 'knowledge', 'could', 'produce', 'bigots', 'completely', 'lacking', 'in', 'compassion', 'and', 'tolerance', '.', 'Holy', 'Prophet', 'PBUH', 'promulgated', 'a', 'justice', 'system', 'regardless', 'of', 'status', 'of', 'people', ',', 'yet', 'in', 'Pak', 'the', 'powerful', 'easily', 'escapes', '.', 'Mothers', 'train', 'your', 'children', 'to', 'only', 'Speak', 'Truth', '.', 'There', 'is', 'so', 'much', 'debate', 'about', 'moderate', 'and', 'radical', 'Islam', 'but', 'there', 'is', 'only', 'one', 'Islam', '.', 'Imran', 'Khan', 'asked', 'Pakistanis', 'of', 'four', 'things', 'at', 'the', 'Historic', 'Lahore', 'Jalsa', '.', 'We', 'shall', 'never', 'lie', 'and', 'always', 'speak', 'the', 'truth', '.', 'Leave', 'our', 'ego', '’', 's', 'behind', 'and', 'only', 'think', 'of', 'this', 'Nation', ',', 'there', 'are', '11', 'crore', 'Pakistanis', 'living', 'beneath', 'poverty', 'line', '.', 'We', 'shall', 'be', 'brave', 'and', 'break', 'the', 'shackles', 'of', 'fear', '.', 'We', 'have', 'to', 'bring', 'Justice', 'to', 'this', 'society', ',', 'even', 'if', 'our', 'friends', 'and', 'relatives', 'do', 'injustice', ',', 'we', 'shall', 'be', 'fair', 'and', 'bring', 'them', 'to', 'Justice', '.', 'I', 'felt', 'like', 'the', 'Islamic', 'scholar', 'Muhammad', 'Abduh', '(', '1849-1905', ')', ',', 'who', 'said', 'on', 'his', 'return', 'from', 'a', 'trip', 'to', 'Europe', 'to', 'his', 'homeland', 'Egypt', \"'I\", 'saw', 'no', 'Muslims', 'in', 'Europe', 'but', 'I', 'saw', 'a', 'lot', 'of', 'Islam', ',', \"'\", 'and', 'of', 'his', 'homeland', \"'There\", 'are', 'a', 'lot', 'of', 'Muslims', 'here', 'but', 'no', 'Islam', '.', 'Certain', 'folks', 'start', 'playing', 'Sindh', 'Card', 'despite', 'having', 'ravaged', 'the', 'life', 'of', 'the', 'common', 'Sindhi', '.', 'My', 'Pakistanis', ',', 'you', 'have', 'not', 'left', 'me', 'alone', 'and', 'I', 'promise', ',', 'I', 'will', 'never', 'leave', 'you', 'alone', 'in', 'sha', 'Allah', '.', 'When', 'I', 'was', 'older', ',', 'I', 'found', 'Iqbal', \"'s\", 'work', 'hugely', 'inspirational', '.', 'He', 'argued', 'against', 'an', 'unquestioning', 'acceptance', 'of', 'Western', 'democracy', 'as', 'the', 'self-governing', 'model', ',', 'and', 'instead', 'suggested', 'that', 'by', 'following', 'the', 'rules', 'of', 'Islam', 'a', 'society', 'would', 'tend', 'naturally', 'towards', 'social', 'justice', ',', 'tolerance', ',', 'peace', 'and', 'equality', '.', 'Iqbal', \"'s\", 'interpretation', 'of', 'Islam', 'differs', 'very', 'widely', 'from', 'the', 'narrow', 'meaning', 'that', 'is', 'sometimes', 'given', 'to', 'it', '.', 'For', 'Iqbal', ',', 'Islam', 'is', 'not', 'just', 'the', 'name', 'for', 'certain', 'beliefs', 'and', 'forms', 'of', 'worship', '.', 'The', 'difference', 'between', 'a', 'Muslim', 'and', 'a', 'non-Muslim', 'is', 'not', 'merely', 'a', 'theological', 'one', '-', 'it', 'is', 'a', 'difference', 'of', 'a', 'fundamental', 'attitude', 'towards', 'life', '.', 'Truth', 'is', 'the', 'power', 'that', 'will', 'resolve', 'our', 'problems', '.', 'Allah', 'exalts', 'whom', 'he', 'wills', '!', '.', 'Bravery', 'is', 'standing', 'with', 'the', 'truth', 'and', 'right', '.', 'There', 'are', 'greater', 'goals', 'in', 'life', 'than', 'material', 'and', 'sensual', 'pleasures', '.', 'The', 'war', 'on', 'terror', 'is', 'the', 'most', 'insane', 'and', 'immoral', 'war', 'of', 'all', 'time', '.', 'The', 'Americans', 'are', 'doing', 'what', 'they', 'did', 'in', 'Vietnam', ',', 'bombing', 'villages', '.', 'But', 'how', 'can', 'a', 'civilised', 'nation', 'do', 'this', '?', 'How', 'can', 'you', 'can', 'eliminate', 'suspects', ',', 'their', 'wives', ',', 'their', 'children', ',', 'their', 'families', ',', 'their', 'neighbours', '?', 'How', 'can', 'you', 'justify', 'this', '?', '.', 'I', 'want', 'you', 'all', 'to', 'stand', 'like', 'the', 'Muslims', 'who', 'stood', 'with', 'La', 'ilaaha', 'ilalla', 'for', 'Truth', 'and', 'Right', '.', 'Say', 'goodbye', 'to', 'the', 'IMF', 'once', 'and', 'for', 'all', 'as', 'the', 'IMF', \"'s\", 'conditions', 'enriches', 'the', 'rich', 'and', 'impoverishes', 'the', 'poor', '.', 'Good', 'deeds', 'must', 'be', 'rewarded', 'by', 'the', 'system', 'and', 'crimes', 'be', 'punished', '-', 'this', 'is', 'the', 'essence', 'of', 'meritocracy', '.', 'Prophet', '(', 'PBUH', ')', 'considered', 'the', 'ink', 'of', 'a', 'scholar', 'to', 'be', 'holier', 'than', 'the', 'blood', 'of', 'a', 'martyr', '.', 'Ethnic-based', 'politics', 'is', 'being', 'used', 'to', 'exhort', 'people', ',', 'to', 'serve', 'own', 'ends', '-', 'this', 'is', 'anathema', 'to', 'concept', 'of', 'nationalism', '.', 'When', 'you', 'remove', 'the', 'concept', 'of', 'reward', 'and', 'punishment', 'on', 'merit', ',', 'the', 'result', 'is', 'the', 'utter', 'destruction', 'of', 'social', 'fabric', '.', 'I', 'wanted', 'to', 'be', 'an', 'outstanding', 'player', ',', 'that', 'was', 'my', 'ambition', '.', 'When', 'I', 'announced', 'my', 'party', ',', 'Tehreek-e-Insaf', '(', 'Movement', 'for', 'Justice', ')', 'on', '25', 'April', '1996', ',', 'I', 'had', 'lost', 'all', 'fear', 'of', 'dying', '.', 'A', 'condemned', 'poor', 'man', ',', 'if', 'steals', 'to', 'feed', 'his', 'starving', 'kid', ',', 'is', 'slammed', 'into', 'prison', '.', 'Contrast', 'this', 'to', 'a', 'rich', 'man', \"'s\", 'crime', '.', 'الله', 'تعالی', 'نے', 'انسان', 'کے', 'هاته', 'مین', 'نیت', 'اور', 'کوشش', 'دی', 'هے', 'کامیابی', 'وه', 'دیتا', 'هے', '.', 'Faith', 'should', 'be', 'about', 'encouraging', 'all', 'that', 'is', 'noble', 'in', 'a', 'human', 'being', '.', 'Leader', 'follows', 'his', 'ideology', ',', 'Leader', 'does', 'not', 'follow', 'his', 'relatives', 'and', 'friends', '.', 'According', 'to', 'the', 'UNDP', '(', 'United', 'Nations', 'Development', 'Programme', ')', ',', '54', 'per', 'cent', 'of', 'Pakistanis', 'face', \"'multi-dimentional\", 'deprivation', \"'\", '.', 'meaning', 'they', 'lack', 'access', 'to', 'proper', 'education', 'and', 'health', 'facilities', 'and', 'a', 'decent', 'standard', 'of', 'living', '.', 'Almost', 'two-thirds', 'of', 'the', 'country', 'lives', 'on', 'less', 'than', 'US', '$', '2', 'a', 'day', 'and', 'about', '40', 'per', 'cent', 'of', 'Pakistani', 'children', 'suffer', 'from', 'chronic', 'malnutrition', '.', 'How', 'can', 'Pakistan', 'be', 'called', 'an', 'Islamic', 'society', '?', '.', 'Imran', 'Khan', 'says', \"'End\", 'your', 'ego', ',', 'think', 'of', 'nation', '.', 'Iqbal', 'not', 'only', 'conceived', 'of', 'a', 'self-governing', 'Muslim', 'state', ',', 'his', 'passionate', 'voice', 'awakened', 'and', 'activated', 'Indian', 'Muslims', ',', 'motivating', 'them', 'not', 'only', 'to', 'strive', 'to', 'free', 'themselves', 'from', 'the', 'bondage', 'of', 'imperialism', 'and', 'colonialism', ',', 'but', 'also', 'to', 'challenge', 'other', 'forms', 'of', 'totalitarian', 'control', '.', 'Believing', 'fervently', 'in', 'human', 'equality', 'and', 'the', 'right', 'of', 'human', 'beings', 'to', 'dignity', ',', 'justice', 'and', 'freedom', ',', 'Iqbal', 'empowered', 'the', 'dis-empowered', 'to', 'stand', 'up', 'and', 'be', 'counted', '.', 'Starting', 'a', 'war', 'is', 'in', 'our', 'hands', ',', 'it', 'is', 'easy', '.', 'But', 'ending', 'a', 'war', ',', 'that', 'is', 'not', 'in', 'our', 'hands', 'and', 'no', 'one', 'knows', 'what', 'will', 'happen']\n",
            " Removal of Commonly occuring words: ['It', 'defeat', 'destroys', ',', 'demoralized', 'defeat', 'destroy', '.', 'The', 'study', ',', 'know', ';', 'less', 'know', '.', 'I', 'always', 'believed', 'one', 'scared', 'losing', ',', 'I', 'think', 'really', 'key', '.', 'Never', 'give', ',', 'matter', 'hard', 'life', 'gets', 'matter', 'much', 'pain', 'feel', '.', 'Pain', 'eventually', 'subside', ',', 'nothing', 'remains', 'forever', ',', 'keep', 'going', \"n't\", 'give', '.', 'Lack', 'rule', 'law', 'main', 'reason', 'Pakistan', 'could', 'join', 'ranks', 'progressive', 'nations', '.', 'Are', 'Pakistanis', ',', 'children', 'lesser', 'God', '?', 'Is', 'one', 'law', 'west', 'one', 'us', '?', 'Is', 'democracy', 'supposed', 'democracy', 'give', 'us', 'objection', 'certificate', '?', '.', 'Compromise', 'Dream', 'NEVER', 'Compromise', 'Dream', '.', 'We', 'must', 'speak', 'truth', 'great', 'nation', '.', 'Crime', 'pay', ',', 'must', 'punished', '.', 'Unfortunately', ',', 'Pakistan', 'big', 'crimes', 'get', 'rewarded', '.', 'Leader', 'leads', 'people', '.', 'Leader', 'follow', 'public', 'opinion', '.', 'Faith', 'without', 'wisdom', 'knowledge', 'could', 'produce', 'bigots', 'completely', 'lacking', 'compassion', 'tolerance', '.', 'Holy', 'Prophet', 'PBUH', 'promulgated', 'justice', 'system', 'regardless', 'status', 'people', ',', 'yet', 'Pak', 'powerful', 'easily', 'escapes', '.', 'Mothers', 'train', 'children', 'Speak', 'Truth', '.', 'There', 'much', 'debate', 'moderate', 'radical', 'Islam', 'one', 'Islam', '.', 'Imran', 'Khan', 'asked', 'Pakistanis', 'four', 'things', 'Historic', 'Lahore', 'Jalsa', '.', 'We', 'shall', 'never', 'lie', 'always', 'speak', 'truth', '.', 'Leave', 'ego', '’', 'behind', 'think', 'Nation', ',', '11', 'crore', 'Pakistanis', 'living', 'beneath', 'poverty', 'line', '.', 'We', 'shall', 'brave', 'break', 'shackles', 'fear', '.', 'We', 'bring', 'Justice', 'society', ',', 'even', 'friends', 'relatives', 'injustice', ',', 'shall', 'fair', 'bring', 'Justice', '.', 'I', 'felt', 'like', 'Islamic', 'scholar', 'Muhammad', 'Abduh', '(', '1849-1905', ')', ',', 'said', 'return', 'trip', 'Europe', 'homeland', 'Egypt', \"'I\", 'saw', 'Muslims', 'Europe', 'I', 'saw', 'lot', 'Islam', ',', \"'\", 'homeland', \"'There\", 'lot', 'Muslims', 'Islam', '.', 'Certain', 'folks', 'start', 'playing', 'Sindh', 'Card', 'despite', 'ravaged', 'life', 'common', 'Sindhi', '.', 'My', 'Pakistanis', ',', 'left', 'alone', 'I', 'promise', ',', 'I', 'never', 'leave', 'alone', 'sha', 'Allah', '.', 'When', 'I', 'older', ',', 'I', 'found', 'Iqbal', \"'s\", 'work', 'hugely', 'inspirational', '.', 'He', 'argued', 'unquestioning', 'acceptance', 'Western', 'democracy', 'self-governing', 'model', ',', 'instead', 'suggested', 'following', 'rules', 'Islam', 'society', 'would', 'tend', 'naturally', 'towards', 'social', 'justice', ',', 'tolerance', ',', 'peace', 'equality', '.', 'Iqbal', \"'s\", 'interpretation', 'Islam', 'differs', 'widely', 'narrow', 'meaning', 'sometimes', 'given', '.', 'For', 'Iqbal', ',', 'Islam', 'name', 'certain', 'beliefs', 'forms', 'worship', '.', 'The', 'difference', 'Muslim', 'non-Muslim', 'merely', 'theological', 'one', '-', 'difference', 'fundamental', 'attitude', 'towards', 'life', '.', 'Truth', 'power', 'resolve', 'problems', '.', 'Allah', 'exalts', 'wills', '!', '.', 'Bravery', 'standing', 'truth', 'right', '.', 'There', 'greater', 'goals', 'life', 'material', 'sensual', 'pleasures', '.', 'The', 'war', 'terror', 'insane', 'immoral', 'war', 'time', '.', 'The', 'Americans', 'Vietnam', ',', 'bombing', 'villages', '.', 'But', 'civilised', 'nation', '?', 'How', 'eliminate', 'suspects', ',', 'wives', ',', 'children', ',', 'families', ',', 'neighbours', '?', 'How', 'justify', '?', '.', 'I', 'want', 'stand', 'like', 'Muslims', 'stood', 'La', 'ilaaha', 'ilalla', 'Truth', 'Right', '.', 'Say', 'goodbye', 'IMF', 'IMF', \"'s\", 'conditions', 'enriches', 'rich', 'impoverishes', 'poor', '.', 'Good', 'deeds', 'must', 'rewarded', 'system', 'crimes', 'punished', '-', 'essence', 'meritocracy', '.', 'Prophet', '(', 'PBUH', ')', 'considered', 'ink', 'scholar', 'holier', 'blood', 'martyr', '.', 'Ethnic-based', 'politics', 'used', 'exhort', 'people', ',', 'serve', 'ends', '-', 'anathema', 'concept', 'nationalism', '.', 'When', 'remove', 'concept', 'reward', 'punishment', 'merit', ',', 'result', 'utter', 'destruction', 'social', 'fabric', '.', 'I', 'wanted', 'outstanding', 'player', ',', 'ambition', '.', 'When', 'I', 'announced', 'party', ',', 'Tehreek-e-Insaf', '(', 'Movement', 'Justice', ')', '25', 'April', '1996', ',', 'I', 'lost', 'fear', 'dying', '.', 'A', 'condemned', 'poor', 'man', ',', 'steals', 'feed', 'starving', 'kid', ',', 'slammed', 'prison', '.', 'Contrast', 'rich', 'man', \"'s\", 'crime', '.', 'الله', 'تعالی', 'نے', 'انسان', 'کے', 'هاته', 'مین', 'نیت', 'اور', 'کوشش', 'دی', 'هے', 'کامیابی', 'وه', 'دیتا', 'هے', '.', 'Faith', 'encouraging', 'noble', 'human', '.', 'Leader', 'follows', 'ideology', ',', 'Leader', 'follow', 'relatives', 'friends', '.', 'According', 'UNDP', '(', 'United', 'Nations', 'Development', 'Programme', ')', ',', '54', 'per', 'cent', 'Pakistanis', 'face', \"'multi-dimentional\", 'deprivation', \"'\", '.', 'meaning', 'lack', 'access', 'proper', 'education', 'health', 'facilities', 'decent', 'standard', 'living', '.', 'Almost', 'two-thirds', 'country', 'lives', 'less', 'US', '$', '2', 'day', '40', 'per', 'cent', 'Pakistani', 'children', 'suffer', 'chronic', 'malnutrition', '.', 'How', 'Pakistan', 'called', 'Islamic', 'society', '?', '.', 'Imran', 'Khan', 'says', \"'End\", 'ego', ',', 'think', 'nation', '.', 'Iqbal', 'conceived', 'self-governing', 'Muslim', 'state', ',', 'passionate', 'voice', 'awakened', 'activated', 'Indian', 'Muslims', ',', 'motivating', 'strive', 'free', 'bondage', 'imperialism', 'colonialism', ',', 'also', 'challenge', 'forms', 'totalitarian', 'control', '.', 'Believing', 'fervently', 'human', 'equality', 'right', 'human', 'beings', 'dignity', ',', 'justice', 'freedom', ',', 'Iqbal', 'empowered', 'dis-empowered', 'stand', 'counted', '.', 'Starting', 'war', 'hands', ',', 'easy', '.', 'But', 'ending', 'war', ',', 'hands', 'one', 'knows', 'happen']\n"
          ],
          "name": "stdout"
        }
      ]
    },
    {
      "cell_type": "markdown",
      "metadata": {
        "id": "JpxL0_3P1ZaQ"
      },
      "source": [
        "**15. Rare Occurring words Removal:**"
      ]
    },
    {
      "cell_type": "code",
      "metadata": {
        "id": "b3Rpg6bG1kNj",
        "colab": {
          "base_uri": "https://localhost:8080/"
        },
        "outputId": "7e3deb25-51fe-4e51-a9e8-3f1edcdb0dba"
      },
      "source": [
        "# I have removed all ither words except stop words. \r\n",
        "for_rarawords = list(stop_words)\r\n",
        "type(for_rarawords)\r\n",
        "print(list(for_rarawords))\r\n",
        "for i in range(len(for_rarawords)):\r\n",
        "    words = nltk.word_tokenize(for_rarawords[i])\r\n",
        "    newwords = [word for word in words if word not in stopwords.words('english')]\r\n",
        "    for_rarawords[i] = ' '.join(newwords)\r\n",
        "newwords"
      ],
      "execution_count": 141,
      "outputs": [
        {
          "output_type": "stream",
          "text": [
            "['didn', 'in', 'our', 'myself', 'which', 's', 'haven', 'isn', 'hadn', 'if', 'nor', 'themselves', 'no', 'out', 'hasn', \"wouldn't\", 'against', 'but', 'off', 'all', 'down', 'mustn', \"wasn't\", 'are', 'most', \"aren't\", 'up', 'me', 'because', \"couldn't\", 'any', \"you're\", 'so', 'again', 'll', 'them', 'more', \"isn't\", 'have', 'what', 'herself', 'who', \"you've\", 'at', \"shouldn't\", \"didn't\", 'to', 'a', 'same', \"you'll\", 'its', 'both', 'now', 'i', \"mustn't\", 'you', 'her', \"should've\", \"hadn't\", 'y', 'here', 'has', 'been', 'being', 'shouldn', 'she', 'had', 'were', \"won't\", 'couldn', 'hers', 'ain', 'mightn', 'not', 'wasn', 'm', 'these', 'himself', 'is', 'with', 'other', 'won', 'my', \"that'll\", 'needn', 'yours', 'there', 'only', 'him', 'why', \"hasn't\", 'than', 'whom', 'between', 'where', 'yourselves', 'should', 'o', 'ma', 'doesn', 'or', 're', 've', 'under', 'this', 'yourself', 'some', \"it's\", 'shan', 'did', \"needn't\", \"you'd\", 'and', 'for', \"mightn't\", 'those', 'your', 'further', 'below', 'itself', 'on', 'weren', 'over', 'he', 'once', 'will', 'before', 'theirs', 'too', 'd', 'their', 'we', 'the', 'own', 'his', 'was', 'do', 'above', 'am', \"she's\", \"doesn't\", 'doing', 'into', 'aren', 'wouldn', \"weren't\", \"don't\", 'very', 'just', 'ours', 'how', 'having', 'through', 'while', 'don', 't', 'can', 'it', 'such', 'when', \"haven't\", 'does', 'that', 'each', 'about', 'an', 'as', 'from', 'then', 'ourselves', 'after', 'they', 'few', \"shan't\", 'by', 'until', 'of', 'be', 'during']\n"
          ],
          "name": "stdout"
        },
        {
          "output_type": "execute_result",
          "data": {
            "text/plain": [
              "[]"
            ]
          },
          "metadata": {
            "tags": []
          },
          "execution_count": 141
        }
      ]
    },
    {
      "cell_type": "markdown",
      "metadata": {
        "id": "zN3Yhd7N1ZeP"
      },
      "source": [
        "**16. Word Cloud**"
      ]
    },
    {
      "cell_type": "code",
      "metadata": {
        "colab": {
          "base_uri": "https://localhost:8080/",
          "height": 449
        },
        "id": "kh5lu7ocXYHS",
        "outputId": "63f0ff19-d1c2-4852-ec64-ce1f45f18df3"
      },
      "source": [
        "wordcloud = WordCloud(width = 1000, height = 500).generate(all_quotes_string)\r\n",
        "plt.figure(figsize=(15,8))\r\n",
        "plt.imshow(wordcloud)\r\n",
        "plt.axis(\"off\")\r\n",
        "plt.savefig(\"your_file_name\"+\".png\", bbox_inches='tight')\r\n",
        "plt.show()\r\n",
        "plt.close()"
      ],
      "execution_count": 142,
      "outputs": [
        {
          "output_type": "display_data",
          "data": {
            "image/png": "[encoded data removed]",
            "text/plain": [
              "<Figure size 1080x576 with 1 Axes>"
            ]
          },
          "metadata": {
            "tags": [],
            "needs_background": "light"
          }
        }
      ]
    },
    {
      "cell_type": "markdown",
      "metadata": {
        "id": "84j-HZMs1Zi2"
      },
      "source": [
        "**17. Spelling Correction:**"
      ]
    },
    {
      "cell_type": "code",
      "metadata": {
        "id": "9YP7p6WU1mVU",
        "colab": {
          "base_uri": "https://localhost:8080/"
        },
        "outputId": "f7adec61-c314-41d2-83c3-71d4a8164d89"
      },
      "source": [
        "x = all_quotes_string\r\n",
        "x = TextBlob(x).correct()\r\n",
        "x"
      ],
      "execution_count": 143,
      "outputs": [
        {
          "output_type": "execute_result",
          "data": {
            "text/plain": [
              "TextBlob(\"It is not defeat that destroys you, it is being demoralized by defeat that destroy you. The more you study, the more you know; how less you know. I have always believed that one should not be scared of losing, I think that really is the key. Never give up, no matter how hard life gets no matter how much pain you feel. Pain will eventually subside, nothing remains forever, so keep going and don't give up. Back of rule of law is the main reason Pakistan could not join the ranks of progressive nations. Are we Pakistanis, children of a lesser God? Is there one law for the west and one for us? Is our democracy supposed to be only democracy if you give us a no objection certificate?. Compromise for your Dream but NEVER Compromise on your Dream. He must speak the truth if we are to be a great nation. Crime should not pay, it must be punished. Unfortunately, in Pakistan big crimes do get rewarded. Leader leads people. Leader does not follow public opinion. Faith without wisdom and knowledge could produce rights completely lacking in compassion and tolerable. Holy Prophet PBUH promulgated a justice system regardless of status of people, yet in Oak the powerful easily escapes. Others train your children to only Speak Truth. There is so much debate about moderate and radical Slam but there is only one Slam. Man Than asked Pakistanis of four things at the Historic Shore Also. He shall never lie and always speak the truth. Leave our ego’s behind and only think of this Nation, there are 11 core Pakistanis living beneath poverty line. He shall be brave and break the speckles of fear. He have to bring Justice to this society, even if our friends and relatives do injustice, we shall be fair and bring them to Justice. I felt like the Islamic scholar Muhammad Abduh (1849-1905), who said on his return from a trip to Europe to his holland Egypt 'I saw no Muslims in Europe but I saw a lot of Slam, ' and of his holland 'There are a lot of Muslims here but no Slam. Certain folks start playing Mind Hard despite having ravaged the life of the common Sindhi. By Pakistanis, you have not left me alone and I promise, I will never leave you alone in she Allah. When I was older, I found Equal's work huge inspiration. He argued against an unquestioning acceptance of Western democracy as the self-governing model, and instead suggested that by following the rules of Slam a society would tend naturally towards social justice, tolerable, peace and equality. Equal's interpretation of Slam differs very widely from the narrow meaning that is sometimes given to it. For Equal, Slam is not just the name for certain beliefs and forms of worship. The difference between a Slim and a non-Slim is not merely a theological one - it is a difference of a fundamental attitude towards life. Truth is the power that will resolve our problems. Allah exalts whom he wills!. Bravery is standing with the truth and right. There are greater goals in life than material and sensual pleasures. The war on terror is the most insane and immoral war of all time. The Americans are doing what they did in Vietnam, coming villages. But how can a civilised nation do this? Now can you can eliminate suspects, their wives, their children, their families, their neighbours? Now can you justify this?. I want you all to stand like the Muslims who stood with A ilaaha ilalla for Truth and Right. May goodby to the IMF once and for all as the IMF's conditions enriches the rich and impoverished the poor. Good deeds must be rewarded by the system and crimes be punished - this is the essence of meritocracy. Prophet (PBUH) considered the ink of a scholar to be holder than the blood of a martyr. Ethnic-based politics is being used to exhort people, to serve own ends - this is anathema to concept of nationalism. When you remove the concept of reward and punishment on merit, the result is the utter destruction of social fabric. I wanted to be an outstanding player, that was my ambition. When I announced my party, Tehreek-e-Insaf (Movement for Justice) on 25 April 1996, I had lost all fear of dying. A condemned poor man, if steals to feed his starving kid, is slammed into prison. Contrast this to a rich man's crime. الله تعالی of انسان of هاته مین نیت اور کوشش of of کامیابی of دیتا of. Faith should be about encouraging all that is noble in a human being. Leader follows his ideology, Leader does not follow his relatives and friends. According to the UNDP (United Nations Development Programme), 54 per cent of Pakistanis face 'multi-dimentional deprivation'. meaning they lack access to proper education and health facilities and a decent standard of living. Almost two-thirds of the country lives on less than of$2 a day and about 40 per cent of Pakistani children suffer from chronic malnutrition. Now can Pakistan be called an Islamic society?. Man Than says 'And your ego, think of nation. Equal not only conceived of a self-governing Slim state, his passionate voice awakened and activate Indian Muslims, motivation them not only to strive to free themselves from the bondage of imperialism and colonialism, but also to challenge other forms of totalitarian control. Believing fervently in human equality and the right of human beings to dignity, justice and freedom, Equal empowered the dis-empowered to stand up and be counted. Starting a war is in our hands, it is easy. But ending a war, that is not in our hands and no one knows what will happen\")"
            ]
          },
          "metadata": {
            "tags": []
          },
          "execution_count": 143
        }
      ]
    },
    {
      "cell_type": "markdown",
      "metadata": {
        "id": "CIA0T2Dl1Zm2"
      },
      "source": [
        "**18. Tokenization:**"
      ]
    },
    {
      "cell_type": "code",
      "metadata": {
        "id": "fMgad30y1m_T",
        "colab": {
          "base_uri": "https://localhost:8080/"
        },
        "outputId": "26d3416d-dbd8-4796-859f-7c131c2adfac"
      },
      "source": [
        "from nltk.tokenize import word_tokenize\r\n",
        "tokenized_word=word_tokenize(all_quotes_string)\r\n",
        "print(tokenized_word)"
      ],
      "execution_count": 144,
      "outputs": [
        {
          "output_type": "stream",
          "text": [
            "['It', 'is', 'not', 'defeat', 'that', 'destroys', 'you', ',', 'it', 'is', 'being', 'demoralized', 'by', 'defeat', 'that', 'destroy', 'you', '.', 'The', 'more', 'you', 'study', ',', 'the', 'more', 'you', 'know', ';', 'how', 'less', 'you', 'know', '.', 'I', 'have', 'always', 'believed', 'that', 'one', 'should', 'not', 'be', 'scared', 'of', 'losing', ',', 'I', 'think', 'that', 'really', 'is', 'the', 'key', '.', 'Never', 'give', 'up', ',', 'no', 'matter', 'how', 'hard', 'life', 'gets', 'no', 'matter', 'how', 'much', 'pain', 'you', 'feel', '.', 'Pain', 'will', 'eventually', 'subside', ',', 'nothing', 'remains', 'forever', ',', 'so', 'keep', 'going', 'and', 'do', \"n't\", 'give', 'up', '.', 'Lack', 'of', 'rule', 'of', 'law', 'is', 'the', 'main', 'reason', 'Pakistan', 'could', 'not', 'join', 'the', 'ranks', 'of', 'progressive', 'nations', '.', 'Are', 'we', 'Pakistanis', ',', 'children', 'of', 'a', 'lesser', 'God', '?', 'Is', 'there', 'one', 'law', 'for', 'the', 'west', 'and', 'one', 'for', 'us', '?', 'Is', 'our', 'democracy', 'supposed', 'to', 'be', 'only', 'democracy', 'if', 'you', 'give', 'us', 'a', 'no', 'objection', 'certificate', '?', '.', 'Compromise', 'for', 'your', 'Dream', 'but', 'NEVER', 'Compromise', 'on', 'your', 'Dream', '.', 'We', 'must', 'speak', 'the', 'truth', 'if', 'we', 'are', 'to', 'be', 'a', 'great', 'nation', '.', 'Crime', 'should', 'not', 'pay', ',', 'it', 'must', 'be', 'punished', '.', 'Unfortunately', ',', 'in', 'Pakistan', 'big', 'crimes', 'do', 'get', 'rewarded', '.', 'Leader', 'leads', 'people', '.', 'Leader', 'does', 'not', 'follow', 'public', 'opinion', '.', 'Faith', 'without', 'wisdom', 'and', 'knowledge', 'could', 'produce', 'bigots', 'completely', 'lacking', 'in', 'compassion', 'and', 'tolerance', '.', 'Holy', 'Prophet', 'PBUH', 'promulgated', 'a', 'justice', 'system', 'regardless', 'of', 'status', 'of', 'people', ',', 'yet', 'in', 'Pak', 'the', 'powerful', 'easily', 'escapes', '.', 'Mothers', 'train', 'your', 'children', 'to', 'only', 'Speak', 'Truth', '.', 'There', 'is', 'so', 'much', 'debate', 'about', 'moderate', 'and', 'radical', 'Islam', 'but', 'there', 'is', 'only', 'one', 'Islam', '.', 'Imran', 'Khan', 'asked', 'Pakistanis', 'of', 'four', 'things', 'at', 'the', 'Historic', 'Lahore', 'Jalsa', '.', 'We', 'shall', 'never', 'lie', 'and', 'always', 'speak', 'the', 'truth', '.', 'Leave', 'our', 'ego', '’', 's', 'behind', 'and', 'only', 'think', 'of', 'this', 'Nation', ',', 'there', 'are', '11', 'crore', 'Pakistanis', 'living', 'beneath', 'poverty', 'line', '.', 'We', 'shall', 'be', 'brave', 'and', 'break', 'the', 'shackles', 'of', 'fear', '.', 'We', 'have', 'to', 'bring', 'Justice', 'to', 'this', 'society', ',', 'even', 'if', 'our', 'friends', 'and', 'relatives', 'do', 'injustice', ',', 'we', 'shall', 'be', 'fair', 'and', 'bring', 'them', 'to', 'Justice', '.', 'I', 'felt', 'like', 'the', 'Islamic', 'scholar', 'Muhammad', 'Abduh', '(', '1849-1905', ')', ',', 'who', 'said', 'on', 'his', 'return', 'from', 'a', 'trip', 'to', 'Europe', 'to', 'his', 'homeland', 'Egypt', \"'I\", 'saw', 'no', 'Muslims', 'in', 'Europe', 'but', 'I', 'saw', 'a', 'lot', 'of', 'Islam', ',', \"'\", 'and', 'of', 'his', 'homeland', \"'There\", 'are', 'a', 'lot', 'of', 'Muslims', 'here', 'but', 'no', 'Islam', '.', 'Certain', 'folks', 'start', 'playing', 'Sindh', 'Card', 'despite', 'having', 'ravaged', 'the', 'life', 'of', 'the', 'common', 'Sindhi', '.', 'My', 'Pakistanis', ',', 'you', 'have', 'not', 'left', 'me', 'alone', 'and', 'I', 'promise', ',', 'I', 'will', 'never', 'leave', 'you', 'alone', 'in', 'sha', 'Allah', '.', 'When', 'I', 'was', 'older', ',', 'I', 'found', 'Iqbal', \"'s\", 'work', 'hugely', 'inspirational', '.', 'He', 'argued', 'against', 'an', 'unquestioning', 'acceptance', 'of', 'Western', 'democracy', 'as', 'the', 'self-governing', 'model', ',', 'and', 'instead', 'suggested', 'that', 'by', 'following', 'the', 'rules', 'of', 'Islam', 'a', 'society', 'would', 'tend', 'naturally', 'towards', 'social', 'justice', ',', 'tolerance', ',', 'peace', 'and', 'equality', '.', 'Iqbal', \"'s\", 'interpretation', 'of', 'Islam', 'differs', 'very', 'widely', 'from', 'the', 'narrow', 'meaning', 'that', 'is', 'sometimes', 'given', 'to', 'it', '.', 'For', 'Iqbal', ',', 'Islam', 'is', 'not', 'just', 'the', 'name', 'for', 'certain', 'beliefs', 'and', 'forms', 'of', 'worship', '.', 'The', 'difference', 'between', 'a', 'Muslim', 'and', 'a', 'non-Muslim', 'is', 'not', 'merely', 'a', 'theological', 'one', '-', 'it', 'is', 'a', 'difference', 'of', 'a', 'fundamental', 'attitude', 'towards', 'life', '.', 'Truth', 'is', 'the', 'power', 'that', 'will', 'resolve', 'our', 'problems', '.', 'Allah', 'exalts', 'whom', 'he', 'wills', '!', '.', 'Bravery', 'is', 'standing', 'with', 'the', 'truth', 'and', 'right', '.', 'There', 'are', 'greater', 'goals', 'in', 'life', 'than', 'material', 'and', 'sensual', 'pleasures', '.', 'The', 'war', 'on', 'terror', 'is', 'the', 'most', 'insane', 'and', 'immoral', 'war', 'of', 'all', 'time', '.', 'The', 'Americans', 'are', 'doing', 'what', 'they', 'did', 'in', 'Vietnam', ',', 'bombing', 'villages', '.', 'But', 'how', 'can', 'a', 'civilised', 'nation', 'do', 'this', '?', 'How', 'can', 'you', 'can', 'eliminate', 'suspects', ',', 'their', 'wives', ',', 'their', 'children', ',', 'their', 'families', ',', 'their', 'neighbours', '?', 'How', 'can', 'you', 'justify', 'this', '?', '.', 'I', 'want', 'you', 'all', 'to', 'stand', 'like', 'the', 'Muslims', 'who', 'stood', 'with', 'La', 'ilaaha', 'ilalla', 'for', 'Truth', 'and', 'Right', '.', 'Say', 'goodbye', 'to', 'the', 'IMF', 'once', 'and', 'for', 'all', 'as', 'the', 'IMF', \"'s\", 'conditions', 'enriches', 'the', 'rich', 'and', 'impoverishes', 'the', 'poor', '.', 'Good', 'deeds', 'must', 'be', 'rewarded', 'by', 'the', 'system', 'and', 'crimes', 'be', 'punished', '-', 'this', 'is', 'the', 'essence', 'of', 'meritocracy', '.', 'Prophet', '(', 'PBUH', ')', 'considered', 'the', 'ink', 'of', 'a', 'scholar', 'to', 'be', 'holier', 'than', 'the', 'blood', 'of', 'a', 'martyr', '.', 'Ethnic-based', 'politics', 'is', 'being', 'used', 'to', 'exhort', 'people', ',', 'to', 'serve', 'own', 'ends', '-', 'this', 'is', 'anathema', 'to', 'concept', 'of', 'nationalism', '.', 'When', 'you', 'remove', 'the', 'concept', 'of', 'reward', 'and', 'punishment', 'on', 'merit', ',', 'the', 'result', 'is', 'the', 'utter', 'destruction', 'of', 'social', 'fabric', '.', 'I', 'wanted', 'to', 'be', 'an', 'outstanding', 'player', ',', 'that', 'was', 'my', 'ambition', '.', 'When', 'I', 'announced', 'my', 'party', ',', 'Tehreek-e-Insaf', '(', 'Movement', 'for', 'Justice', ')', 'on', '25', 'April', '1996', ',', 'I', 'had', 'lost', 'all', 'fear', 'of', 'dying', '.', 'A', 'condemned', 'poor', 'man', ',', 'if', 'steals', 'to', 'feed', 'his', 'starving', 'kid', ',', 'is', 'slammed', 'into', 'prison', '.', 'Contrast', 'this', 'to', 'a', 'rich', 'man', \"'s\", 'crime', '.', 'الله', 'تعالی', 'نے', 'انسان', 'کے', 'هاته', 'مین', 'نیت', 'اور', 'کوشش', 'دی', 'هے', 'کامیابی', 'وه', 'دیتا', 'هے', '.', 'Faith', 'should', 'be', 'about', 'encouraging', 'all', 'that', 'is', 'noble', 'in', 'a', 'human', 'being', '.', 'Leader', 'follows', 'his', 'ideology', ',', 'Leader', 'does', 'not', 'follow', 'his', 'relatives', 'and', 'friends', '.', 'According', 'to', 'the', 'UNDP', '(', 'United', 'Nations', 'Development', 'Programme', ')', ',', '54', 'per', 'cent', 'of', 'Pakistanis', 'face', \"'multi-dimentional\", 'deprivation', \"'\", '.', 'meaning', 'they', 'lack', 'access', 'to', 'proper', 'education', 'and', 'health', 'facilities', 'and', 'a', 'decent', 'standard', 'of', 'living', '.', 'Almost', 'two-thirds', 'of', 'the', 'country', 'lives', 'on', 'less', 'than', 'US', '$', '2', 'a', 'day', 'and', 'about', '40', 'per', 'cent', 'of', 'Pakistani', 'children', 'suffer', 'from', 'chronic', 'malnutrition', '.', 'How', 'can', 'Pakistan', 'be', 'called', 'an', 'Islamic', 'society', '?', '.', 'Imran', 'Khan', 'says', \"'End\", 'your', 'ego', ',', 'think', 'of', 'nation', '.', 'Iqbal', 'not', 'only', 'conceived', 'of', 'a', 'self-governing', 'Muslim', 'state', ',', 'his', 'passionate', 'voice', 'awakened', 'and', 'activated', 'Indian', 'Muslims', ',', 'motivating', 'them', 'not', 'only', 'to', 'strive', 'to', 'free', 'themselves', 'from', 'the', 'bondage', 'of', 'imperialism', 'and', 'colonialism', ',', 'but', 'also', 'to', 'challenge', 'other', 'forms', 'of', 'totalitarian', 'control', '.', 'Believing', 'fervently', 'in', 'human', 'equality', 'and', 'the', 'right', 'of', 'human', 'beings', 'to', 'dignity', ',', 'justice', 'and', 'freedom', ',', 'Iqbal', 'empowered', 'the', 'dis-empowered', 'to', 'stand', 'up', 'and', 'be', 'counted', '.', 'Starting', 'a', 'war', 'is', 'in', 'our', 'hands', ',', 'it', 'is', 'easy', '.', 'But', 'ending', 'a', 'war', ',', 'that', 'is', 'not', 'in', 'our', 'hands', 'and', 'no', 'one', 'knows', 'what', 'will', 'happen']\n"
          ],
          "name": "stdout"
        }
      ]
    },
    {
      "cell_type": "markdown",
      "metadata": {
        "id": "G8QaR4ey1Zrn"
      },
      "source": [
        "**19. Lemmatization:**"
      ]
    },
    {
      "cell_type": "code",
      "metadata": {
        "id": "31t02Hr_2IL5",
        "colab": {
          "base_uri": "https://localhost:8080/"
        },
        "outputId": "2e077350-df1c-4bfc-a025-e1f0482819a8"
      },
      "source": [
        "# Lemmatization\r\n",
        "Lematized_Quotes = nltk.sent_tokenize(all_quotes_string)\r\n",
        "lemmatizer = WordNetLemmatizer()\r\n",
        "\r\n",
        "for i in range(len(Lematized_Quotes)):\r\n",
        "    words = nltk.word_tokenize(Lematized_Quotes[i])\r\n",
        "    newwords = [lemmatizer.lemmatize(word) for word in words]\r\n",
        "    Lematized_Quotes[i] = ' '.join(newwords)\r\n",
        "\r\n",
        "Lematized_Quotes"
      ],
      "execution_count": 145,
      "outputs": [
        {
          "output_type": "execute_result",
          "data": {
            "text/plain": [
              "['It is not defeat that destroys you , it is being demoralized by defeat that destroy you .',\n",
              " 'The more you study , the more you know ; how le you know .',\n",
              " 'I have always believed that one should not be scared of losing , I think that really is the key .',\n",
              " 'Never give up , no matter how hard life get no matter how much pain you feel .',\n",
              " \"Pain will eventually subside , nothing remains forever , so keep going and do n't give up .\",\n",
              " 'Lack of rule of law is the main reason Pakistan could not join the rank of progressive nation .',\n",
              " 'Are we Pakistanis , child of a lesser God ?',\n",
              " 'Is there one law for the west and one for u ?',\n",
              " 'Is our democracy supposed to be only democracy if you give u a no objection certificate ? .',\n",
              " 'Compromise for your Dream but NEVER Compromise on your Dream .',\n",
              " 'We must speak the truth if we are to be a great nation .',\n",
              " 'Crime should not pay , it must be punished .',\n",
              " 'Unfortunately , in Pakistan big crime do get rewarded .',\n",
              " 'Leader lead people .',\n",
              " 'Leader doe not follow public opinion .',\n",
              " 'Faith without wisdom and knowledge could produce bigot completely lacking in compassion and tolerance .',\n",
              " 'Holy Prophet PBUH promulgated a justice system regardless of status of people , yet in Pak the powerful easily escape .',\n",
              " 'Mothers train your child to only Speak Truth .',\n",
              " 'There is so much debate about moderate and radical Islam but there is only one Islam .',\n",
              " 'Imran Khan asked Pakistanis of four thing at the Historic Lahore Jalsa .',\n",
              " 'We shall never lie and always speak the truth .',\n",
              " 'Leave our ego ’ s behind and only think of this Nation , there are 11 crore Pakistanis living beneath poverty line .',\n",
              " 'We shall be brave and break the shackle of fear .',\n",
              " 'We have to bring Justice to this society , even if our friend and relative do injustice , we shall be fair and bring them to Justice .',\n",
              " \"I felt like the Islamic scholar Muhammad Abduh ( 1849-1905 ) , who said on his return from a trip to Europe to his homeland Egypt 'I saw no Muslims in Europe but I saw a lot of Islam , ' and of his homeland 'There are a lot of Muslims here but no Islam .\",\n",
              " 'Certain folk start playing Sindh Card despite having ravaged the life of the common Sindhi .',\n",
              " 'My Pakistanis , you have not left me alone and I promise , I will never leave you alone in sha Allah .',\n",
              " \"When I wa older , I found Iqbal 's work hugely inspirational .\",\n",
              " 'He argued against an unquestioning acceptance of Western democracy a the self-governing model , and instead suggested that by following the rule of Islam a society would tend naturally towards social justice , tolerance , peace and equality .',\n",
              " \"Iqbal 's interpretation of Islam differs very widely from the narrow meaning that is sometimes given to it .\",\n",
              " 'For Iqbal , Islam is not just the name for certain belief and form of worship .',\n",
              " 'The difference between a Muslim and a non-Muslim is not merely a theological one - it is a difference of a fundamental attitude towards life .',\n",
              " 'Truth is the power that will resolve our problem .',\n",
              " 'Allah exalts whom he will ! .',\n",
              " 'Bravery is standing with the truth and right .',\n",
              " 'There are greater goal in life than material and sensual pleasure .',\n",
              " 'The war on terror is the most insane and immoral war of all time .',\n",
              " 'The Americans are doing what they did in Vietnam , bombing village .',\n",
              " 'But how can a civilised nation do this ?',\n",
              " 'How can you can eliminate suspect , their wife , their child , their family , their neighbour ?',\n",
              " 'How can you justify this ? .',\n",
              " 'I want you all to stand like the Muslims who stood with La ilaaha ilalla for Truth and Right .',\n",
              " \"Say goodbye to the IMF once and for all a the IMF 's condition enriches the rich and impoverishes the poor .\",\n",
              " 'Good deed must be rewarded by the system and crime be punished - this is the essence of meritocracy .',\n",
              " 'Prophet ( PBUH ) considered the ink of a scholar to be holier than the blood of a martyr .',\n",
              " 'Ethnic-based politics is being used to exhort people , to serve own end - this is anathema to concept of nationalism .',\n",
              " 'When you remove the concept of reward and punishment on merit , the result is the utter destruction of social fabric .',\n",
              " 'I wanted to be an outstanding player , that wa my ambition .',\n",
              " 'When I announced my party , Tehreek-e-Insaf ( Movement for Justice ) on 25 April 1996 , I had lost all fear of dying .',\n",
              " 'A condemned poor man , if steal to feed his starving kid , is slammed into prison .',\n",
              " \"Contrast this to a rich man 's crime .\",\n",
              " 'الله تعالی نے انسان کے هاته مین نیت اور کوشش دی هے کامیابی وه دیتا هے .',\n",
              " 'Faith should be about encouraging all that is noble in a human being .',\n",
              " 'Leader follows his ideology , Leader doe not follow his relative and friend .',\n",
              " \"According to the UNDP ( United Nations Development Programme ) , 54 per cent of Pakistanis face 'multi-dimentional deprivation ' .\",\n",
              " 'meaning they lack access to proper education and health facility and a decent standard of living .',\n",
              " 'Almost two-thirds of the country life on le than US $ 2 a day and about 40 per cent of Pakistani child suffer from chronic malnutrition .',\n",
              " 'How can Pakistan be called an Islamic society ? .',\n",
              " \"Imran Khan say 'End your ego , think of nation .\",\n",
              " 'Iqbal not only conceived of a self-governing Muslim state , his passionate voice awakened and activated Indian Muslims , motivating them not only to strive to free themselves from the bondage of imperialism and colonialism , but also to challenge other form of totalitarian control .',\n",
              " 'Believing fervently in human equality and the right of human being to dignity , justice and freedom , Iqbal empowered the dis-empowered to stand up and be counted .',\n",
              " 'Starting a war is in our hand , it is easy .',\n",
              " 'But ending a war , that is not in our hand and no one know what will happen']"
            ]
          },
          "metadata": {
            "tags": []
          },
          "execution_count": 145
        }
      ]
    },
    {
      "cell_type": "code",
      "metadata": {
        "colab": {
          "base_uri": "https://localhost:8080/"
        },
        "id": "mOixxBUUxajY",
        "outputId": "08799aa2-c9e1-43d3-90f2-c129cb3a0927"
      },
      "source": [
        "# Lemmatization\r\n",
        "Lematized_Quotes = nltk.sent_tokenize(all_quotes_string)\r\n",
        "lemmatizer = WordNetLemmatizer()\r\n",
        "\r\n",
        "for i in range(len(Lematized_Quotes)):\r\n",
        "    words = nltk.word_tokenize(Lematized_Quotes[i])\r\n",
        "    newwords = [lemmatizer.lemmatize(word) for word in words]\r\n",
        "    Lematized_Quotes[i] = ' '.join(newwords)\r\n",
        "\r\n",
        "Lematized_Quotes"
      ],
      "execution_count": 146,
      "outputs": [
        {
          "output_type": "execute_result",
          "data": {
            "text/plain": [
              "['It is not defeat that destroys you , it is being demoralized by defeat that destroy you .',\n",
              " 'The more you study , the more you know ; how le you know .',\n",
              " 'I have always believed that one should not be scared of losing , I think that really is the key .',\n",
              " 'Never give up , no matter how hard life get no matter how much pain you feel .',\n",
              " \"Pain will eventually subside , nothing remains forever , so keep going and do n't give up .\",\n",
              " 'Lack of rule of law is the main reason Pakistan could not join the rank of progressive nation .',\n",
              " 'Are we Pakistanis , child of a lesser God ?',\n",
              " 'Is there one law for the west and one for u ?',\n",
              " 'Is our democracy supposed to be only democracy if you give u a no objection certificate ? .',\n",
              " 'Compromise for your Dream but NEVER Compromise on your Dream .',\n",
              " 'We must speak the truth if we are to be a great nation .',\n",
              " 'Crime should not pay , it must be punished .',\n",
              " 'Unfortunately , in Pakistan big crime do get rewarded .',\n",
              " 'Leader lead people .',\n",
              " 'Leader doe not follow public opinion .',\n",
              " 'Faith without wisdom and knowledge could produce bigot completely lacking in compassion and tolerance .',\n",
              " 'Holy Prophet PBUH promulgated a justice system regardless of status of people , yet in Pak the powerful easily escape .',\n",
              " 'Mothers train your child to only Speak Truth .',\n",
              " 'There is so much debate about moderate and radical Islam but there is only one Islam .',\n",
              " 'Imran Khan asked Pakistanis of four thing at the Historic Lahore Jalsa .',\n",
              " 'We shall never lie and always speak the truth .',\n",
              " 'Leave our ego ’ s behind and only think of this Nation , there are 11 crore Pakistanis living beneath poverty line .',\n",
              " 'We shall be brave and break the shackle of fear .',\n",
              " 'We have to bring Justice to this society , even if our friend and relative do injustice , we shall be fair and bring them to Justice .',\n",
              " \"I felt like the Islamic scholar Muhammad Abduh ( 1849-1905 ) , who said on his return from a trip to Europe to his homeland Egypt 'I saw no Muslims in Europe but I saw a lot of Islam , ' and of his homeland 'There are a lot of Muslims here but no Islam .\",\n",
              " 'Certain folk start playing Sindh Card despite having ravaged the life of the common Sindhi .',\n",
              " 'My Pakistanis , you have not left me alone and I promise , I will never leave you alone in sha Allah .',\n",
              " \"When I wa older , I found Iqbal 's work hugely inspirational .\",\n",
              " 'He argued against an unquestioning acceptance of Western democracy a the self-governing model , and instead suggested that by following the rule of Islam a society would tend naturally towards social justice , tolerance , peace and equality .',\n",
              " \"Iqbal 's interpretation of Islam differs very widely from the narrow meaning that is sometimes given to it .\",\n",
              " 'For Iqbal , Islam is not just the name for certain belief and form of worship .',\n",
              " 'The difference between a Muslim and a non-Muslim is not merely a theological one - it is a difference of a fundamental attitude towards life .',\n",
              " 'Truth is the power that will resolve our problem .',\n",
              " 'Allah exalts whom he will ! .',\n",
              " 'Bravery is standing with the truth and right .',\n",
              " 'There are greater goal in life than material and sensual pleasure .',\n",
              " 'The war on terror is the most insane and immoral war of all time .',\n",
              " 'The Americans are doing what they did in Vietnam , bombing village .',\n",
              " 'But how can a civilised nation do this ?',\n",
              " 'How can you can eliminate suspect , their wife , their child , their family , their neighbour ?',\n",
              " 'How can you justify this ? .',\n",
              " 'I want you all to stand like the Muslims who stood with La ilaaha ilalla for Truth and Right .',\n",
              " \"Say goodbye to the IMF once and for all a the IMF 's condition enriches the rich and impoverishes the poor .\",\n",
              " 'Good deed must be rewarded by the system and crime be punished - this is the essence of meritocracy .',\n",
              " 'Prophet ( PBUH ) considered the ink of a scholar to be holier than the blood of a martyr .',\n",
              " 'Ethnic-based politics is being used to exhort people , to serve own end - this is anathema to concept of nationalism .',\n",
              " 'When you remove the concept of reward and punishment on merit , the result is the utter destruction of social fabric .',\n",
              " 'I wanted to be an outstanding player , that wa my ambition .',\n",
              " 'When I announced my party , Tehreek-e-Insaf ( Movement for Justice ) on 25 April 1996 , I had lost all fear of dying .',\n",
              " 'A condemned poor man , if steal to feed his starving kid , is slammed into prison .',\n",
              " \"Contrast this to a rich man 's crime .\",\n",
              " 'الله تعالی نے انسان کے هاته مین نیت اور کوشش دی هے کامیابی وه دیتا هے .',\n",
              " 'Faith should be about encouraging all that is noble in a human being .',\n",
              " 'Leader follows his ideology , Leader doe not follow his relative and friend .',\n",
              " \"According to the UNDP ( United Nations Development Programme ) , 54 per cent of Pakistanis face 'multi-dimentional deprivation ' .\",\n",
              " 'meaning they lack access to proper education and health facility and a decent standard of living .',\n",
              " 'Almost two-thirds of the country life on le than US $ 2 a day and about 40 per cent of Pakistani child suffer from chronic malnutrition .',\n",
              " 'How can Pakistan be called an Islamic society ? .',\n",
              " \"Imran Khan say 'End your ego , think of nation .\",\n",
              " 'Iqbal not only conceived of a self-governing Muslim state , his passionate voice awakened and activated Indian Muslims , motivating them not only to strive to free themselves from the bondage of imperialism and colonialism , but also to challenge other form of totalitarian control .',\n",
              " 'Believing fervently in human equality and the right of human being to dignity , justice and freedom , Iqbal empowered the dis-empowered to stand up and be counted .',\n",
              " 'Starting a war is in our hand , it is easy .',\n",
              " 'But ending a war , that is not in our hand and no one know what will happen']"
            ]
          },
          "metadata": {
            "tags": []
          },
          "execution_count": 146
        }
      ]
    },
    {
      "cell_type": "markdown",
      "metadata": {
        "id": "ZIjwTce31aE_"
      },
      "source": [
        "**20. Detecting Entities using NER:**"
      ]
    },
    {
      "cell_type": "code",
      "metadata": {
        "id": "U58e6OKo2I6s",
        "colab": {
          "base_uri": "https://localhost:8080/"
        },
        "outputId": "cd353091-eeec-412c-a51c-cdbd8ac918e4"
      },
      "source": [
        "words = nltk.word_tokenize(all_quotes_string)\r\n",
        "tagged_words = nltk.pos_tag(words)\r\n",
        "namedEnt =nltk.ne_chunk(tagged_words)\r\n",
        "print(tagged_words)"
      ],
      "execution_count": 147,
      "outputs": [
        {
          "output_type": "stream",
          "text": [
            "[('It', 'PRP'), ('is', 'VBZ'), ('not', 'RB'), ('defeat', 'JJ'), ('that', 'IN'), ('destroys', 'VBZ'), ('you', 'PRP'), (',', ','), ('it', 'PRP'), ('is', 'VBZ'), ('being', 'VBG'), ('demoralized', 'VBN'), ('by', 'IN'), ('defeat', 'NN'), ('that', 'IN'), ('destroy', 'NN'), ('you', 'PRP'), ('.', '.'), ('The', 'DT'), ('more', 'RBR'), ('you', 'PRP'), ('study', 'VBP'), (',', ','), ('the', 'DT'), ('more', 'JJR'), ('you', 'PRP'), ('know', 'VBP'), (';', ':'), ('how', 'WRB'), ('less', 'RBR'), ('you', 'PRP'), ('know', 'VBP'), ('.', '.'), ('I', 'PRP'), ('have', 'VBP'), ('always', 'RB'), ('believed', 'VBN'), ('that', 'IN'), ('one', 'CD'), ('should', 'MD'), ('not', 'RB'), ('be', 'VB'), ('scared', 'VBN'), ('of', 'IN'), ('losing', 'NN'), (',', ','), ('I', 'PRP'), ('think', 'VBP'), ('that', 'IN'), ('really', 'RB'), ('is', 'VBZ'), ('the', 'DT'), ('key', 'NN'), ('.', '.'), ('Never', 'RB'), ('give', 'VBP'), ('up', 'RP'), (',', ','), ('no', 'DT'), ('matter', 'NN'), ('how', 'WRB'), ('hard', 'JJ'), ('life', 'NN'), ('gets', 'VBZ'), ('no', 'DT'), ('matter', 'NN'), ('how', 'WRB'), ('much', 'RB'), ('pain', 'VBP'), ('you', 'PRP'), ('feel', 'VBP'), ('.', '.'), ('Pain', 'NNP'), ('will', 'MD'), ('eventually', 'RB'), ('subside', 'VB'), (',', ','), ('nothing', 'NN'), ('remains', 'VBZ'), ('forever', 'RB'), (',', ','), ('so', 'RB'), ('keep', 'VB'), ('going', 'VBG'), ('and', 'CC'), ('do', 'VBP'), (\"n't\", 'RB'), ('give', 'VB'), ('up', 'RP'), ('.', '.'), ('Lack', 'NNP'), ('of', 'IN'), ('rule', 'NN'), ('of', 'IN'), ('law', 'NN'), ('is', 'VBZ'), ('the', 'DT'), ('main', 'JJ'), ('reason', 'NN'), ('Pakistan', 'NNP'), ('could', 'MD'), ('not', 'RB'), ('join', 'VB'), ('the', 'DT'), ('ranks', 'NNS'), ('of', 'IN'), ('progressive', 'JJ'), ('nations', 'NNS'), ('.', '.'), ('Are', 'VBP'), ('we', 'PRP'), ('Pakistanis', 'NNP'), (',', ','), ('children', 'NNS'), ('of', 'IN'), ('a', 'DT'), ('lesser', 'JJR'), ('God', 'NNP'), ('?', '.'), ('Is', 'VBZ'), ('there', 'RB'), ('one', 'CD'), ('law', 'NN'), ('for', 'IN'), ('the', 'DT'), ('west', 'NN'), ('and', 'CC'), ('one', 'CD'), ('for', 'IN'), ('us', 'PRP'), ('?', '.'), ('Is', 'VBZ'), ('our', 'PRP$'), ('democracy', 'NN'), ('supposed', 'VBN'), ('to', 'TO'), ('be', 'VB'), ('only', 'RB'), ('democracy', 'NN'), ('if', 'IN'), ('you', 'PRP'), ('give', 'VBP'), ('us', 'PRP'), ('a', 'DT'), ('no', 'DT'), ('objection', 'NN'), ('certificate', 'NN'), ('?', '.'), ('.', '.'), ('Compromise', 'NN'), ('for', 'IN'), ('your', 'PRP$'), ('Dream', 'NN'), ('but', 'CC'), ('NEVER', 'NNP'), ('Compromise', 'NNP'), ('on', 'IN'), ('your', 'PRP$'), ('Dream', 'NN'), ('.', '.'), ('We', 'PRP'), ('must', 'MD'), ('speak', 'VB'), ('the', 'DT'), ('truth', 'NN'), ('if', 'IN'), ('we', 'PRP'), ('are', 'VBP'), ('to', 'TO'), ('be', 'VB'), ('a', 'DT'), ('great', 'JJ'), ('nation', 'NN'), ('.', '.'), ('Crime', 'NNP'), ('should', 'MD'), ('not', 'RB'), ('pay', 'VB'), (',', ','), ('it', 'PRP'), ('must', 'MD'), ('be', 'VB'), ('punished', 'VBN'), ('.', '.'), ('Unfortunately', 'RB'), (',', ','), ('in', 'IN'), ('Pakistan', 'NNP'), ('big', 'JJ'), ('crimes', 'NNS'), ('do', 'VBP'), ('get', 'VB'), ('rewarded', 'VBN'), ('.', '.'), ('Leader', 'NNP'), ('leads', 'VBZ'), ('people', 'NNS'), ('.', '.'), ('Leader', 'NN'), ('does', 'VBZ'), ('not', 'RB'), ('follow', 'VB'), ('public', 'JJ'), ('opinion', 'NN'), ('.', '.'), ('Faith', 'NNP'), ('without', 'IN'), ('wisdom', 'NN'), ('and', 'CC'), ('knowledge', 'NN'), ('could', 'MD'), ('produce', 'VB'), ('bigots', 'NNS'), ('completely', 'RB'), ('lacking', 'VBG'), ('in', 'IN'), ('compassion', 'NN'), ('and', 'CC'), ('tolerance', 'NN'), ('.', '.'), ('Holy', 'NNP'), ('Prophet', 'NNP'), ('PBUH', 'NNP'), ('promulgated', 'VBD'), ('a', 'DT'), ('justice', 'NN'), ('system', 'NN'), ('regardless', 'NN'), ('of', 'IN'), ('status', 'NN'), ('of', 'IN'), ('people', 'NNS'), (',', ','), ('yet', 'RB'), ('in', 'IN'), ('Pak', 'NNP'), ('the', 'DT'), ('powerful', 'JJ'), ('easily', 'RB'), ('escapes', 'VBZ'), ('.', '.'), ('Mothers', 'NNS'), ('train', 'VBP'), ('your', 'PRP$'), ('children', 'NNS'), ('to', 'TO'), ('only', 'RB'), ('Speak', 'NNP'), ('Truth', 'NNP'), ('.', '.'), ('There', 'EX'), ('is', 'VBZ'), ('so', 'RB'), ('much', 'JJ'), ('debate', 'NN'), ('about', 'IN'), ('moderate', 'JJ'), ('and', 'CC'), ('radical', 'JJ'), ('Islam', 'NNP'), ('but', 'CC'), ('there', 'EX'), ('is', 'VBZ'), ('only', 'RB'), ('one', 'CD'), ('Islam', 'NNP'), ('.', '.'), ('Imran', 'NNP'), ('Khan', 'NNP'), ('asked', 'VBD'), ('Pakistanis', 'NNP'), ('of', 'IN'), ('four', 'CD'), ('things', 'NNS'), ('at', 'IN'), ('the', 'DT'), ('Historic', 'NNP'), ('Lahore', 'NNP'), ('Jalsa', 'NNP'), ('.', '.'), ('We', 'PRP'), ('shall', 'MD'), ('never', 'RB'), ('lie', 'VB'), ('and', 'CC'), ('always', 'RB'), ('speak', 'VB'), ('the', 'DT'), ('truth', 'NN'), ('.', '.'), ('Leave', 'VB'), ('our', 'PRP$'), ('ego', 'NN'), ('’', 'NN'), ('s', 'NN'), ('behind', 'IN'), ('and', 'CC'), ('only', 'RB'), ('think', 'VB'), ('of', 'IN'), ('this', 'DT'), ('Nation', 'NN'), (',', ','), ('there', 'EX'), ('are', 'VBP'), ('11', 'CD'), ('crore', 'NN'), ('Pakistanis', 'NNP'), ('living', 'VBG'), ('beneath', 'NN'), ('poverty', 'NN'), ('line', 'NN'), ('.', '.'), ('We', 'PRP'), ('shall', 'MD'), ('be', 'VB'), ('brave', 'VBN'), ('and', 'CC'), ('break', 'VB'), ('the', 'DT'), ('shackles', 'NNS'), ('of', 'IN'), ('fear', 'NN'), ('.', '.'), ('We', 'PRP'), ('have', 'VBP'), ('to', 'TO'), ('bring', 'VB'), ('Justice', 'NNP'), ('to', 'TO'), ('this', 'DT'), ('society', 'NN'), (',', ','), ('even', 'RB'), ('if', 'IN'), ('our', 'PRP$'), ('friends', 'NNS'), ('and', 'CC'), ('relatives', 'NNS'), ('do', 'VBP'), ('injustice', 'RB'), (',', ','), ('we', 'PRP'), ('shall', 'MD'), ('be', 'VB'), ('fair', 'JJ'), ('and', 'CC'), ('bring', 'VB'), ('them', 'PRP'), ('to', 'TO'), ('Justice', 'NNP'), ('.', '.'), ('I', 'PRP'), ('felt', 'VBD'), ('like', 'IN'), ('the', 'DT'), ('Islamic', 'NNP'), ('scholar', 'NN'), ('Muhammad', 'NNP'), ('Abduh', 'NNP'), ('(', '('), ('1849-1905', 'JJ'), (')', ')'), (',', ','), ('who', 'WP'), ('said', 'VBD'), ('on', 'IN'), ('his', 'PRP$'), ('return', 'NN'), ('from', 'IN'), ('a', 'DT'), ('trip', 'NN'), ('to', 'TO'), ('Europe', 'NNP'), ('to', 'TO'), ('his', 'PRP$'), ('homeland', 'NN'), ('Egypt', 'NNP'), (\"'I\", 'NNP'), ('saw', 'VBD'), ('no', 'DT'), ('Muslims', 'NNP'), ('in', 'IN'), ('Europe', 'NNP'), ('but', 'CC'), ('I', 'PRP'), ('saw', 'VBD'), ('a', 'DT'), ('lot', 'NN'), ('of', 'IN'), ('Islam', 'NNP'), (',', ','), (\"'\", \"''\"), ('and', 'CC'), ('of', 'IN'), ('his', 'PRP$'), ('homeland', 'NN'), (\"'There\", 'EX'), ('are', 'VBP'), ('a', 'DT'), ('lot', 'NN'), ('of', 'IN'), ('Muslims', 'NNP'), ('here', 'RB'), ('but', 'CC'), ('no', 'DT'), ('Islam', 'NNP'), ('.', '.'), ('Certain', 'NNP'), ('folks', 'JJ'), ('start', 'VBP'), ('playing', 'VBG'), ('Sindh', 'NNP'), ('Card', 'NNP'), ('despite', 'IN'), ('having', 'VBG'), ('ravaged', 'VBN'), ('the', 'DT'), ('life', 'NN'), ('of', 'IN'), ('the', 'DT'), ('common', 'JJ'), ('Sindhi', 'NNP'), ('.', '.'), ('My', 'NNP'), ('Pakistanis', 'NNP'), (',', ','), ('you', 'PRP'), ('have', 'VBP'), ('not', 'RB'), ('left', 'VBN'), ('me', 'PRP'), ('alone', 'JJ'), ('and', 'CC'), ('I', 'PRP'), ('promise', 'VBP'), (',', ','), ('I', 'PRP'), ('will', 'MD'), ('never', 'RB'), ('leave', 'VB'), ('you', 'PRP'), ('alone', 'RB'), ('in', 'IN'), ('sha', 'JJ'), ('Allah', 'NNP'), ('.', '.'), ('When', 'WRB'), ('I', 'PRP'), ('was', 'VBD'), ('older', 'JJR'), (',', ','), ('I', 'PRP'), ('found', 'VBD'), ('Iqbal', 'NNP'), (\"'s\", 'POS'), ('work', 'NN'), ('hugely', 'RB'), ('inspirational', 'JJ'), ('.', '.'), ('He', 'PRP'), ('argued', 'VBD'), ('against', 'IN'), ('an', 'DT'), ('unquestioning', 'JJ'), ('acceptance', 'NN'), ('of', 'IN'), ('Western', 'JJ'), ('democracy', 'NN'), ('as', 'IN'), ('the', 'DT'), ('self-governing', 'JJ'), ('model', 'NN'), (',', ','), ('and', 'CC'), ('instead', 'RB'), ('suggested', 'VBD'), ('that', 'IN'), ('by', 'IN'), ('following', 'VBG'), ('the', 'DT'), ('rules', 'NNS'), ('of', 'IN'), ('Islam', 'NNP'), ('a', 'DT'), ('society', 'NN'), ('would', 'MD'), ('tend', 'VB'), ('naturally', 'RB'), ('towards', 'NNS'), ('social', 'JJ'), ('justice', 'NN'), (',', ','), ('tolerance', 'NN'), (',', ','), ('peace', 'NN'), ('and', 'CC'), ('equality', 'NN'), ('.', '.'), ('Iqbal', 'NNP'), (\"'s\", 'POS'), ('interpretation', 'NN'), ('of', 'IN'), ('Islam', 'NNP'), ('differs', 'NNS'), ('very', 'RB'), ('widely', 'RB'), ('from', 'IN'), ('the', 'DT'), ('narrow', 'JJ'), ('meaning', 'NN'), ('that', 'WDT'), ('is', 'VBZ'), ('sometimes', 'RB'), ('given', 'VBN'), ('to', 'TO'), ('it', 'PRP'), ('.', '.'), ('For', 'IN'), ('Iqbal', 'NNP'), (',', ','), ('Islam', 'NNP'), ('is', 'VBZ'), ('not', 'RB'), ('just', 'RB'), ('the', 'DT'), ('name', 'NN'), ('for', 'IN'), ('certain', 'JJ'), ('beliefs', 'NNS'), ('and', 'CC'), ('forms', 'NNS'), ('of', 'IN'), ('worship', 'NN'), ('.', '.'), ('The', 'DT'), ('difference', 'NN'), ('between', 'IN'), ('a', 'DT'), ('Muslim', 'NNP'), ('and', 'CC'), ('a', 'DT'), ('non-Muslim', 'JJ'), ('is', 'VBZ'), ('not', 'RB'), ('merely', 'RB'), ('a', 'DT'), ('theological', 'JJ'), ('one', 'CD'), ('-', ':'), ('it', 'PRP'), ('is', 'VBZ'), ('a', 'DT'), ('difference', 'NN'), ('of', 'IN'), ('a', 'DT'), ('fundamental', 'JJ'), ('attitude', 'NN'), ('towards', 'NNS'), ('life', 'NN'), ('.', '.'), ('Truth', 'NNP'), ('is', 'VBZ'), ('the', 'DT'), ('power', 'NN'), ('that', 'WDT'), ('will', 'MD'), ('resolve', 'VB'), ('our', 'PRP$'), ('problems', 'NNS'), ('.', '.'), ('Allah', 'NNP'), ('exalts', 'JJ'), ('whom', 'WP'), ('he', 'PRP'), ('wills', 'VBZ'), ('!', '.'), ('.', '.'), ('Bravery', 'NNP'), ('is', 'VBZ'), ('standing', 'VBG'), ('with', 'IN'), ('the', 'DT'), ('truth', 'NN'), ('and', 'CC'), ('right', 'NN'), ('.', '.'), ('There', 'EX'), ('are', 'VBP'), ('greater', 'JJR'), ('goals', 'NNS'), ('in', 'IN'), ('life', 'NN'), ('than', 'IN'), ('material', 'NN'), ('and', 'CC'), ('sensual', 'JJ'), ('pleasures', 'NNS'), ('.', '.'), ('The', 'DT'), ('war', 'NN'), ('on', 'IN'), ('terror', 'NN'), ('is', 'VBZ'), ('the', 'DT'), ('most', 'RBS'), ('insane', 'JJ'), ('and', 'CC'), ('immoral', 'JJ'), ('war', 'NN'), ('of', 'IN'), ('all', 'DT'), ('time', 'NN'), ('.', '.'), ('The', 'DT'), ('Americans', 'NNPS'), ('are', 'VBP'), ('doing', 'VBG'), ('what', 'WP'), ('they', 'PRP'), ('did', 'VBD'), ('in', 'IN'), ('Vietnam', 'NNP'), (',', ','), ('bombing', 'VBG'), ('villages', 'NNS'), ('.', '.'), ('But', 'CC'), ('how', 'WRB'), ('can', 'MD'), ('a', 'DT'), ('civilised', 'JJ'), ('nation', 'NN'), ('do', 'VB'), ('this', 'DT'), ('?', '.'), ('How', 'WRB'), ('can', 'MD'), ('you', 'PRP'), ('can', 'MD'), ('eliminate', 'VB'), ('suspects', 'NNS'), (',', ','), ('their', 'PRP$'), ('wives', 'NNS'), (',', ','), ('their', 'PRP$'), ('children', 'NNS'), (',', ','), ('their', 'PRP$'), ('families', 'NNS'), (',', ','), ('their', 'PRP$'), ('neighbours', 'NNS'), ('?', '.'), ('How', 'WRB'), ('can', 'MD'), ('you', 'PRP'), ('justify', 'VB'), ('this', 'DT'), ('?', '.'), ('.', '.'), ('I', 'PRP'), ('want', 'VBP'), ('you', 'PRP'), ('all', 'DT'), ('to', 'TO'), ('stand', 'VB'), ('like', 'IN'), ('the', 'DT'), ('Muslims', 'NNPS'), ('who', 'WP'), ('stood', 'VBD'), ('with', 'IN'), ('La', 'NNP'), ('ilaaha', 'VBP'), ('ilalla', 'NN'), ('for', 'IN'), ('Truth', 'NNP'), ('and', 'CC'), ('Right', 'NNP'), ('.', '.'), ('Say', 'NNP'), ('goodbye', 'NN'), ('to', 'TO'), ('the', 'DT'), ('IMF', 'NNP'), ('once', 'RB'), ('and', 'CC'), ('for', 'IN'), ('all', 'DT'), ('as', 'IN'), ('the', 'DT'), ('IMF', 'NNP'), (\"'s\", 'POS'), ('conditions', 'NNS'), ('enriches', 'VBZ'), ('the', 'DT'), ('rich', 'JJ'), ('and', 'CC'), ('impoverishes', 'VBZ'), ('the', 'DT'), ('poor', 'JJ'), ('.', '.'), ('Good', 'JJ'), ('deeds', 'NNS'), ('must', 'MD'), ('be', 'VB'), ('rewarded', 'VBN'), ('by', 'IN'), ('the', 'DT'), ('system', 'NN'), ('and', 'CC'), ('crimes', 'NNS'), ('be', 'VB'), ('punished', 'VBN'), ('-', ':'), ('this', 'DT'), ('is', 'VBZ'), ('the', 'DT'), ('essence', 'NN'), ('of', 'IN'), ('meritocracy', 'NN'), ('.', '.'), ('Prophet', 'NNP'), ('(', '('), ('PBUH', 'NNP'), (')', ')'), ('considered', 'VBD'), ('the', 'DT'), ('ink', 'NN'), ('of', 'IN'), ('a', 'DT'), ('scholar', 'NN'), ('to', 'TO'), ('be', 'VB'), ('holier', 'JJR'), ('than', 'IN'), ('the', 'DT'), ('blood', 'NN'), ('of', 'IN'), ('a', 'DT'), ('martyr', 'NN'), ('.', '.'), ('Ethnic-based', 'JJ'), ('politics', 'NNS'), ('is', 'VBZ'), ('being', 'VBG'), ('used', 'VBN'), ('to', 'TO'), ('exhort', 'VB'), ('people', 'NNS'), (',', ','), ('to', 'TO'), ('serve', 'VB'), ('own', 'JJ'), ('ends', 'NNS'), ('-', ':'), ('this', 'DT'), ('is', 'VBZ'), ('anathema', 'JJ'), ('to', 'TO'), ('concept', 'VB'), ('of', 'IN'), ('nationalism', 'NN'), ('.', '.'), ('When', 'WRB'), ('you', 'PRP'), ('remove', 'VBP'), ('the', 'DT'), ('concept', 'NN'), ('of', 'IN'), ('reward', 'NN'), ('and', 'CC'), ('punishment', 'NN'), ('on', 'IN'), ('merit', 'NN'), (',', ','), ('the', 'DT'), ('result', 'NN'), ('is', 'VBZ'), ('the', 'DT'), ('utter', 'JJ'), ('destruction', 'NN'), ('of', 'IN'), ('social', 'JJ'), ('fabric', 'NN'), ('.', '.'), ('I', 'PRP'), ('wanted', 'VBD'), ('to', 'TO'), ('be', 'VB'), ('an', 'DT'), ('outstanding', 'JJ'), ('player', 'NN'), (',', ','), ('that', 'WDT'), ('was', 'VBD'), ('my', 'PRP$'), ('ambition', 'NN'), ('.', '.'), ('When', 'WRB'), ('I', 'PRP'), ('announced', 'VBD'), ('my', 'PRP$'), ('party', 'NN'), (',', ','), ('Tehreek-e-Insaf', 'NNP'), ('(', '('), ('Movement', 'NNP'), ('for', 'IN'), ('Justice', 'NNP'), (')', ')'), ('on', 'IN'), ('25', 'CD'), ('April', 'NNP'), ('1996', 'CD'), (',', ','), ('I', 'PRP'), ('had', 'VBD'), ('lost', 'VBN'), ('all', 'DT'), ('fear', 'NN'), ('of', 'IN'), ('dying', 'VBG'), ('.', '.'), ('A', 'DT'), ('condemned', 'JJ'), ('poor', 'JJ'), ('man', 'NN'), (',', ','), ('if', 'IN'), ('steals', 'NNS'), ('to', 'TO'), ('feed', 'VB'), ('his', 'PRP$'), ('starving', 'VBG'), ('kid', 'NN'), (',', ','), ('is', 'VBZ'), ('slammed', 'VBN'), ('into', 'IN'), ('prison', 'NN'), ('.', '.'), ('Contrast', 'NN'), ('this', 'DT'), ('to', 'TO'), ('a', 'DT'), ('rich', 'JJ'), ('man', 'NN'), (\"'s\", 'POS'), ('crime', 'NN'), ('.', '.'), ('الله', 'VB'), ('تعالی', 'JJ'), ('نے', 'NNP'), ('انسان', 'NNP'), ('کے', 'NNP'), ('هاته', 'NNP'), ('مین', 'NNP'), ('نیت', 'NNP'), ('اور', 'NNP'), ('کوشش', 'NNP'), ('دی', 'NNP'), ('هے', 'NNP'), ('کامیابی', 'NNP'), ('وه', 'NNP'), ('دیتا', 'NNP'), ('هے', 'NNP'), ('.', '.'), ('Faith', 'NNP'), ('should', 'MD'), ('be', 'VB'), ('about', 'IN'), ('encouraging', 'VBG'), ('all', 'PDT'), ('that', 'DT'), ('is', 'VBZ'), ('noble', 'JJ'), ('in', 'IN'), ('a', 'DT'), ('human', 'JJ'), ('being', 'VBG'), ('.', '.'), ('Leader', 'NN'), ('follows', 'VBZ'), ('his', 'PRP$'), ('ideology', 'NN'), (',', ','), ('Leader', 'NNP'), ('does', 'VBZ'), ('not', 'RB'), ('follow', 'VB'), ('his', 'PRP$'), ('relatives', 'NNS'), ('and', 'CC'), ('friends', 'NNS'), ('.', '.'), ('According', 'VBG'), ('to', 'TO'), ('the', 'DT'), ('UNDP', 'NNP'), ('(', '('), ('United', 'NNP'), ('Nations', 'NNP'), ('Development', 'NNP'), ('Programme', 'NNP'), (')', ')'), (',', ','), ('54', 'CD'), ('per', 'IN'), ('cent', 'NN'), ('of', 'IN'), ('Pakistanis', 'NNP'), ('face', 'VBP'), (\"'multi-dimentional\", 'JJ'), ('deprivation', 'NN'), (\"'\", 'POS'), ('.', '.'), ('meaning', 'VBG'), ('they', 'PRP'), ('lack', 'VBP'), ('access', 'NN'), ('to', 'TO'), ('proper', 'VB'), ('education', 'NN'), ('and', 'CC'), ('health', 'NN'), ('facilities', 'NNS'), ('and', 'CC'), ('a', 'DT'), ('decent', 'JJ'), ('standard', 'NN'), ('of', 'IN'), ('living', 'NN'), ('.', '.'), ('Almost', 'NNP'), ('two-thirds', 'NNS'), ('of', 'IN'), ('the', 'DT'), ('country', 'NN'), ('lives', 'VBZ'), ('on', 'IN'), ('less', 'JJR'), ('than', 'IN'), ('US', 'NNP'), ('$', '$'), ('2', 'CD'), ('a', 'DT'), ('day', 'NN'), ('and', 'CC'), ('about', 'IN'), ('40', 'CD'), ('per', 'IN'), ('cent', 'NN'), ('of', 'IN'), ('Pakistani', 'NNP'), ('children', 'NNS'), ('suffer', 'VBP'), ('from', 'IN'), ('chronic', 'JJ'), ('malnutrition', 'NN'), ('.', '.'), ('How', 'WRB'), ('can', 'MD'), ('Pakistan', 'VB'), ('be', 'VB'), ('called', 'VBN'), ('an', 'DT'), ('Islamic', 'NNP'), ('society', 'NN'), ('?', '.'), ('.', '.'), ('Imran', 'NNP'), ('Khan', 'NNP'), ('says', 'VBZ'), (\"'End\", 'VB'), ('your', 'PRP$'), ('ego', 'NN'), (',', ','), ('think', 'NN'), ('of', 'IN'), ('nation', 'NN'), ('.', '.'), ('Iqbal', 'NNP'), ('not', 'RB'), ('only', 'RB'), ('conceived', 'VBN'), ('of', 'IN'), ('a', 'DT'), ('self-governing', 'JJ'), ('Muslim', 'NNP'), ('state', 'NN'), (',', ','), ('his', 'PRP$'), ('passionate', 'JJ'), ('voice', 'NN'), ('awakened', 'VBD'), ('and', 'CC'), ('activated', 'VBD'), ('Indian', 'JJ'), ('Muslims', 'NNP'), (',', ','), ('motivating', 'VBG'), ('them', 'PRP'), ('not', 'RB'), ('only', 'RB'), ('to', 'TO'), ('strive', 'VB'), ('to', 'TO'), ('free', 'VB'), ('themselves', 'PRP'), ('from', 'IN'), ('the', 'DT'), ('bondage', 'NN'), ('of', 'IN'), ('imperialism', 'NN'), ('and', 'CC'), ('colonialism', 'NN'), (',', ','), ('but', 'CC'), ('also', 'RB'), ('to', 'TO'), ('challenge', 'VB'), ('other', 'JJ'), ('forms', 'NNS'), ('of', 'IN'), ('totalitarian', 'JJ'), ('control', 'NN'), ('.', '.'), ('Believing', 'VBG'), ('fervently', 'RB'), ('in', 'IN'), ('human', 'JJ'), ('equality', 'NN'), ('and', 'CC'), ('the', 'DT'), ('right', 'NN'), ('of', 'IN'), ('human', 'JJ'), ('beings', 'NNS'), ('to', 'TO'), ('dignity', 'NN'), (',', ','), ('justice', 'NN'), ('and', 'CC'), ('freedom', 'NN'), (',', ','), ('Iqbal', 'NNP'), ('empowered', 'VBD'), ('the', 'DT'), ('dis-empowered', 'JJ'), ('to', 'TO'), ('stand', 'VB'), ('up', 'RP'), ('and', 'CC'), ('be', 'VB'), ('counted', 'VBN'), ('.', '.'), ('Starting', 'VBG'), ('a', 'DT'), ('war', 'NN'), ('is', 'VBZ'), ('in', 'IN'), ('our', 'PRP$'), ('hands', 'NNS'), (',', ','), ('it', 'PRP'), ('is', 'VBZ'), ('easy', 'JJ'), ('.', '.'), ('But', 'CC'), ('ending', 'VBG'), ('a', 'DT'), ('war', 'NN'), (',', ','), ('that', 'WDT'), ('is', 'VBZ'), ('not', 'RB'), ('in', 'IN'), ('our', 'PRP$'), ('hands', 'NNS'), ('and', 'CC'), ('no', 'DT'), ('one', 'NN'), ('knows', 'VBZ'), ('what', 'WP'), ('will', 'MD'), ('happen', 'VB')]\n"
          ],
          "name": "stdout"
        }
      ]
    },
    {
      "cell_type": "code",
      "metadata": {
        "colab": {
          "base_uri": "https://localhost:8080/"
        },
        "id": "9w1iab_cq4IJ",
        "outputId": "42681db0-c136-44cb-9765-346621e1a966"
      },
      "source": [
        "# namedEnt.draw() \r\n",
        "print(namedEnt)"
      ],
      "execution_count": 148,
      "outputs": [
        {
          "output_type": "stream",
          "text": [
            "(S\n",
            "  It/PRP\n",
            "  is/VBZ\n",
            "  not/RB\n",
            "  defeat/JJ\n",
            "  that/IN\n",
            "  destroys/VBZ\n",
            "  you/PRP\n",
            "  ,/,\n",
            "  it/PRP\n",
            "  is/VBZ\n",
            "  being/VBG\n",
            "  demoralized/VBN\n",
            "  by/IN\n",
            "  defeat/NN\n",
            "  that/IN\n",
            "  destroy/NN\n",
            "  you/PRP\n",
            "  ./.\n",
            "  The/DT\n",
            "  more/RBR\n",
            "  you/PRP\n",
            "  study/VBP\n",
            "  ,/,\n",
            "  the/DT\n",
            "  more/JJR\n",
            "  you/PRP\n",
            "  know/VBP\n",
            "  ;/:\n",
            "  how/WRB\n",
            "  less/RBR\n",
            "  you/PRP\n",
            "  know/VBP\n",
            "  ./.\n",
            "  I/PRP\n",
            "  have/VBP\n",
            "  always/RB\n",
            "  believed/VBN\n",
            "  that/IN\n",
            "  one/CD\n",
            "  should/MD\n",
            "  not/RB\n",
            "  be/VB\n",
            "  scared/VBN\n",
            "  of/IN\n",
            "  losing/NN\n",
            "  ,/,\n",
            "  I/PRP\n",
            "  think/VBP\n",
            "  that/IN\n",
            "  really/RB\n",
            "  is/VBZ\n",
            "  the/DT\n",
            "  key/NN\n",
            "  ./.\n",
            "  Never/RB\n",
            "  give/VBP\n",
            "  up/RP\n",
            "  ,/,\n",
            "  no/DT\n",
            "  matter/NN\n",
            "  how/WRB\n",
            "  hard/JJ\n",
            "  life/NN\n",
            "  gets/VBZ\n",
            "  no/DT\n",
            "  matter/NN\n",
            "  how/WRB\n",
            "  much/RB\n",
            "  pain/VBP\n",
            "  you/PRP\n",
            "  feel/VBP\n",
            "  ./.\n",
            "  (PERSON Pain/NNP)\n",
            "  will/MD\n",
            "  eventually/RB\n",
            "  subside/VB\n",
            "  ,/,\n",
            "  nothing/NN\n",
            "  remains/VBZ\n",
            "  forever/RB\n",
            "  ,/,\n",
            "  so/RB\n",
            "  keep/VB\n",
            "  going/VBG\n",
            "  and/CC\n",
            "  do/VBP\n",
            "  n't/RB\n",
            "  give/VB\n",
            "  up/RP\n",
            "  ./.\n",
            "  Lack/NNP\n",
            "  of/IN\n",
            "  rule/NN\n",
            "  of/IN\n",
            "  law/NN\n",
            "  is/VBZ\n",
            "  the/DT\n",
            "  main/JJ\n",
            "  reason/NN\n",
            "  (GPE Pakistan/NNP)\n",
            "  could/MD\n",
            "  not/RB\n",
            "  join/VB\n",
            "  the/DT\n",
            "  ranks/NNS\n",
            "  of/IN\n",
            "  progressive/JJ\n",
            "  nations/NNS\n",
            "  ./.\n",
            "  Are/VBP\n",
            "  we/PRP\n",
            "  Pakistanis/NNP\n",
            "  ,/,\n",
            "  children/NNS\n",
            "  of/IN\n",
            "  a/DT\n",
            "  lesser/JJR\n",
            "  God/NNP\n",
            "  ?/.\n",
            "  Is/VBZ\n",
            "  there/RB\n",
            "  one/CD\n",
            "  law/NN\n",
            "  for/IN\n",
            "  the/DT\n",
            "  west/NN\n",
            "  and/CC\n",
            "  one/CD\n",
            "  for/IN\n",
            "  us/PRP\n",
            "  ?/.\n",
            "  Is/VBZ\n",
            "  our/PRP$\n",
            "  democracy/NN\n",
            "  supposed/VBN\n",
            "  to/TO\n",
            "  be/VB\n",
            "  only/RB\n",
            "  democracy/NN\n",
            "  if/IN\n",
            "  you/PRP\n",
            "  give/VBP\n",
            "  us/PRP\n",
            "  a/DT\n",
            "  no/DT\n",
            "  objection/NN\n",
            "  certificate/NN\n",
            "  ?/.\n",
            "  ./.\n",
            "  Compromise/NN\n",
            "  for/IN\n",
            "  your/PRP$\n",
            "  Dream/NN\n",
            "  but/CC\n",
            "  (ORGANIZATION NEVER/NNP Compromise/NNP)\n",
            "  on/IN\n",
            "  your/PRP$\n",
            "  Dream/NN\n",
            "  ./.\n",
            "  We/PRP\n",
            "  must/MD\n",
            "  speak/VB\n",
            "  the/DT\n",
            "  truth/NN\n",
            "  if/IN\n",
            "  we/PRP\n",
            "  are/VBP\n",
            "  to/TO\n",
            "  be/VB\n",
            "  a/DT\n",
            "  great/JJ\n",
            "  nation/NN\n",
            "  ./.\n",
            "  Crime/NNP\n",
            "  should/MD\n",
            "  not/RB\n",
            "  pay/VB\n",
            "  ,/,\n",
            "  it/PRP\n",
            "  must/MD\n",
            "  be/VB\n",
            "  punished/VBN\n",
            "  ./.\n",
            "  Unfortunately/RB\n",
            "  ,/,\n",
            "  in/IN\n",
            "  (GPE Pakistan/NNP)\n",
            "  big/JJ\n",
            "  crimes/NNS\n",
            "  do/VBP\n",
            "  get/VB\n",
            "  rewarded/VBN\n",
            "  ./.\n",
            "  (PERSON Leader/NNP)\n",
            "  leads/VBZ\n",
            "  people/NNS\n",
            "  ./.\n",
            "  (PERSON Leader/NN)\n",
            "  does/VBZ\n",
            "  not/RB\n",
            "  follow/VB\n",
            "  public/JJ\n",
            "  opinion/NN\n",
            "  ./.\n",
            "  (PERSON Faith/NNP)\n",
            "  without/IN\n",
            "  wisdom/NN\n",
            "  and/CC\n",
            "  knowledge/NN\n",
            "  could/MD\n",
            "  produce/VB\n",
            "  bigots/NNS\n",
            "  completely/RB\n",
            "  lacking/VBG\n",
            "  in/IN\n",
            "  compassion/NN\n",
            "  and/CC\n",
            "  tolerance/NN\n",
            "  ./.\n",
            "  (PERSON Holy/NNP Prophet/NNP)\n",
            "  PBUH/NNP\n",
            "  promulgated/VBD\n",
            "  a/DT\n",
            "  justice/NN\n",
            "  system/NN\n",
            "  regardless/NN\n",
            "  of/IN\n",
            "  status/NN\n",
            "  of/IN\n",
            "  people/NNS\n",
            "  ,/,\n",
            "  yet/RB\n",
            "  in/IN\n",
            "  Pak/NNP\n",
            "  the/DT\n",
            "  powerful/JJ\n",
            "  easily/RB\n",
            "  escapes/VBZ\n",
            "  ./.\n",
            "  Mothers/NNS\n",
            "  train/VBP\n",
            "  your/PRP$\n",
            "  children/NNS\n",
            "  to/TO\n",
            "  only/RB\n",
            "  (PERSON Speak/NNP Truth/NNP)\n",
            "  ./.\n",
            "  There/EX\n",
            "  is/VBZ\n",
            "  so/RB\n",
            "  much/JJ\n",
            "  debate/NN\n",
            "  about/IN\n",
            "  moderate/JJ\n",
            "  and/CC\n",
            "  radical/JJ\n",
            "  Islam/NNP\n",
            "  but/CC\n",
            "  there/EX\n",
            "  is/VBZ\n",
            "  only/RB\n",
            "  one/CD\n",
            "  Islam/NNP\n",
            "  ./.\n",
            "  (PERSON Imran/NNP Khan/NNP)\n",
            "  asked/VBD\n",
            "  (ORGANIZATION Pakistanis/NNP)\n",
            "  of/IN\n",
            "  four/CD\n",
            "  things/NNS\n",
            "  at/IN\n",
            "  the/DT\n",
            "  (ORGANIZATION Historic/NNP Lahore/NNP Jalsa/NNP)\n",
            "  ./.\n",
            "  We/PRP\n",
            "  shall/MD\n",
            "  never/RB\n",
            "  lie/VB\n",
            "  and/CC\n",
            "  always/RB\n",
            "  speak/VB\n",
            "  the/DT\n",
            "  truth/NN\n",
            "  ./.\n",
            "  Leave/VB\n",
            "  our/PRP$\n",
            "  ego/NN\n",
            "  ’/NN\n",
            "  s/NN\n",
            "  behind/IN\n",
            "  and/CC\n",
            "  only/RB\n",
            "  think/VB\n",
            "  of/IN\n",
            "  this/DT\n",
            "  Nation/NN\n",
            "  ,/,\n",
            "  there/EX\n",
            "  are/VBP\n",
            "  11/CD\n",
            "  crore/NN\n",
            "  Pakistanis/NNP\n",
            "  living/VBG\n",
            "  beneath/NN\n",
            "  poverty/NN\n",
            "  line/NN\n",
            "  ./.\n",
            "  We/PRP\n",
            "  shall/MD\n",
            "  be/VB\n",
            "  brave/VBN\n",
            "  and/CC\n",
            "  break/VB\n",
            "  the/DT\n",
            "  shackles/NNS\n",
            "  of/IN\n",
            "  fear/NN\n",
            "  ./.\n",
            "  We/PRP\n",
            "  have/VBP\n",
            "  to/TO\n",
            "  bring/VB\n",
            "  Justice/NNP\n",
            "  to/TO\n",
            "  this/DT\n",
            "  society/NN\n",
            "  ,/,\n",
            "  even/RB\n",
            "  if/IN\n",
            "  our/PRP$\n",
            "  friends/NNS\n",
            "  and/CC\n",
            "  relatives/NNS\n",
            "  do/VBP\n",
            "  injustice/RB\n",
            "  ,/,\n",
            "  we/PRP\n",
            "  shall/MD\n",
            "  be/VB\n",
            "  fair/JJ\n",
            "  and/CC\n",
            "  bring/VB\n",
            "  them/PRP\n",
            "  to/TO\n",
            "  Justice/NNP\n",
            "  ./.\n",
            "  I/PRP\n",
            "  felt/VBD\n",
            "  like/IN\n",
            "  the/DT\n",
            "  (ORGANIZATION Islamic/NNP)\n",
            "  scholar/NN\n",
            "  (PERSON Muhammad/NNP Abduh/NNP)\n",
            "  (/(\n",
            "  1849-1905/JJ\n",
            "  )/)\n",
            "  ,/,\n",
            "  who/WP\n",
            "  said/VBD\n",
            "  on/IN\n",
            "  his/PRP$\n",
            "  return/NN\n",
            "  from/IN\n",
            "  a/DT\n",
            "  trip/NN\n",
            "  to/TO\n",
            "  (GPE Europe/NNP)\n",
            "  to/TO\n",
            "  his/PRP$\n",
            "  homeland/NN\n",
            "  (PERSON Egypt/NNP 'I/NNP)\n",
            "  saw/VBD\n",
            "  no/DT\n",
            "  Muslims/NNP\n",
            "  in/IN\n",
            "  (GPE Europe/NNP)\n",
            "  but/CC\n",
            "  I/PRP\n",
            "  saw/VBD\n",
            "  a/DT\n",
            "  lot/NN\n",
            "  of/IN\n",
            "  (GPE Islam/NNP)\n",
            "  ,/,\n",
            "  '/''\n",
            "  and/CC\n",
            "  of/IN\n",
            "  his/PRP$\n",
            "  homeland/NN\n",
            "  'There/EX\n",
            "  are/VBP\n",
            "  a/DT\n",
            "  lot/NN\n",
            "  of/IN\n",
            "  (PERSON Muslims/NNP)\n",
            "  here/RB\n",
            "  but/CC\n",
            "  no/DT\n",
            "  Islam/NNP\n",
            "  ./.\n",
            "  (PERSON Certain/NNP)\n",
            "  folks/JJ\n",
            "  start/VBP\n",
            "  playing/VBG\n",
            "  (PERSON Sindh/NNP Card/NNP)\n",
            "  despite/IN\n",
            "  having/VBG\n",
            "  ravaged/VBN\n",
            "  the/DT\n",
            "  life/NN\n",
            "  of/IN\n",
            "  the/DT\n",
            "  common/JJ\n",
            "  Sindhi/NNP\n",
            "  ./.\n",
            "  My/NNP\n",
            "  Pakistanis/NNP\n",
            "  ,/,\n",
            "  you/PRP\n",
            "  have/VBP\n",
            "  not/RB\n",
            "  left/VBN\n",
            "  me/PRP\n",
            "  alone/JJ\n",
            "  and/CC\n",
            "  I/PRP\n",
            "  promise/VBP\n",
            "  ,/,\n",
            "  I/PRP\n",
            "  will/MD\n",
            "  never/RB\n",
            "  leave/VB\n",
            "  you/PRP\n",
            "  alone/RB\n",
            "  in/IN\n",
            "  sha/JJ\n",
            "  Allah/NNP\n",
            "  ./.\n",
            "  When/WRB\n",
            "  I/PRP\n",
            "  was/VBD\n",
            "  older/JJR\n",
            "  ,/,\n",
            "  I/PRP\n",
            "  found/VBD\n",
            "  (PERSON Iqbal/NNP)\n",
            "  's/POS\n",
            "  work/NN\n",
            "  hugely/RB\n",
            "  inspirational/JJ\n",
            "  ./.\n",
            "  He/PRP\n",
            "  argued/VBD\n",
            "  against/IN\n",
            "  an/DT\n",
            "  unquestioning/JJ\n",
            "  acceptance/NN\n",
            "  of/IN\n",
            "  (GPE Western/JJ)\n",
            "  democracy/NN\n",
            "  as/IN\n",
            "  the/DT\n",
            "  self-governing/JJ\n",
            "  model/NN\n",
            "  ,/,\n",
            "  and/CC\n",
            "  instead/RB\n",
            "  suggested/VBD\n",
            "  that/IN\n",
            "  by/IN\n",
            "  following/VBG\n",
            "  the/DT\n",
            "  rules/NNS\n",
            "  of/IN\n",
            "  (GPE Islam/NNP)\n",
            "  a/DT\n",
            "  society/NN\n",
            "  would/MD\n",
            "  tend/VB\n",
            "  naturally/RB\n",
            "  towards/NNS\n",
            "  social/JJ\n",
            "  justice/NN\n",
            "  ,/,\n",
            "  tolerance/NN\n",
            "  ,/,\n",
            "  peace/NN\n",
            "  and/CC\n",
            "  equality/NN\n",
            "  ./.\n",
            "  (PERSON Iqbal/NNP)\n",
            "  's/POS\n",
            "  interpretation/NN\n",
            "  of/IN\n",
            "  (GPE Islam/NNP)\n",
            "  differs/NNS\n",
            "  very/RB\n",
            "  widely/RB\n",
            "  from/IN\n",
            "  the/DT\n",
            "  narrow/JJ\n",
            "  meaning/NN\n",
            "  that/WDT\n",
            "  is/VBZ\n",
            "  sometimes/RB\n",
            "  given/VBN\n",
            "  to/TO\n",
            "  it/PRP\n",
            "  ./.\n",
            "  For/IN\n",
            "  (PERSON Iqbal/NNP)\n",
            "  ,/,\n",
            "  (PERSON Islam/NNP)\n",
            "  is/VBZ\n",
            "  not/RB\n",
            "  just/RB\n",
            "  the/DT\n",
            "  name/NN\n",
            "  for/IN\n",
            "  certain/JJ\n",
            "  beliefs/NNS\n",
            "  and/CC\n",
            "  forms/NNS\n",
            "  of/IN\n",
            "  worship/NN\n",
            "  ./.\n",
            "  The/DT\n",
            "  difference/NN\n",
            "  between/IN\n",
            "  a/DT\n",
            "  (ORGANIZATION Muslim/NNP)\n",
            "  and/CC\n",
            "  a/DT\n",
            "  non-Muslim/JJ\n",
            "  is/VBZ\n",
            "  not/RB\n",
            "  merely/RB\n",
            "  a/DT\n",
            "  theological/JJ\n",
            "  one/CD\n",
            "  -/:\n",
            "  it/PRP\n",
            "  is/VBZ\n",
            "  a/DT\n",
            "  difference/NN\n",
            "  of/IN\n",
            "  a/DT\n",
            "  fundamental/JJ\n",
            "  attitude/NN\n",
            "  towards/NNS\n",
            "  life/NN\n",
            "  ./.\n",
            "  (PERSON Truth/NNP)\n",
            "  is/VBZ\n",
            "  the/DT\n",
            "  power/NN\n",
            "  that/WDT\n",
            "  will/MD\n",
            "  resolve/VB\n",
            "  our/PRP$\n",
            "  problems/NNS\n",
            "  ./.\n",
            "  (PERSON Allah/NNP)\n",
            "  exalts/JJ\n",
            "  whom/WP\n",
            "  he/PRP\n",
            "  wills/VBZ\n",
            "  !/.\n",
            "  ./.\n",
            "  (PERSON Bravery/NNP)\n",
            "  is/VBZ\n",
            "  standing/VBG\n",
            "  with/IN\n",
            "  the/DT\n",
            "  truth/NN\n",
            "  and/CC\n",
            "  right/NN\n",
            "  ./.\n",
            "  There/EX\n",
            "  are/VBP\n",
            "  greater/JJR\n",
            "  goals/NNS\n",
            "  in/IN\n",
            "  life/NN\n",
            "  than/IN\n",
            "  material/NN\n",
            "  and/CC\n",
            "  sensual/JJ\n",
            "  pleasures/NNS\n",
            "  ./.\n",
            "  The/DT\n",
            "  war/NN\n",
            "  on/IN\n",
            "  terror/NN\n",
            "  is/VBZ\n",
            "  the/DT\n",
            "  most/RBS\n",
            "  insane/JJ\n",
            "  and/CC\n",
            "  immoral/JJ\n",
            "  war/NN\n",
            "  of/IN\n",
            "  all/DT\n",
            "  time/NN\n",
            "  ./.\n",
            "  The/DT\n",
            "  Americans/NNPS\n",
            "  are/VBP\n",
            "  doing/VBG\n",
            "  what/WP\n",
            "  they/PRP\n",
            "  did/VBD\n",
            "  in/IN\n",
            "  (GPE Vietnam/NNP)\n",
            "  ,/,\n",
            "  bombing/VBG\n",
            "  villages/NNS\n",
            "  ./.\n",
            "  But/CC\n",
            "  how/WRB\n",
            "  can/MD\n",
            "  a/DT\n",
            "  civilised/JJ\n",
            "  nation/NN\n",
            "  do/VB\n",
            "  this/DT\n",
            "  ?/.\n",
            "  How/WRB\n",
            "  can/MD\n",
            "  you/PRP\n",
            "  can/MD\n",
            "  eliminate/VB\n",
            "  suspects/NNS\n",
            "  ,/,\n",
            "  their/PRP$\n",
            "  wives/NNS\n",
            "  ,/,\n",
            "  their/PRP$\n",
            "  children/NNS\n",
            "  ,/,\n",
            "  their/PRP$\n",
            "  families/NNS\n",
            "  ,/,\n",
            "  their/PRP$\n",
            "  neighbours/NNS\n",
            "  ?/.\n",
            "  How/WRB\n",
            "  can/MD\n",
            "  you/PRP\n",
            "  justify/VB\n",
            "  this/DT\n",
            "  ?/.\n",
            "  ./.\n",
            "  I/PRP\n",
            "  want/VBP\n",
            "  you/PRP\n",
            "  all/DT\n",
            "  to/TO\n",
            "  stand/VB\n",
            "  like/IN\n",
            "  the/DT\n",
            "  Muslims/NNPS\n",
            "  who/WP\n",
            "  stood/VBD\n",
            "  with/IN\n",
            "  La/NNP\n",
            "  ilaaha/VBP\n",
            "  ilalla/NN\n",
            "  for/IN\n",
            "  (GPE Truth/NNP)\n",
            "  and/CC\n",
            "  (PERSON Right/NNP)\n",
            "  ./.\n",
            "  Say/NNP\n",
            "  goodbye/NN\n",
            "  to/TO\n",
            "  the/DT\n",
            "  (ORGANIZATION IMF/NNP)\n",
            "  once/RB\n",
            "  and/CC\n",
            "  for/IN\n",
            "  all/DT\n",
            "  as/IN\n",
            "  the/DT\n",
            "  (ORGANIZATION IMF/NNP)\n",
            "  's/POS\n",
            "  conditions/NNS\n",
            "  enriches/VBZ\n",
            "  the/DT\n",
            "  rich/JJ\n",
            "  and/CC\n",
            "  impoverishes/VBZ\n",
            "  the/DT\n",
            "  poor/JJ\n",
            "  ./.\n",
            "  Good/JJ\n",
            "  deeds/NNS\n",
            "  must/MD\n",
            "  be/VB\n",
            "  rewarded/VBN\n",
            "  by/IN\n",
            "  the/DT\n",
            "  system/NN\n",
            "  and/CC\n",
            "  crimes/NNS\n",
            "  be/VB\n",
            "  punished/VBN\n",
            "  -/:\n",
            "  this/DT\n",
            "  is/VBZ\n",
            "  the/DT\n",
            "  essence/NN\n",
            "  of/IN\n",
            "  meritocracy/NN\n",
            "  ./.\n",
            "  Prophet/NNP\n",
            "  (/(\n",
            "  (ORGANIZATION PBUH/NNP)\n",
            "  )/)\n",
            "  considered/VBD\n",
            "  the/DT\n",
            "  ink/NN\n",
            "  of/IN\n",
            "  a/DT\n",
            "  scholar/NN\n",
            "  to/TO\n",
            "  be/VB\n",
            "  holier/JJR\n",
            "  than/IN\n",
            "  the/DT\n",
            "  blood/NN\n",
            "  of/IN\n",
            "  a/DT\n",
            "  martyr/NN\n",
            "  ./.\n",
            "  Ethnic-based/JJ\n",
            "  politics/NNS\n",
            "  is/VBZ\n",
            "  being/VBG\n",
            "  used/VBN\n",
            "  to/TO\n",
            "  exhort/VB\n",
            "  people/NNS\n",
            "  ,/,\n",
            "  to/TO\n",
            "  serve/VB\n",
            "  own/JJ\n",
            "  ends/NNS\n",
            "  -/:\n",
            "  this/DT\n",
            "  is/VBZ\n",
            "  anathema/JJ\n",
            "  to/TO\n",
            "  concept/VB\n",
            "  of/IN\n",
            "  nationalism/NN\n",
            "  ./.\n",
            "  When/WRB\n",
            "  you/PRP\n",
            "  remove/VBP\n",
            "  the/DT\n",
            "  concept/NN\n",
            "  of/IN\n",
            "  reward/NN\n",
            "  and/CC\n",
            "  punishment/NN\n",
            "  on/IN\n",
            "  merit/NN\n",
            "  ,/,\n",
            "  the/DT\n",
            "  result/NN\n",
            "  is/VBZ\n",
            "  the/DT\n",
            "  utter/JJ\n",
            "  destruction/NN\n",
            "  of/IN\n",
            "  social/JJ\n",
            "  fabric/NN\n",
            "  ./.\n",
            "  I/PRP\n",
            "  wanted/VBD\n",
            "  to/TO\n",
            "  be/VB\n",
            "  an/DT\n",
            "  outstanding/JJ\n",
            "  player/NN\n",
            "  ,/,\n",
            "  that/WDT\n",
            "  was/VBD\n",
            "  my/PRP$\n",
            "  ambition/NN\n",
            "  ./.\n",
            "  When/WRB\n",
            "  I/PRP\n",
            "  announced/VBD\n",
            "  my/PRP$\n",
            "  party/NN\n",
            "  ,/,\n",
            "  Tehreek-e-Insaf/NNP\n",
            "  (/(\n",
            "  (ORGANIZATION Movement/NNP)\n",
            "  for/IN\n",
            "  (ORGANIZATION Justice/NNP)\n",
            "  )/)\n",
            "  on/IN\n",
            "  25/CD\n",
            "  April/NNP\n",
            "  1996/CD\n",
            "  ,/,\n",
            "  I/PRP\n",
            "  had/VBD\n",
            "  lost/VBN\n",
            "  all/DT\n",
            "  fear/NN\n",
            "  of/IN\n",
            "  dying/VBG\n",
            "  ./.\n",
            "  A/DT\n",
            "  condemned/JJ\n",
            "  poor/JJ\n",
            "  man/NN\n",
            "  ,/,\n",
            "  if/IN\n",
            "  steals/NNS\n",
            "  to/TO\n",
            "  feed/VB\n",
            "  his/PRP$\n",
            "  starving/VBG\n",
            "  kid/NN\n",
            "  ,/,\n",
            "  is/VBZ\n",
            "  slammed/VBN\n",
            "  into/IN\n",
            "  prison/NN\n",
            "  ./.\n",
            "  Contrast/NN\n",
            "  this/DT\n",
            "  to/TO\n",
            "  a/DT\n",
            "  rich/JJ\n",
            "  man/NN\n",
            "  's/POS\n",
            "  crime/NN\n",
            "  ./.\n",
            "  الله/VB\n",
            "  (ORGANIZATION تعالی/JJ)\n",
            "  نے/NNP\n",
            "  انسان/NNP\n",
            "  کے/NNP\n",
            "  هاته/NNP\n",
            "  مین/NNP\n",
            "  نیت/NNP\n",
            "  اور/NNP\n",
            "  کوشش/NNP\n",
            "  دی/NNP\n",
            "  هے/NNP\n",
            "  کامیابی/NNP\n",
            "  وه/NNP\n",
            "  دیتا/NNP\n",
            "  هے/NNP\n",
            "  ./.\n",
            "  (PERSON Faith/NNP)\n",
            "  should/MD\n",
            "  be/VB\n",
            "  about/IN\n",
            "  encouraging/VBG\n",
            "  all/PDT\n",
            "  that/DT\n",
            "  is/VBZ\n",
            "  noble/JJ\n",
            "  in/IN\n",
            "  a/DT\n",
            "  human/JJ\n",
            "  being/VBG\n",
            "  ./.\n",
            "  Leader/NN\n",
            "  follows/VBZ\n",
            "  his/PRP$\n",
            "  ideology/NN\n",
            "  ,/,\n",
            "  (PERSON Leader/NNP)\n",
            "  does/VBZ\n",
            "  not/RB\n",
            "  follow/VB\n",
            "  his/PRP$\n",
            "  relatives/NNS\n",
            "  and/CC\n",
            "  friends/NNS\n",
            "  ./.\n",
            "  According/VBG\n",
            "  to/TO\n",
            "  the/DT\n",
            "  (ORGANIZATION UNDP/NNP)\n",
            "  (/(\n",
            "  (ORGANIZATION United/NNP Nations/NNP)\n",
            "  Development/NNP\n",
            "  Programme/NNP\n",
            "  )/)\n",
            "  ,/,\n",
            "  54/CD\n",
            "  per/IN\n",
            "  cent/NN\n",
            "  of/IN\n",
            "  (GPE Pakistanis/NNP)\n",
            "  face/VBP\n",
            "  'multi-dimentional/JJ\n",
            "  deprivation/NN\n",
            "  '/POS\n",
            "  ./.\n",
            "  meaning/VBG\n",
            "  they/PRP\n",
            "  lack/VBP\n",
            "  access/NN\n",
            "  to/TO\n",
            "  proper/VB\n",
            "  education/NN\n",
            "  and/CC\n",
            "  health/NN\n",
            "  facilities/NNS\n",
            "  and/CC\n",
            "  a/DT\n",
            "  decent/JJ\n",
            "  standard/NN\n",
            "  of/IN\n",
            "  living/NN\n",
            "  ./.\n",
            "  Almost/NNP\n",
            "  two-thirds/NNS\n",
            "  of/IN\n",
            "  the/DT\n",
            "  country/NN\n",
            "  lives/VBZ\n",
            "  on/IN\n",
            "  less/JJR\n",
            "  than/IN\n",
            "  (GSP US/NNP)\n",
            "  $/$\n",
            "  2/CD\n",
            "  a/DT\n",
            "  day/NN\n",
            "  and/CC\n",
            "  about/IN\n",
            "  40/CD\n",
            "  per/IN\n",
            "  cent/NN\n",
            "  of/IN\n",
            "  (GPE Pakistani/NNP)\n",
            "  children/NNS\n",
            "  suffer/VBP\n",
            "  from/IN\n",
            "  chronic/JJ\n",
            "  malnutrition/NN\n",
            "  ./.\n",
            "  How/WRB\n",
            "  can/MD\n",
            "  Pakistan/VB\n",
            "  be/VB\n",
            "  called/VBN\n",
            "  an/DT\n",
            "  (ORGANIZATION Islamic/NNP)\n",
            "  society/NN\n",
            "  ?/.\n",
            "  ./.\n",
            "  (PERSON Imran/NNP Khan/NNP)\n",
            "  says/VBZ\n",
            "  'End/VB\n",
            "  your/PRP$\n",
            "  ego/NN\n",
            "  ,/,\n",
            "  think/NN\n",
            "  of/IN\n",
            "  nation/NN\n",
            "  ./.\n",
            "  (PERSON Iqbal/NNP)\n",
            "  not/RB\n",
            "  only/RB\n",
            "  conceived/VBN\n",
            "  of/IN\n",
            "  a/DT\n",
            "  self-governing/JJ\n",
            "  (ORGANIZATION Muslim/NNP)\n",
            "  state/NN\n",
            "  ,/,\n",
            "  his/PRP$\n",
            "  passionate/JJ\n",
            "  voice/NN\n",
            "  awakened/VBD\n",
            "  and/CC\n",
            "  activated/VBD\n",
            "  (GPE Indian/JJ Muslims/NNP)\n",
            "  ,/,\n",
            "  motivating/VBG\n",
            "  them/PRP\n",
            "  not/RB\n",
            "  only/RB\n",
            "  to/TO\n",
            "  strive/VB\n",
            "  to/TO\n",
            "  free/VB\n",
            "  themselves/PRP\n",
            "  from/IN\n",
            "  the/DT\n",
            "  bondage/NN\n",
            "  of/IN\n",
            "  imperialism/NN\n",
            "  and/CC\n",
            "  colonialism/NN\n",
            "  ,/,\n",
            "  but/CC\n",
            "  also/RB\n",
            "  to/TO\n",
            "  challenge/VB\n",
            "  other/JJ\n",
            "  forms/NNS\n",
            "  of/IN\n",
            "  totalitarian/JJ\n",
            "  control/NN\n",
            "  ./.\n",
            "  Believing/VBG\n",
            "  fervently/RB\n",
            "  in/IN\n",
            "  human/JJ\n",
            "  equality/NN\n",
            "  and/CC\n",
            "  the/DT\n",
            "  right/NN\n",
            "  of/IN\n",
            "  human/JJ\n",
            "  beings/NNS\n",
            "  to/TO\n",
            "  dignity/NN\n",
            "  ,/,\n",
            "  justice/NN\n",
            "  and/CC\n",
            "  freedom/NN\n",
            "  ,/,\n",
            "  (PERSON Iqbal/NNP)\n",
            "  empowered/VBD\n",
            "  the/DT\n",
            "  dis-empowered/JJ\n",
            "  to/TO\n",
            "  stand/VB\n",
            "  up/RP\n",
            "  and/CC\n",
            "  be/VB\n",
            "  counted/VBN\n",
            "  ./.\n",
            "  Starting/VBG\n",
            "  a/DT\n",
            "  war/NN\n",
            "  is/VBZ\n",
            "  in/IN\n",
            "  our/PRP$\n",
            "  hands/NNS\n",
            "  ,/,\n",
            "  it/PRP\n",
            "  is/VBZ\n",
            "  easy/JJ\n",
            "  ./.\n",
            "  But/CC\n",
            "  ending/VBG\n",
            "  a/DT\n",
            "  war/NN\n",
            "  ,/,\n",
            "  that/WDT\n",
            "  is/VBZ\n",
            "  not/RB\n",
            "  in/IN\n",
            "  our/PRP$\n",
            "  hands/NNS\n",
            "  and/CC\n",
            "  no/DT\n",
            "  one/NN\n",
            "  knows/VBZ\n",
            "  what/WP\n",
            "  will/MD\n",
            "  happen/VB)\n"
          ],
          "name": "stdout"
        }
      ]
    },
    {
      "cell_type": "markdown",
      "metadata": {
        "id": "hz72P0bw1aJr"
      },
      "source": [
        "**21. Noun Detection:**"
      ]
    },
    {
      "cell_type": "code",
      "metadata": {
        "id": "Qvmsx6rL2Jh6",
        "colab": {
          "base_uri": "https://localhost:8080/"
        },
        "outputId": "74ac0785-2f5c-4331-969e-90ea7f589ea0"
      },
      "source": [
        "# One Way for all POS\r\n",
        "\r\n",
        "words = nltk.word_tokenize(all_quotes_string)\r\n",
        "tagged_words = nltk.pos_tag(words)\r\n",
        "tagged_words\r\n",
        "\r\n",
        "# Second Way # Noun Detection\r\n",
        "blob = TextBlob(all_quotes_string)\r\n",
        "blob.tags\r\n",
        "blob.noun_phrases"
      ],
      "execution_count": 149,
      "outputs": [
        {
          "output_type": "execute_result",
          "data": {
            "text/plain": [
              "WordList(['never', 'hard life', 'pain', 'lack', 'main reason', 'pakistan', 'progressive nations', 'god', 'objection certificate', 'compromise', 'dream', 'never compromise', 'dream', 'great nation', 'pakistan', 'big crimes', 'public opinion', 'faith', 'prophet pbuh', 'justice system regardless', 'pak', 'mothers', 'speak truth', 'islam', 'islam', 'imran khan', 'historic lahore jalsa', 'ego ’ s', 'nation', 'poverty line', 'islamic', 'muhammad abduh', 'europe', 'egypt', 'muslims', 'europe', 'islam', \"homeland 'there\", 'muslims', 'islam', 'certain folks', 'sindh card', 'sindhi', 'allah', 'iqbal', \"'s work\", 'western democracy', 'islam', 'social justice', 'iqbal', \"'s interpretation\", 'islam', 'narrow meaning', 'iqbal', 'islam', 'certain beliefs', 'muslim', 'fundamental attitude', 'truth', 'allah', 'bravery', 'sensual pleasures', 'immoral war', 'vietnam', 'bombing villages', 'muslims', 'ilaaha ilalla', 'truth', 'right', 'say', 'imf', 'imf', \"'s conditions enriches\", 'good deeds', 'prophet', 'pbuh', 'ethnic-based', 'exhort people', 'own ends', 'utter destruction', 'social fabric', 'outstanding player', 'tehreek-e-insaf', 'movement', 'april', 'poor man', 'contrast', \"rich man 's crime\", 'الله تعالی نے انسان کے هاته مین نیت اور کوشش دی هے کامیابی وه دیتا هے', 'faith', 'according', 'undp', 'programme', \"'multi-dimentional deprivation\", 'lack access', 'proper education', 'health facilities', 'decent standard', 'us $', 'pakistani', 'children suffer', 'chronic malnutrition', 'pakistan', 'islamic', 'imran khan', 'iqbal', 'muslim', 'passionate voice', 'muslims', 'totalitarian control', 'believing', 'human equality', 'human beings', 'iqbal'])"
            ]
          },
          "metadata": {
            "tags": []
          },
          "execution_count": 149
        }
      ]
    },
    {
      "cell_type": "markdown",
      "metadata": {
        "id": "U6uuW5Bn2Jwu"
      },
      "source": [
        "**22. Language Detection:**"
      ]
    },
    {
      "cell_type": "code",
      "metadata": {
        "id": "USyvsVJHcBDk"
      },
      "source": [
        "from nltk import wordpunct_tokenize\r\n",
        "wordpunct_tokenize(all_quotes_string)\r\n",
        "\r\n",
        "from nltk.corpus import stopwords\r\n",
        "stopwords.fileids()\r\n",
        "stopwords.words('english')\r\n",
        "\r\n",
        "languages_ratios = {}\r\n",
        "tokens = wordpunct_tokenize(all_quotes_string)\r\n",
        "words = [word.lower() for word in tokens]"
      ],
      "execution_count": 150,
      "outputs": []
    },
    {
      "cell_type": "code",
      "metadata": {
        "id": "hLnbNeFJZ8I2"
      },
      "source": [
        "for language in stopwords.fileids():\r\n",
        "  stopwords_set = set(stopwords.words(language))\r\n",
        "  words_set = set(words)\r\n",
        "  common_elements = words_set.intersection(stopwords_set)\r\n",
        "  languages_ratios[language] = len(common_elements) # language \"score\"\r\n",
        "  \r\n",
        "# languages_ratios\r\n",
        "\r\n",
        "most_rated_language = max(languages_ratios, key=languages_ratios.get)"
      ],
      "execution_count": 151,
      "outputs": []
    },
    {
      "cell_type": "code",
      "metadata": {
        "colab": {
          "base_uri": "https://localhost:8080/",
          "height": 35
        },
        "id": "vmex4FzbZ8QN",
        "outputId": "d7fcbe1f-d2cb-4d4c-88e3-c70595ffa6ea"
      },
      "source": [
        "most_rated_language"
      ],
      "execution_count": 152,
      "outputs": [
        {
          "output_type": "execute_result",
          "data": {
            "application/vnd.google.colaboratory.intrinsic+json": {
              "type": "string"
            },
            "text/plain": [
              "'english'"
            ]
          },
          "metadata": {
            "tags": []
          },
          "execution_count": 152
        }
      ]
    },
    {
      "cell_type": "markdown",
      "metadata": {
        "id": "jVzav9IB2Ke8"
      },
      "source": [
        "**23. Sentence Translation (English to Urdu):**"
      ]
    },
    {
      "cell_type": "code",
      "metadata": {
        "id": "_Kchvymf2K5W"
      },
      "source": [
        "from textblob import TextBlob"
      ],
      "execution_count": 153,
      "outputs": []
    },
    {
      "cell_type": "code",
      "metadata": {
        "id": "hdkBs_Gqh2kr"
      },
      "source": [
        "# blob = TextBlob(all_quotes_string)\r\n",
        "# blob.tags\r\n",
        "# blob.noun_phrases\r\n",
        "# for sentence in blob.sentences:\r\n",
        "#     print(sentence.sentiment.polarity)"
      ],
      "execution_count": 154,
      "outputs": []
    },
    {
      "cell_type": "code",
      "metadata": {
        "id": "yMpGY1OKh2w_"
      },
      "source": [
        "blob = TextBlob(all_quotes_string)"
      ],
      "execution_count": 155,
      "outputs": []
    },
    {
      "cell_type": "code",
      "metadata": {
        "colab": {
          "base_uri": "https://localhost:8080/"
        },
        "id": "eoIFZQY8h21f",
        "outputId": "18950ee2-3ec2-4ace-890d-43e094de0256"
      },
      "source": [
        "blob.detect_language"
      ],
      "execution_count": 156,
      "outputs": [
        {
          "output_type": "execute_result",
          "data": {
            "text/plain": [
              "<bound method BaseBlob.detect_language of TextBlob(\"It is not defeat that destroys you, it is being demoralized by defeat that destroy you. The more you study, the more you know; how less you know. I have always believed that one should not be scared of losing, I think that really is the key. Never give up, no matter how hard life gets no matter how much pain you feel. Pain will eventually subside, nothing remains forever, so keep going and don't give up. Lack of rule of law is the main reason Pakistan could not join the ranks of progressive nations. Are we Pakistanis, children of a lesser God? Is there one law for the west and one for us? Is our democracy supposed to be only democracy if you give us a no objection certificate?. Compromise for your Dream but NEVER Compromise on your Dream. We must speak the truth if we are to be a great nation. Crime should not pay, it must be punished. Unfortunately, in Pakistan big crimes do get rewarded. Leader leads people. Leader does not follow public opinion. Faith without wisdom and knowledge could produce bigots completely lacking in compassion and tolerance. Holy Prophet PBUH promulgated a justice system regardless of status of people, yet in Pak the powerful easily escapes. Mothers train your children to only Speak Truth. There is so much debate about moderate and radical Islam but there is only one Islam. Imran Khan asked Pakistanis of four things at the Historic Lahore Jalsa. We shall never lie and always speak the truth. Leave our ego’s behind and only think of this Nation, there are 11 crore Pakistanis living beneath poverty line. We shall be brave and break the shackles of fear. We have to bring Justice to this society, even if our friends and relatives do injustice, we shall be fair and bring them to Justice. I felt like the Islamic scholar Muhammad Abduh (1849-1905), who said on his return from a trip to Europe to his homeland Egypt 'I saw no Muslims in Europe but I saw a lot of Islam, ' and of his homeland 'There are a lot of Muslims here but no Islam. Certain folks start playing Sindh Card despite having ravaged the life of the common Sindhi. My Pakistanis, you have not left me alone and I promise, I will never leave you alone in sha Allah. When I was older, I found Iqbal's work hugely inspirational. He argued against an unquestioning acceptance of Western democracy as the self-governing model, and instead suggested that by following the rules of Islam a society would tend naturally towards social justice, tolerance, peace and equality. Iqbal's interpretation of Islam differs very widely from the narrow meaning that is sometimes given to it. For Iqbal, Islam is not just the name for certain beliefs and forms of worship. The difference between a Muslim and a non-Muslim is not merely a theological one - it is a difference of a fundamental attitude towards life. Truth is the power that will resolve our problems. Allah exalts whom he wills!. Bravery is standing with the truth and right. There are greater goals in life than material and sensual pleasures. The war on terror is the most insane and immoral war of all time. The Americans are doing what they did in Vietnam, bombing villages. But how can a civilised nation do this? How can you can eliminate suspects, their wives, their children, their families, their neighbours? How can you justify this?. I want you all to stand like the Muslims who stood with La ilaaha ilalla for Truth and Right. Say goodbye to the IMF once and for all as the IMF's conditions enriches the rich and impoverishes the poor. Good deeds must be rewarded by the system and crimes be punished - this is the essence of meritocracy. Prophet (PBUH) considered the ink of a scholar to be holier than the blood of a martyr. Ethnic-based politics is being used to exhort people, to serve own ends - this is anathema to concept of nationalism. When you remove the concept of reward and punishment on merit, the result is the utter destruction of social fabric. I wanted to be an outstanding player, that was my ambition. When I announced my party, Tehreek-e-Insaf (Movement for Justice) on 25 April 1996, I had lost all fear of dying. A condemned poor man, if steals to feed his starving kid, is slammed into prison. Contrast this to a rich man's crime. الله تعالی نے انسان کے هاته مین نیت اور کوشش دی هے کامیابی وه دیتا هے. Faith should be about encouraging all that is noble in a human being. Leader follows his ideology, Leader does not follow his relatives and friends. According to the UNDP (United Nations Development Programme), 54 per cent of Pakistanis face 'multi-dimentional deprivation'. meaning they lack access to proper education and health facilities and a decent standard of living. Almost two-thirds of the country lives on less than US$2 a day and about 40 per cent of Pakistani children suffer from chronic malnutrition. How can Pakistan be called an Islamic society?. Imran Khan says 'End your ego, think of nation. Iqbal not only conceived of a self-governing Muslim state, his passionate voice awakened and activated Indian Muslims, motivating them not only to strive to free themselves from the bondage of imperialism and colonialism, but also to challenge other forms of totalitarian control. Believing fervently in human equality and the right of human beings to dignity, justice and freedom, Iqbal empowered the dis-empowered to stand up and be counted. Starting a war is in our hands, it is easy. But ending a war, that is not in our hands and no one knows what will happen\")>"
            ]
          },
          "metadata": {
            "tags": []
          },
          "execution_count": 156
        }
      ]
    },
    {
      "cell_type": "code",
      "metadata": {
        "colab": {
          "base_uri": "https://localhost:8080/"
        },
        "id": "eDRVZZ66k0FJ",
        "outputId": "ca7b385b-4bd8-4478-fca3-a6ec3d822e7f"
      },
      "source": [
        "print(blob.translate(to = 'ur'))"
      ],
      "execution_count": 157,
      "outputs": [
        {
          "output_type": "stream",
          "text": [
            "یہ شکست نہیں ہے جو آپ کو تباہ کرتی ہے ، شکست کے ذریعہ اس کا دیدار کیا جارہا ہے جو آپ کو تباہ کرتا ہے۔ آپ جتنا زیادہ مطالعہ کریں گے ، اتنا ہی آپ جانتے ہو گے۔ تم کتنا کم جانتے ہو میں نے ہمیشہ یقین کیا ہے کہ ہارنے سے کسی کو خوفزدہ نہیں ہونا چاہئے ، مجھے لگتا ہے کہ واقعی اس کی کلید ہے۔ کبھی بھی ہمت نہیں ہارتے ، چاہے زندگی کتنی ہی مشکل سے دوچار ہوجائے ، چاہے آپ کتنا ہی درد محسوس کریں۔ آخر کار درد کم ہوجائے گا ، کچھ بھی ہمیشہ کے لئے باقی نہیں رہتا ہے ، لہذا چلتے رہیں اور ہار نہیں مانتے ہیں۔ قانون کی حکمرانی کا فقدان اس کی بنیادی وجہ ہے کہ پاکستان ترقی پسند اقوام کی صف میں شامل نہیں ہوسکا۔ کیا ہم پاکستانی ، کم خدا کے بچے ہیں؟ کیا مغرب کے لئے ایک قانون ہے اور ہمارے لئے ایک؟ اگر آپ ہمیں کوئی اعتراض سرٹیفکیٹ دیتے ہیں تو کیا ہماری جمہوریت صرف جمہوریت ہی سمجھی جاتی ہے؟ اپنے خواب کیلئے سمجھوتہ کریں لیکن اپنے خواب پر کبھی سمجھوتہ نہیں کریں۔ اگر ہمیں ایک عظیم قوم بننا ہے تو ہمیں سچ بولنا چاہئے۔ جرم نہیں ادا کرنا چاہئے ، اسے سزا ضرور ملنی چاہئے۔ بدقسمتی سے ، پاکستان میں بڑے جرائم کا بدلہ ملتا ہے۔ قائد لوگوں کی رہنمائی کرتا ہے۔ قائد عوام کی رائے پر عمل نہیں کرتا ہے۔ عقلمندی اورعلم کے بغیر ایمان بڑے پیمانے پر پیدا کرسکتا ہے جس میں ہمدردی اور رواداری کا مکمل فقدان ہے۔ حضور اکرمB نے لوگوں کی حیثیت سے قطع نظر ایک نظام عدل کا آغاز کیا ، پھر بھی پاک میں طاقتور آسانی سے فرار ہوجاتا ہے۔ مائیں آپ کے بچوں کو صرف سچ بولنے کے لئے تربیت دیتی ہیں۔ اعتدال پسند اور بنیاد پرست اسلام کے بارے میں بہت بحث ہے لیکن صرف ایک ہی اسلام ہے۔ تاریخی لاہور جلسہ میں عمران خان نے پاکستانیوں سے چار چیزیں پوچھیں۔ ہم کبھی بھی جھوٹ نہیں بولیں گے اور ہمیشہ سچ بولیں گے۔ اپنی انا کو پیچھے چھوڑ دو اور صرف اس قوم کے بارے میں سوچو ، یہاں 11 کروڑ پاکستانی غربت کی لکیر کے نیچے زندگی گزار رہے ہیں۔ ہم بہادر اور خوف کے طوق کو توڑ دیں گے۔ ہمیں اس معاشرے میں انصاف دلانا ہے ، چاہے ہمارے دوست اور رشتے دار ناانصافی کریں ، ہم انصاف کریں گے اور انہیں انصاف کے کٹہرے میں لائیں گے۔ میں نے اس عالم دین محمد عبدو (1849-1905) کی طرح محسوس کیا ، جس نے اپنے وطن مصر سے یورپ کے سفر پر واپسی پر کہا تھا کہ 'میں نے یورپ میں کوئی مسلمان نہیں دیکھا ، لیکن میں نے بہت سارے اسلام کو دیکھا ،' اور اس کے آبائی وطن کو بھی وہاں دیکھا۔ یہاں بہت سارے مسلمان ہیں لیکن اسلام نہیں۔ عام لوگ سندھی کی زندگی کو تباہ کرنے کے باوجود کچھ لوگ سندھ کارڈ کھیلنا شروع کردیتے ہیں۔ میرے پاکستانیو ، آپ نے مجھے اکیلا نہیں چھوڑا اور میں وعدہ کرتا ہوں ، ان شاء اللہ میں آپ کو کبھی تنہا نہیں چھوڑوں گا۔ جب میں بڑی عمر میں ہوا تو مجھے اقبال کا کام بہت متاثر کن ملا۔ انہوں نے مغربی جمہوریہ کو خود ساختہ ماڈل کی حیثیت سے بلاجواز قبول کرنے کے خلاف بحث کی ، اور اس کے بجائے یہ تجویز کیا کہ اسلام کے اصولوں پر عمل پیرا ہوکر ایک معاشرتی فطری طور پر معاشرتی انصاف ، رواداری ، امن اور مساوات کی طرف راغب ہوگا۔ اقبال کی اسلام کی تشریح اس تنگ معنی سے بہت وسیع ہے جو کبھی کبھی اسے دی جاتی ہے۔ اقبال کے نزدیک اسلام صرف مخصوص عقائد اور عبادت کی شکلوں کا نام نہیں ہے۔ ایک مسلمان اور غیر مسلم کے مابین فرق محض ایک مذہبی نہیں ہے - یہ زندگی کے بارے میں بنیادی روی attitudeے کا فرق ہے۔ سچائی وہ طاقت ہے جو ہمارے مسائل کو حل کرے گی۔ اللہ جسے چاہے بلند کرتا ہے۔ بہادری سچ اور حق کے ساتھ کھڑی ہے۔ زندگی میں مادی اور جنسی لذتوں سے زیادہ اہداف ہیں۔ دہشت گردی کے خلاف جنگ اب تک کی سب سے زیادہ پاگل اور غیر اخلاقی جنگ ہے۔ امریکی ویتنام میں ، گاؤں پر بمباری کرتے ہوئے ، وہی کر رہے ہیں۔ لیکن ایک مہذب قوم یہ کیسے کرسکتی ہے؟ آپ مشتبہ افراد ، ان کی بیویوں ، ان کے بچوں ، ان کے کنبہ ، ان کے پڑوسیوں کو کیسے ختم کرسکتے ہیں؟ آپ اس کا جواز کیسے پیش کرسکتے ہیں؟ میں چاہتا ہوں کہ آپ سبھی ان مسلمانوں کی طرح کھڑے ہوں جو حق اور حق کے ل La لا الہ الا اللہ کے ساتھ کھڑے ہوئے ہیں۔ ایک بار اور سب کے لئے آئی ایم ایف کو الوداع کہو کیونکہ آئی ایم ایف کے حالات امیروں کو مالدار بناتے ہیں اور غریبوں کو غریب کردیتے ہیں۔ نیک اعمال کا بدلہ سسٹم سے ملنا چاہئے اور جرائم کی سزا دی جانی چاہئے۔ یہی خوبی کا جوہر ہے۔ نبی اکرم (صلی اللہ علیہ وآلہ وسلم) کسی عالم کی سیاہی کو شہید کے خون سے زیادہ تقویت بخش سمجھتے تھے۔ نسلی بنیاد پر مبنی سیاست لوگوں کو نصیحت کرنے ، اپنے مفادات کی خدمت کرنے کے لئے استعمال کی جارہی ہے۔ یہ بات قوم پرستی کے تصور کی نوید ہے۔ جب آپ صلہ اور سزا کے تصور کو میرٹ پر ختم کرتے ہیں تو ، اس کا نتیجہ معاشرتی تانے بانے کی سراسر تباہی ہے۔ میں ایک بہترین کھلاڑی بننا چاہتا تھا ، یہی میری خواہش تھی۔ جب میں نے اپنی پارٹی ، تحریک انصاف (انصاف برائے انصاف) کا اعلان 25 اپریل 1996 کو کیا تھا ، تو میں مرنے کے سارے خوف سے محروم ہو گیا تھا۔ ایک غریب آدمی ، اگر اپنے بھوک سے بچ kidے کو کھانا کھلانے کے لئے چوری کرتا ہے تو ، اس کو جیل بھیج دیا جاتا ہے۔ ایک امیر آدمی کے جرم سے اس کا موازنہ کریں۔ اللہ تعالٰی انسانوں کے ہیٹ مینوں کی نیت اور کوشش کرتے ہیں۔ ایمان انسان کی ہر چیز کی ترغیب دینے کے بارے میں ہونا چاہئے۔ قائد اپنے نظریے پر چلتا ہے ، قائد اپنے رشتہ داروں اور دوستوں کی پیروی نہیں کرتا ہے۔ یو این ڈی پی (اقوام متحدہ کے ترقیاتی پروگرام) کے مطابق ، 54 فیصد پاکستانیوں کو 'کثیر جہتی محرومیوں' کا سامنا ہے۔ مطلب یہ ہے کہ ان تک مناسب تعلیم اور صحت کی سہولیات اور ایک اچھ standardی معیار زندگی تک رسائی نہیں ہے۔ ملک کے تقریبا دوتہائی افراد روزانہ 2 امریکی ڈالر سے بھی کم کی زندگی گزارتے ہیں اور تقریبا 40 فیصد پاکستانی بچے دائمی غذائی قلت کا شکار ہیں۔ پاکستان کو اسلامی معاشرہ کیسے کہا جاسکتا ہے؟ عمران خان کہتے ہیں 'اپنی انا کو ختم کرو ، قوم کا سوچو۔ اقبال نے نہ صرف ایک خود مختار مسلم ریاست کا تصور کیا ، ان کی جذباتی آواز نے ہندوستانی مسلمانوں کو بیدار اور متحرک کیا ، جس نے انہیں نہ صرف خود کو سامراج اور استعمار کے غلامی سے آزاد کرنے کی جدوجہد کرنے کے لئے متحرک کیا ، بلکہ اسے مطلق العنان کنٹرول کی دوسری شکلوں کو بھی چیلنج کرنے کے لئے متحرک کیا۔ انسانی مساوات اور انسانیت کے وقار ، انصاف اور آزادی کے حق پر بھرپور یقین رکھتے ہوئے ، اقبال نے نااہل ہونے والے افراد کو کھڑے ہونے اور گننے کی طاقت دی۔ جنگ شروع کرنا ہمارے ہاتھ میں ہے ، یہ آسان ہے۔ لیکن ایک جنگ کا خاتمہ ، جو ہمارے ہاتھ میں نہیں ہے اور کوئی نہیں جانتا ہے کہ کیا ہوگا\n"
          ],
          "name": "stdout"
        }
      ]
    },
    {
      "cell_type": "markdown",
      "metadata": {
        "id": "nNRsRxO9xN3W"
      },
      "source": [
        "**24. Sentiment of the quote:**"
      ]
    },
    {
      "cell_type": "code",
      "metadata": {
        "id": "3dvtzqz02cUE",
        "colab": {
          "base_uri": "https://localhost:8080/"
        },
        "outputId": "ea1b75ab-7200-4af5-bc88-4021e1ff53cb"
      },
      "source": [
        "print(blob)\r\n",
        "blob.sentiment"
      ],
      "execution_count": 158,
      "outputs": [
        {
          "output_type": "stream",
          "text": [
            "It is not defeat that destroys you, it is being demoralized by defeat that destroy you. The more you study, the more you know; how less you know. I have always believed that one should not be scared of losing, I think that really is the key. Never give up, no matter how hard life gets no matter how much pain you feel. Pain will eventually subside, nothing remains forever, so keep going and don't give up. Lack of rule of law is the main reason Pakistan could not join the ranks of progressive nations. Are we Pakistanis, children of a lesser God? Is there one law for the west and one for us? Is our democracy supposed to be only democracy if you give us a no objection certificate?. Compromise for your Dream but NEVER Compromise on your Dream. We must speak the truth if we are to be a great nation. Crime should not pay, it must be punished. Unfortunately, in Pakistan big crimes do get rewarded. Leader leads people. Leader does not follow public opinion. Faith without wisdom and knowledge could produce bigots completely lacking in compassion and tolerance. Holy Prophet PBUH promulgated a justice system regardless of status of people, yet in Pak the powerful easily escapes. Mothers train your children to only Speak Truth. There is so much debate about moderate and radical Islam but there is only one Islam. Imran Khan asked Pakistanis of four things at the Historic Lahore Jalsa. We shall never lie and always speak the truth. Leave our ego’s behind and only think of this Nation, there are 11 crore Pakistanis living beneath poverty line. We shall be brave and break the shackles of fear. We have to bring Justice to this society, even if our friends and relatives do injustice, we shall be fair and bring them to Justice. I felt like the Islamic scholar Muhammad Abduh (1849-1905), who said on his return from a trip to Europe to his homeland Egypt 'I saw no Muslims in Europe but I saw a lot of Islam, ' and of his homeland 'There are a lot of Muslims here but no Islam. Certain folks start playing Sindh Card despite having ravaged the life of the common Sindhi. My Pakistanis, you have not left me alone and I promise, I will never leave you alone in sha Allah. When I was older, I found Iqbal's work hugely inspirational. He argued against an unquestioning acceptance of Western democracy as the self-governing model, and instead suggested that by following the rules of Islam a society would tend naturally towards social justice, tolerance, peace and equality. Iqbal's interpretation of Islam differs very widely from the narrow meaning that is sometimes given to it. For Iqbal, Islam is not just the name for certain beliefs and forms of worship. The difference between a Muslim and a non-Muslim is not merely a theological one - it is a difference of a fundamental attitude towards life. Truth is the power that will resolve our problems. Allah exalts whom he wills!. Bravery is standing with the truth and right. There are greater goals in life than material and sensual pleasures. The war on terror is the most insane and immoral war of all time. The Americans are doing what they did in Vietnam, bombing villages. But how can a civilised nation do this? How can you can eliminate suspects, their wives, their children, their families, their neighbours? How can you justify this?. I want you all to stand like the Muslims who stood with La ilaaha ilalla for Truth and Right. Say goodbye to the IMF once and for all as the IMF's conditions enriches the rich and impoverishes the poor. Good deeds must be rewarded by the system and crimes be punished - this is the essence of meritocracy. Prophet (PBUH) considered the ink of a scholar to be holier than the blood of a martyr. Ethnic-based politics is being used to exhort people, to serve own ends - this is anathema to concept of nationalism. When you remove the concept of reward and punishment on merit, the result is the utter destruction of social fabric. I wanted to be an outstanding player, that was my ambition. When I announced my party, Tehreek-e-Insaf (Movement for Justice) on 25 April 1996, I had lost all fear of dying. A condemned poor man, if steals to feed his starving kid, is slammed into prison. Contrast this to a rich man's crime. الله تعالی نے انسان کے هاته مین نیت اور کوشش دی هے کامیابی وه دیتا هے. Faith should be about encouraging all that is noble in a human being. Leader follows his ideology, Leader does not follow his relatives and friends. According to the UNDP (United Nations Development Programme), 54 per cent of Pakistanis face 'multi-dimentional deprivation'. meaning they lack access to proper education and health facilities and a decent standard of living. Almost two-thirds of the country lives on less than US$2 a day and about 40 per cent of Pakistani children suffer from chronic malnutrition. How can Pakistan be called an Islamic society?. Imran Khan says 'End your ego, think of nation. Iqbal not only conceived of a self-governing Muslim state, his passionate voice awakened and activated Indian Muslims, motivating them not only to strive to free themselves from the bondage of imperialism and colonialism, but also to challenge other forms of totalitarian control. Believing fervently in human equality and the right of human beings to dignity, justice and freedom, Iqbal empowered the dis-empowered to stand up and be counted. Starting a war is in our hands, it is easy. But ending a war, that is not in our hands and no one knows what will happen\n"
          ],
          "name": "stdout"
        },
        {
          "output_type": "execute_result",
          "data": {
            "text/plain": [
              "Sentiment(polarity=0.11645068027210885, subjectivity=0.5327857142857143)"
            ]
          },
          "metadata": {
            "tags": []
          },
          "execution_count": 158
        }
      ]
    }
  ]
}